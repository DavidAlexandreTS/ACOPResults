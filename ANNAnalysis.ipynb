{
 "cells": [
  {
   "cell_type": "markdown",
   "metadata": {},
   "source": [
    "# Imports and dataset loading"
   ]
  },
  {
   "cell_type": "code",
   "execution_count": 7,
   "metadata": {
    "scrolled": true
   },
   "outputs": [],
   "source": [
    "import numpy as np\n",
    "import matplotlib.pyplot as plt\n",
    "import math\n",
    "from sklearn.preprocessing import MinMaxScaler\n",
    "from sklearn.neural_network import MLPRegressor\n",
    "from keras.layers import Dense\n",
    "\n",
    "import pandas as pd\n",
    "\n",
    "layerArray = [2, 4, 8, 16, 32]\n",
    "gainArray  = []\n",
    "lossArray  = []\n",
    "\n",
    "originalDataSet = pd.read_csv('dataset', sep=',',header = None)\n",
    "scaler = MinMaxScaler()\n",
    "\n",
    "def loadDataset():    \n",
    "    scaler.fit(originalDataSet.sample(frac=1).values.reshape(-1, 1))\n",
    "    dataSet = scaler.transform(originalDataSet.values) \n",
    "    \n",
    "    features, result = np.array(dataSet[:, :4]), np.array(dataSet[:, 4:])\n",
    "    return features, result\n",
    "\n",
    "def invertNorm(value):\n",
    "    auxArray = np.array([value, 0, 0, 0, 0, 0]).reshape(-1, 1)\n",
    "    return scaler.inverse_transform(auxArray)[0][0]\n",
    "    \n",
    "def getError(value1, value2):\n",
    "    return abs(invertNorm(value1) - invertNorm(value2))"
   ]
  },
  {
   "cell_type": "markdown",
   "metadata": {},
   "source": [
    "# Cross validation function"
   ]
  },
  {
   "cell_type": "code",
   "execution_count": 8,
   "metadata": {},
   "outputs": [],
   "source": [
    "def crossValidate(regressor, layers, features, result, folds = 5):\n",
    "    foldSize   = math.ceil(features.shape[0] / folds)\n",
    "    gainErrors = []\n",
    "    lossErrors = []\n",
    "    \n",
    "    for i in range(folds): \n",
    "        sliceBegin = i * foldSize\n",
    "        sliceEnd   = (i + 1) * foldSize\n",
    "        \n",
    "        X_train = np.delete(features, np.s_[sliceBegin: sliceEnd], 0)\n",
    "        y_train = np.delete(result, np.s_[sliceBegin: sliceEnd], 0)\n",
    "        \n",
    "        regressor.fit(X_train, y_train)    \n",
    "            \n",
    "        X_test = features[sliceBegin: sliceEnd]\n",
    "        y_test = result[sliceBegin: sliceEnd]\n",
    "        \n",
    "        gainError = 0\n",
    "        lossError = 0\n",
    "        \n",
    "        prediction = regressor.predict(X_test)\n",
    "        \n",
    "        for predicted, expected in zip(prediction, y_test):\n",
    "            gainError += getError(predicted[0], expected[0])\n",
    "            lossError += getError(predicted[1], expected[1])\n",
    "            \n",
    "        gainErrors.append(gainError / foldSize)\n",
    "        lossErrors.append(lossError / foldSize)\n",
    "\n",
    "        #regressor = setANN(layers)\n",
    "\n",
    "    return np.array(gainErrors), np.array(lossErrors)"
   ]
  },
  {
   "cell_type": "code",
   "execution_count": 9,
   "metadata": {
    "scrolled": false
   },
   "outputs": [],
   "source": [
    "def trainModel(strategy, layers):    \n",
    "    features, result       = loadDataset()\n",
    "    gainErrors, lossErrors = crossValidate(strategy, layers, features, result)\n",
    "\n",
    "    print(gainErrors, \"=> %0.2f (+/- %0.2f)\" % (np.mean(gainErrors), gainErrors.std() * 2))\n",
    "    print(lossErrors, \"=> %0.2f (+/- %0.2f)\" % (np.mean(lossErrors), lossErrors.std() * 2))\n",
    "    print()\n",
    "    \n",
    "    gainArray.append(np.mean(gainErrors))\n",
    "    lossArray.append(np.mean(lossErrors))\n",
    "\n",
    "def setSequential(layers):\n",
    "    model = Sequential()\n",
    "    \n",
    "    model.add(Dense(4, input_dim = 4, kernel_initializer = 'normal', activation = 'sigmoid'))\n",
    "    \n",
    "    if layers == 2:\n",
    "        model.add(Dense(8, kernel_initializer = 'normal', activation = 'sigmoid'))\n",
    "        model.add(Dense(8, kernel_initializer = 'normal', activation = 'sigmoid'))\n",
    "    elif layers == 4:\n",
    "        model.add(Dense(8, kernel_initializer = 'normal', activation = 'sigmoid'))\n",
    "        model.add(Dense(16, kernel_initializer = 'normal', activation = 'sigmoid'))\n",
    "        model.add(Dense(8, kernel_initializer = 'normal', activation = 'sigmoid'))\n",
    "        model.add(Dense(4, kernel_initializer = 'normal', activation = 'sigmoid'))  \n",
    "    elif layers == 8:\n",
    "        model.add(Dense(8, kernel_initializer = 'normal', activation = 'sigmoid'))\n",
    "        model.add(Dense(16, kernel_initializer = 'normal', activation = 'sigmoid'))\n",
    "        model.add(Dense(32, kernel_initializer = 'normal', activation = 'sigmoid'))\n",
    "        model.add(Dense(64, kernel_initializer = 'normal', activation = 'sigmoid'))  \n",
    "        model.add(Dense(32, kernel_initializer = 'normal', activation = 'sigmoid'))\n",
    "        model.add(Dense(16, kernel_initializer = 'normal', activation = 'sigmoid'))\n",
    "        model.add(Dense(8, kernel_initializer = 'normal', activation = 'sigmoid'))\n",
    "        model.add(Dense(4, kernel_initializer = 'normal', activation = 'sigmoid')) \n",
    "    elif layers == 16:\n",
    "        model.add(Dense(8, kernel_initializer = 'normal', activation = 'sigmoid'))\n",
    "        model.add(Dense(16, kernel_initializer = 'normal', activation = 'sigmoid'))\n",
    "        model.add(Dense(16, kernel_initializer = 'normal', activation = 'sigmoid'))\n",
    "        model.add(Dense(32, kernel_initializer = 'normal', activation = 'sigmoid'))  \n",
    "        model.add(Dense(32, kernel_initializer = 'normal', activation = 'sigmoid'))\n",
    "        model.add(Dense(64, kernel_initializer = 'normal', activation = 'sigmoid'))\n",
    "        model.add(Dense(64, kernel_initializer = 'normal', activation = 'sigmoid'))\n",
    "        model.add(Dense(64, kernel_initializer = 'normal', activation = 'sigmoid')) \n",
    "        model.add(Dense(64, kernel_initializer = 'normal', activation = 'sigmoid'))\n",
    "        model.add(Dense(32, kernel_initializer = 'normal', activation = 'sigmoid'))\n",
    "        model.add(Dense(32, kernel_initializer = 'normal', activation = 'sigmoid'))\n",
    "        model.add(Dense(16, kernel_initializer = 'normal', activation = 'sigmoid'))  \n",
    "        model.add(Dense(16, kernel_initializer = 'normal', activation = 'sigmoid'))\n",
    "        model.add(Dense(8, kernel_initializer = 'normal', activation = 'sigmoid'))\n",
    "        model.add(Dense(8, kernel_initializer = 'normal', activation = 'sigmoid'))\n",
    "        model.add(Dense(4, kernel_initializer = 'normal', activation = 'sigmoid'))\n",
    "    else:\n",
    "        model.add(Dense(8, kernel_initializer = 'normal', activation = 'sigmoid'))\n",
    "        model.add(Dense(8, kernel_initializer = 'normal', activation = 'sigmoid'))\n",
    "        model.add(Dense(16, kernel_initializer = 'normal', activation = 'sigmoid'))\n",
    "        model.add(Dense(16, kernel_initializer = 'normal', activation = 'sigmoid'))\n",
    "        model.add(Dense(16, kernel_initializer = 'normal', activation = 'sigmoid'))\n",
    "        model.add(Dense(16, kernel_initializer = 'normal', activation = 'sigmoid'))\n",
    "        model.add(Dense(32, kernel_initializer = 'normal', activation = 'sigmoid'))  \n",
    "        model.add(Dense(32, kernel_initializer = 'normal', activation = 'sigmoid'))\n",
    "        model.add(Dense(32, kernel_initializer = 'normal', activation = 'sigmoid'))  \n",
    "        model.add(Dense(32, kernel_initializer = 'normal', activation = 'sigmoid'))\n",
    "        model.add(Dense(64, kernel_initializer = 'normal', activation = 'sigmoid'))\n",
    "        model.add(Dense(64, kernel_initializer = 'normal', activation = 'sigmoid'))\n",
    "        model.add(Dense(64, kernel_initializer = 'normal', activation = 'sigmoid')) \n",
    "        model.add(Dense(64, kernel_initializer = 'normal', activation = 'sigmoid'))\n",
    "        model.add(Dense(128, kernel_initializer = 'normal', activation = 'sigmoid'))\n",
    "        model.add(Dense(128, kernel_initializer = 'normal', activation = 'sigmoid'))\n",
    "        model.add(Dense(128, kernel_initializer = 'normal', activation = 'sigmoid')) \n",
    "        model.add(Dense(128, kernel_initializer = 'normal', activation = 'sigmoid'))\n",
    "        model.add(Dense(64, kernel_initializer = 'normal', activation = 'sigmoid'))\n",
    "        model.add(Dense(64, kernel_initializer = 'normal', activation = 'sigmoid'))\n",
    "        model.add(Dense(64, kernel_initializer = 'normal', activation = 'sigmoid'))\n",
    "        model.add(Dense(64, kernel_initializer = 'normal', activation = 'sigmoid'))\n",
    "        model.add(Dense(32, kernel_initializer = 'normal', activation = 'sigmoid'))  \n",
    "        model.add(Dense(32, kernel_initializer = 'normal', activation = 'sigmoid'))\n",
    "        model.add(Dense(32, kernel_initializer = 'normal', activation = 'sigmoid'))\n",
    "        model.add(Dense(32, kernel_initializer = 'normal', activation = 'sigmoid'))\n",
    "        model.add(Dense(16, kernel_initializer = 'normal', activation = 'sigmoid'))\n",
    "        model.add(Dense(16, kernel_initializer = 'normal', activation = 'sigmoid'))\n",
    "        model.add(Dense(16, kernel_initializer = 'normal', activation = 'sigmoid'))\n",
    "        model.add(Dense(16, kernel_initializer = 'normal', activation = 'sigmoid'))\n",
    "        model.add(Dense(8, kernel_initializer = 'normal', activation = 'sigmoid'))\n",
    "        model.add(Dense(4, kernel_initializer = 'normal', activation = 'sigmoid')) \n",
    "    \n",
    "    model.add(Dense(2, kernel_initializer = 'normal', activation = 'sigmoid'))\n",
    "\n",
    "    # Compile model\n",
    "    model.compile(loss='mean_squared_error', optimizer='adam')\n",
    "    return model\n",
    "\n",
    "def setMLP(layers):\n",
    "    if layers == 2:\n",
    "        return MLPRegressor(hidden_layer_sizes = (8, 8), activation = 'identity', solver = 'lbfgs', learning_rate = 'constant', alpha = 0.001, random_state = 0)\n",
    "    \n",
    "    if layers == 4:\n",
    "        return MLPRegressor(hidden_layer_sizes = (8, 16, 8, 4), activation = 'identity', solver = 'lbfgs', learning_rate = 'constant', alpha = 0.001, random_state = 0)\n",
    "    \n",
    "    if layers == 8:\n",
    "        return MLPRegressor(hidden_layer_sizes = (8, 16, 32, 64, 32, 16, 8, 4), activation = 'identity', solver = 'lbfgs', learning_rate = 'constant', alpha = 0.001, random_state = 0)\n",
    "    \n",
    "    if layers == 16:\n",
    "        return MLPRegressor(hidden_layer_sizes = (8, 16, 16, 32, 32, 64, 64, 64, 64, 32, 32, 16, 16, 8, 8, 4), activation = 'identity', solver = 'lbfgs', learning_rate = 'constant', alpha = 0.001, random_state = 0)\n",
    "    \n",
    "    if layers == 32:\n",
    "        return MLPRegressor(hidden_layer_sizes = (8, 8, 16, 16, 16, 16, 32, 32, 32, 32, 64, 64, 64, 64, 128, 128, 128, 128, 64, 64, 64, 64, 32, 32, 32, 32, 16, 16, 16, 16, 8, 4), activation = 'identity', solver = 'lbfgs', learning_rate = 'constant', alpha = 0.001, random_state = 0)\n"
   ]
  },
  {
   "cell_type": "markdown",
   "metadata": {},
   "source": [
    "# Plotting functions"
   ]
  },
  {
   "cell_type": "code",
   "execution_count": 10,
   "metadata": {},
   "outputs": [],
   "source": [
    "def plotGainError():\n",
    "    fig7, axis = plt.subplots(figsize = (10, 5))\n",
    "\n",
    "    axis.plot(layerArray, gainArray, 'sb-')\n",
    "    axis.set_title(\"Gain error\")\n",
    "    axis.set_ylabel(\"Absolute error\")\n",
    "    axis.set_ylabel(\"Max depth\")\n",
    "    #axis.legend(strategyArray)\n",
    "\n",
    "    plt.show()"
   ]
  },
  {
   "cell_type": "code",
   "execution_count": 11,
   "metadata": {},
   "outputs": [],
   "source": [
    "def plotLossError():\n",
    "    fig7, axis = plt.subplots(figsize = (10, 5))\n",
    "\n",
    "    axis.plot(layerArray, lossArray, 'or--')\n",
    "    axis.set_title(\"Loss error\")\n",
    "    axis.set_ylabel(\"Absolute error\")\n",
    "    axis.set_ylabel(\"Max depth\")\n",
    "    #axis.legend(strategyArray)\n",
    "\n",
    "    plt.show()"
   ]
  },
  {
   "cell_type": "markdown",
   "metadata": {},
   "source": [
    "# Putting all together"
   ]
  },
  {
   "cell_type": "code",
   "execution_count": 12,
   "metadata": {},
   "outputs": [
    {
     "name": "stdout",
     "output_type": "stream",
     "text": [
      "[3.17514131 2.94840833 2.71131848 2.98501369 2.78416147] => 2.92 (+/- 0.33)\n",
      "[2.06649399 1.6872527  1.93387631 1.65965917 1.18949854] => 1.71 (+/- 0.60)\n",
      "\n",
      "[3.18667094 3.0285457  2.71051088 2.95269348 2.75038519] => 2.93 (+/- 0.35)\n",
      "[2.11213078 1.70587983 1.95241829 1.51387515 1.42978777] => 1.74 (+/- 0.52)\n",
      "\n",
      "[3.23741606 3.01279996 2.7837821  2.95422181 2.74309138] => 2.95 (+/- 0.35)\n",
      "[2.16513263 1.61941853 1.94604224 1.57740567 2.45659704] => 1.95 (+/- 0.66)\n",
      "\n",
      "[2.90167569 2.89917048 2.6439736  2.91287429 2.90219045] => 2.85 (+/- 0.21)\n",
      "[2.07448712 1.60945643 1.92630986 1.52570191 1.37274716] => 1.70 (+/- 0.52)\n",
      "\n",
      "[3.40840274 3.03065126 2.8428963  2.97441443 2.84413824] => 3.02 (+/- 0.42)\n",
      "[2.09115849 1.66105795 1.9302707  1.58284826 1.38957097] => 1.73 (+/- 0.50)\n",
      "\n",
      "Done!\n"
     ]
    }
   ],
   "source": [
    "for layers in layerArray:\n",
    "    regressor = setMLP(layers)\n",
    "    trainModel(regressor, layers)\n",
    "\n",
    "print(\"Done!\")"
   ]
  },
  {
   "cell_type": "markdown",
   "metadata": {},
   "source": [
    "# Plotting graphs"
   ]
  },
  {
   "cell_type": "code",
   "execution_count": 13,
   "metadata": {
    "scrolled": true
   },
   "outputs": [
    {
     "data": {
      "image/png": "[encoded data removed]",
      "text/plain": [
       "<Figure size 720x360 with 1 Axes>"
      ]
     },
     "metadata": {
      "needs_background": "light"
     },
     "output_type": "display_data"
    }
   ],
   "source": [
    "plotGainError()"
   ]
  },
  {
   "cell_type": "code",
   "execution_count": 14,
   "metadata": {},
   "outputs": [
    {
     "data": {
      "image/png": "[encoded data removed]",
      "text/plain": [
       "<Figure size 720x360 with 1 Axes>"
      ]
     },
     "metadata": {
      "needs_background": "light"
     },
     "output_type": "display_data"
    }
   ],
   "source": [
    "plotLossError()"
   ]
  },
  {
   "cell_type": "code",
   "execution_count": null,
   "metadata": {},
   "outputs": [],
   "source": []
  }
 ],
 "metadata": {
  "kernelspec": {
   "display_name": "Python 3",
   "language": "python",
   "name": "python3"
  },
  "language_info": {
   "codemirror_mode": {
    "name": "ipython",
    "version": 3
   },
   "file_extension": ".py",
   "mimetype": "text/x-python",
   "name": "python",
   "nbconvert_exporter": "python",
   "pygments_lexer": "ipython3",
   "version": "3.7.3"
  }
 },
 "nbformat": 4,
 "nbformat_minor": 2
}
