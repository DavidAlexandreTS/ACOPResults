{
 "cells": [
  {
   "cell_type": "markdown",
   "metadata": {},
   "source": [
    "# Imports and dataset loading"
   ]
  },
  {
   "cell_type": "code",
   "execution_count": 1,
   "metadata": {
    "scrolled": true
   },
   "outputs": [
    {
     "name": "stderr",
     "output_type": "stream",
     "text": [
      "Using TensorFlow backend.\n"
     ]
    }
   ],
   "source": [
    "import pandas as pd\n",
    "import numpy as np\n",
    "import matplotlib.pyplot as plt\n",
    "import math\n",
    "from sklearn.model_selection import cross_validate\n",
    "from sklearn.preprocessing import MinMaxScaler\n",
    "from sklearn.neural_network import MLPRegressor\n",
    "from sklearn.metrics import mean_absolute_error\n",
    "from keras.models import Sequential\n",
    "from keras.layers import Dense\n",
    "\n",
    "import pandas as pd\n",
    "\n",
    "layerArray = [16]\n",
    "gainArray  = []\n",
    "lossArray  = []\n",
    "trainError = []\n",
    "\n",
    "originalDataSet = pd.read_csv('dataset', sep=',',header = None)\n",
    "scaler = MinMaxScaler()\n",
    "\n",
    "def loadDataset():    \n",
    "    scaler.fit(originalDataSet.sample(frac=1).values.reshape(-1, 1))\n",
    "    dataSet = scaler.transform(originalDataSet.values) \n",
    "    \n",
    "    features, result = np.array(dataSet[:, :4]), np.array(dataSet[:, 4:])\n",
    "    return features, result\n",
    "\n",
    "def invertNorm(value):\n",
    "    auxArray = np.array([value, 0, 0, 0, 0, 0]).reshape(-1, 1)\n",
    "    return scaler.inverse_transform(auxArray)[0][0]\n",
    "    \n",
    "def getError(value1, value2):\n",
    "    return abs(invertNorm(value1) - invertNorm(value2))"
   ]
  },
  {
   "cell_type": "markdown",
   "metadata": {},
   "source": [
    "# Cross validation function"
   ]
  },
  {
   "cell_type": "code",
   "execution_count": 2,
   "metadata": {},
   "outputs": [],
   "source": [
    "def crossValidate(regressor, layers, features, result, folds = 5):\n",
    "    global trainError\n",
    "    foldSize   = math.ceil(features.shape[0] / folds)\n",
    "    gainErrors = []\n",
    "    lossErrors = []\n",
    "    \n",
    "    for i in range(folds): \n",
    "        sliceBegin = i * foldSize\n",
    "        sliceEnd   = (i + 1) * foldSize\n",
    "        \n",
    "        X_train = np.delete(features, np.s_[sliceBegin: sliceEnd], 0)\n",
    "        y_train = np.delete(result, np.s_[sliceBegin: sliceEnd], 0)\n",
    "        \n",
    "        regressor.fit(X_train, y_train)         \n",
    "        \n",
    "        trainError.append(regressor.loss_curve_)\n",
    "        \n",
    "        X_test = features[sliceBegin: sliceEnd]\n",
    "        y_test = result[sliceBegin: sliceEnd]\n",
    "        \n",
    "        gainError = 0\n",
    "        lossError = 0\n",
    "        \n",
    "        prediction = regressor.predict(X_test)\n",
    "        \n",
    "        for predicted, expected in zip(prediction, y_test):\n",
    "            gainError += getError(predicted[0], expected[0])\n",
    "            lossError += getError(predicted[1], expected[1])\n",
    "            \n",
    "        gainErrors.append(gainError / foldSize)\n",
    "        lossErrors.append(lossError / foldSize)\n",
    "\n",
    "    return np.array(gainErrors), np.array(lossErrors)"
   ]
  },
  {
   "cell_type": "code",
   "execution_count": 3,
   "metadata": {
    "scrolled": false
   },
   "outputs": [],
   "source": [
    "def trainModel(strategy, layers):    \n",
    "    features, result       = loadDataset()\n",
    "    gainErrors, lossErrors = crossValidate(strategy, layers, features, result)\n",
    "\n",
    "    print(gainErrors, \"=> %0.2f (+/- %0.2f)\" % (np.mean(gainErrors), gainErrors.std() * 2))\n",
    "    print(lossErrors, \"=> %0.2f (+/- %0.2f)\" % (np.mean(lossErrors), lossErrors.std() * 2))\n",
    "    print()\n",
    "    \n",
    "    gainArray.append(np.mean(gainErrors))\n",
    "    lossArray.append(np.mean(lossErrors))\n",
    "\n",
    "def setMLP(layers):\n",
    "    if layers == 2:\n",
    "        return MLPRegressor(hidden_layer_sizes = (8, 8), activation = 'identity', learning_rate = 'constant', alpha = 0.001, random_state = 0)\n",
    "    \n",
    "    if layers == 4:\n",
    "        return MLPRegressor(hidden_layer_sizes = (8, 16, 8, 4), activation = 'identity', learning_rate = 'constant', alpha = 0.001, random_state = 0)\n",
    "    \n",
    "    if layers == 8:\n",
    "        return MLPRegressor(hidden_layer_sizes = (8, 16, 32, 64, 32, 16, 8, 4), activation = 'identity', learning_rate = 'constant', alpha = 0.001, random_state = 0)\n",
    "    \n",
    "    if layers == 16:\n",
    "        return MLPRegressor(hidden_layer_sizes = (8, 16, 16, 32, 32, 64, 64, 64, 64, 32, 32, 16, 16, 8, 8, 4), activation = 'identity', learning_rate = 'constant', alpha = 0.001, random_state = 0)\n",
    "    \n",
    "    if layers == 32:\n",
    "        return MLPRegressor(hidden_layer_sizes = (8, 8, 16, 16, 16, 16, 32, 32, 32, 32, 64, 64, 64, 64, 128, 128, 128, 128, 64, 64, 64, 64, 32, 32, 32, 32, 16, 16, 16, 16, 8, 4), activation = 'identity', learning_rate = 'constant', alpha = 0.001, random_state = 0)\n"
   ]
  },
  {
   "cell_type": "markdown",
   "metadata": {},
   "source": [
    "# Plotting functions"
   ]
  },
  {
   "cell_type": "code",
   "execution_count": 4,
   "metadata": {},
   "outputs": [],
   "source": [
    "def plotGainError():\n",
    "    fig7, axis = plt.subplots(figsize = (10, 5))\n",
    "\n",
    "    axis.plot(layerArray, gainArray, 'sb-')\n",
    "    axis.set_title(\"Gain error\")\n",
    "    axis.set_ylabel(\"Absolute error\")\n",
    "    axis.set_xlabel(\"Number of layers\")\n",
    "    #axis.legend(strategyArray)\n",
    "\n",
    "    plt.show()"
   ]
  },
  {
   "cell_type": "code",
   "execution_count": 5,
   "metadata": {},
   "outputs": [],
   "source": [
    "def plotLossError():\n",
    "    fig7, axis = plt.subplots(figsize = (10, 5))\n",
    "\n",
    "    axis.plot(layerArray, lossArray, 'or--')\n",
    "    axis.set_title(\"Loss error\")\n",
    "    axis.set_ylabel(\"Absolute error\")\n",
    "    axis.set_xlabel(\"Number of layers\")\n",
    "    #axis.legend(strategyArray)\n",
    "\n",
    "    plt.show()"
   ]
  },
  {
   "cell_type": "code",
   "execution_count": 6,
   "metadata": {},
   "outputs": [],
   "source": [
    "def plotDistribution(regressor, layers):\n",
    "    features, result = loadDataset()\n",
    "\n",
    "    predicted = regressor.predict(features)\n",
    "    fig, axis = plt.subplots(figsize = (10, 5))\n",
    "    \n",
    "    vfunc = np.vectorize(invertNorm)\n",
    "\n",
    "    axis.scatter(vfunc(result[:, 0]), vfunc(result[:, 1]))\n",
    "    axis.scatter(vfunc(predicted[:, 0]), vfunc(predicted[:, 1]), c = \"m\")\n",
    "    \n",
    "    axis.set_title(\"{} layers\".format(layers))\n",
    "    axis.set_xlabel(\"Gain\")\n",
    "    axis.set_ylabel(\"Loss\")\n",
    "    axis.legend([\"expected\", \"predicted\"])\n",
    "\n",
    "    plt.show()"
   ]
  },
  {
   "cell_type": "code",
   "execution_count": 7,
   "metadata": {},
   "outputs": [],
   "source": [
    "def plotTrainError(regressor):\n",
    "    ### Preparing data ###\n",
    "    global trainError\n",
    "    aux       = trainError[0]\n",
    "    maxLength = len(trainError[0])\n",
    "    \n",
    "    for array in trainError:\n",
    "        if len(array) < maxLength:\n",
    "            maxLength = len(array)\n",
    "        \n",
    "    for i in range(1, len(trainError)):\n",
    "        aux = np.add(aux[0: maxLength], trainError[i][0: maxLength])\n",
    "    \n",
    "    aux = np.divide(aux, 5)\n",
    "    \n",
    "    ### Plotting ###\n",
    "    fig, axis = plt.subplots(figsize = (10, 5))\n",
    "    axis.plot(aux)\n",
    "    \n",
    "    axis.set_title(\"Training error\", fontsize = 16)\n",
    "    axis.set_xlabel(\"Epoch\", fontsize = 14)\n",
    "    axis.set_ylabel(\"MSE\", fontsize = 14)\n",
    "\n",
    "    plt.show()"
   ]
  },
  {
   "cell_type": "markdown",
   "metadata": {},
   "source": [
    "# Putting all together"
   ]
  },
  {
   "cell_type": "code",
   "execution_count": 8,
   "metadata": {},
   "outputs": [
    {
     "name": "stdout",
     "output_type": "stream",
     "text": [
      "[2.87717003 2.97007342 2.65491357 2.89901962 2.80010046] => 2.84 (+/- 0.21)\n",
      "[2.13998749 1.678765   1.99740731 1.63240462 1.49278178] => 1.79 (+/- 0.48)\n",
      "\n"
     ]
    },
    {
     "data": {
      "image/png": "[encoded data removed]",
      "text/plain": [
       "<Figure size 720x360 with 1 Axes>"
      ]
     },
     "metadata": {
      "needs_background": "light"
     },
     "output_type": "display_data"
    },
    {
     "data": {
      "image/png": "[encoded data removed]",
      "text/plain": [
       "<Figure size 720x360 with 1 Axes>"
      ]
     },
     "metadata": {
      "needs_background": "light"
     },
     "output_type": "display_data"
    },
    {
     "name": "stdout",
     "output_type": "stream",
     "text": [
      "Done!\n"
     ]
    }
   ],
   "source": [
    "for layers in layerArray:\n",
    "    regressor = setMLP(layers)\n",
    "    trainModel(regressor, layers)\n",
    "    plotDistribution(regressor, layers)\n",
    "    plotTrainError(regressor)\n",
    "\n",
    "print(\"Done!\")"
   ]
  },
  {
   "cell_type": "markdown",
   "metadata": {},
   "source": [
    "# Plotting graphs"
   ]
  },
  {
   "cell_type": "code",
   "execution_count": 9,
   "metadata": {
    "scrolled": true
   },
   "outputs": [
    {
     "data": {
      "image/png": "[encoded data removed]",
      "text/plain": [
       "<Figure size 720x360 with 1 Axes>"
      ]
     },
     "metadata": {
      "needs_background": "light"
     },
     "output_type": "display_data"
    }
   ],
   "source": [
    "plotGainError()"
   ]
  },
  {
   "cell_type": "code",
   "execution_count": 10,
   "metadata": {},
   "outputs": [
    {
     "data": {
      "image/png": "[encoded data removed]",
      "text/plain": [
       "<Figure size 720x360 with 1 Axes>"
      ]
     },
     "metadata": {
      "needs_background": "light"
     },
     "output_type": "display_data"
    }
   ],
   "source": [
    "plotLossError()"
   ]
  },
  {
   "cell_type": "code",
   "execution_count": null,
   "metadata": {},
   "outputs": [],
   "source": []
  }
 ],
 "metadata": {
  "kernelspec": {
   "display_name": "Python 3",
   "language": "python",
   "name": "python3"
  },
  "language_info": {
   "codemirror_mode": {
    "name": "ipython",
    "version": 3
   },
   "file_extension": ".py",
   "mimetype": "text/x-python",
   "name": "python",
   "nbconvert_exporter": "python",
   "pygments_lexer": "ipython3",
   "version": "3.7.3"
  }
 },
 "nbformat": 4,
 "nbformat_minor": 2
}
