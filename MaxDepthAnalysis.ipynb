{
 "cells": [
  {
   "cell_type": "markdown",
   "metadata": {},
   "source": [
    "# Imports and dataset loading"
   ]
  },
  {
   "cell_type": "code",
   "execution_count": 1,
   "metadata": {
    "scrolled": true
   },
   "outputs": [],
   "source": [
    "import numpy as np\n",
    "import matplotlib.pyplot as plt\n",
    "import math\n",
    "from sklearn.tree import DecisionTreeRegressor\n",
    "from sklearn.ensemble import RandomForestRegressor\n",
    "from sklearn.preprocessing import MinMaxScaler\n",
    "import pandas as pd\n",
    "\n",
    "strategyArray = [\"Decision Tree\", \"Random Frest\"]\n",
    "depthArray = np.arange(2, 16)\n",
    "gainArray = []\n",
    "lossArray = []\n",
    "\n",
    "gainDT = []\n",
    "lossDT = []\n",
    "gainRF = []\n",
    "lossRF = []\n",
    "\n",
    "originalDataSet = pd.read_csv('dataset', sep=',',header = None)\n",
    "scaler = MinMaxScaler()\n",
    "\n",
    "def loadDataset():    \n",
    "    scaler.fit(originalDataSet.sample(frac=1).values.reshape(-1, 1))\n",
    "    dataSet = scaler.transform(originalDataSet.values) \n",
    "    \n",
    "    features, result = np.array(dataSet[:, :4]), np.array(dataSet[:, 4:])\n",
    "    return features, result\n",
    "\n",
    "def invertNorm(value):\n",
    "    auxArray = np.array([value, 0, 0, 0, 0, 0]).reshape(-1, 1)\n",
    "    return scaler.inverse_transform(auxArray)[0][0]\n",
    "    \n",
    "def getError(value1, value2):\n",
    "    return abs(invertNorm(value1) - invertNorm(value2))"
   ]
  },
  {
   "cell_type": "markdown",
   "metadata": {},
   "source": [
    "# Cross validation function"
   ]
  },
  {
   "cell_type": "code",
   "execution_count": 2,
   "metadata": {},
   "outputs": [],
   "source": [
    "def crossValidate(regressor, features, result, folds = 5):\n",
    "    foldSize   = math.ceil(features.shape[0] / folds)\n",
    "    gainErrors = []\n",
    "    lossErrors = []\n",
    "    \n",
    "    for i in range(folds): \n",
    "        sliceBegin = i * foldSize\n",
    "        sliceEnd   = (i + 1) * foldSize\n",
    "        \n",
    "        X_train = np.delete(features, np.s_[sliceBegin: sliceEnd], 0)\n",
    "        y_train = np.delete(result, np.s_[sliceBegin: sliceEnd], 0)\n",
    "        \n",
    "        regressor.fit(X_train, y_train)    \n",
    "            \n",
    "        X_test = features[sliceBegin: sliceEnd]\n",
    "        y_test = result[sliceBegin: sliceEnd]\n",
    "        \n",
    "        gainError = 0\n",
    "        lossError = 0\n",
    "        \n",
    "        prediction = regressor.predict(X_test)\n",
    "        \n",
    "        for predicted, expected in zip(prediction, y_test):\n",
    "            #print(\"Gain: \", invertNorm(predicted[0]), round(invertNorm(expected[0]), 14))\n",
    "            #print(\"Loss: \", invertNorm(predicted[1]), round(invertNorm(expected[1]), 14))\n",
    "            gainError += getError(predicted[0], expected[0])\n",
    "            lossError += getError(predicted[1], expected[1])\n",
    "            \n",
    "        gainErrors.append(gainError / foldSize)\n",
    "        lossErrors.append(lossError / foldSize)\n",
    "\n",
    "    return np.array(gainErrors), np.array(lossErrors)"
   ]
  },
  {
   "cell_type": "code",
   "execution_count": 3,
   "metadata": {
    "scrolled": false
   },
   "outputs": [],
   "source": [
    "def trainModel(strategy):    \n",
    "    features, result = loadDataset()\n",
    "    gainErrors, lossErrors = crossValidate(strategy, features, result)\n",
    "\n",
    "    print(gainErrors, \"=> %0.2f (+/- %0.2f)\" % (np.mean(gainErrors), gainErrors.std() * 2))\n",
    "    print(lossErrors, \"=> %0.2f (+/- %0.2f)\" % (np.mean(lossErrors), lossErrors.std() * 2))\n",
    "    \n",
    "    if isinstance(strategy, DecisionTreeRegressor):\n",
    "        gainDT.append(np.mean(gainErrors))\n",
    "        lossDT.append(np.mean(lossErrors))\n",
    "    else:\n",
    "        gainRF.append(np.mean(gainErrors))\n",
    "        lossRF.append(np.mean(lossErrors))"
   ]
  },
  {
   "cell_type": "markdown",
   "metadata": {},
   "source": [
    "# Plotting functions"
   ]
  },
  {
   "cell_type": "code",
   "execution_count": 4,
   "metadata": {},
   "outputs": [],
   "source": [
    "def plotGainError():\n",
    "    fig7, axis = plt.subplots(figsize = (10, 5))\n",
    "\n",
    "    axis.plot(depthArray, gainDT, 'or--', depthArray, gainRF, 'sb-')\n",
    "    axis.set_title(\"Gain error\")\n",
    "    axis.set_ylabel(\"Absolute error\")\n",
    "    axis.set_ylabel(\"Max depth\")\n",
    "    axis.legend(strategyArray)\n",
    "\n",
    "    plt.show()"
   ]
  },
  {
   "cell_type": "code",
   "execution_count": 5,
   "metadata": {},
   "outputs": [],
   "source": [
    "def plotLossError():\n",
    "    fig7, axis = plt.subplots(figsize = (10, 5))\n",
    "\n",
    "    axis.plot(depthArray, lossDT, 'or--', depthArray, lossRF, 'sb-')\n",
    "    axis.set_title(\"Loss error\")\n",
    "    axis.set_ylabel(\"Absolute error\")\n",
    "    axis.set_ylabel(\"Max depth\")\n",
    "    axis.legend(strategyArray)\n",
    "\n",
    "    plt.show()"
   ]
  },
  {
   "cell_type": "markdown",
   "metadata": {},
   "source": [
    "# Putting all together"
   ]
  },
  {
   "cell_type": "code",
   "execution_count": 6,
   "metadata": {},
   "outputs": [
    {
     "name": "stdout",
     "output_type": "stream",
     "text": [
      "[3.10026132 2.8499729  2.87753605 3.02661195 2.82836995] => 2.94 (+/- 0.21)\n",
      "[2.08011894 1.70640371 1.90288302 1.61115932 1.21506925] => 1.70 (+/- 0.59)\n",
      "[2.84690788 2.75933104 2.92518388 2.96344658 2.71717174] => 2.84 (+/- 0.19)\n",
      "[2.07091104 1.87039856 1.88990153 2.05417843 1.25478869] => 1.83 (+/- 0.60)\n",
      "[2.83238729 2.79608929 2.95318574 2.7250626  2.90799343] => 2.84 (+/- 0.16)\n",
      "[2.0119102  2.01096958 1.88931511 2.0148785  1.20723916] => 1.83 (+/- 0.63)\n",
      "[2.4824217  2.7746812  2.9656857  2.67849291 2.86368681] => 2.75 (+/- 0.33)\n",
      "[1.94171724 1.82157751 1.87287904 2.02493622 1.27328892] => 1.79 (+/- 0.53)\n",
      "[2.45188566 2.63384063 2.82768972 2.64788412 2.93304975] => 2.70 (+/- 0.33)\n",
      "[2.00448096 1.84348828 1.8382442  2.09016029 1.23779168] => 1.80 (+/- 0.60)\n",
      "[2.39296422 2.54637179 2.65334887 2.56139029 2.90781757] => 2.61 (+/- 0.34)\n",
      "[2.02599072 1.84653643 1.75927857 2.2539457  1.2726831 ] => 1.83 (+/- 0.65)\n",
      "[2.14056241 2.25171463 2.76231844 2.54193269 2.63701051] => 2.47 (+/- 0.47)\n",
      "[2.2591825  1.72657658 1.73011226 2.26967934 1.24351321] => 1.85 (+/- 0.77)\n",
      "[2.04929836 2.19194409 2.47180216 2.49499596 2.70979784] => 2.38 (+/- 0.47)\n",
      "[2.36712463 1.78365    1.63755429 2.309001   1.42954473] => 1.91 (+/- 0.74)\n",
      "[2.07744235 2.15902298 2.58047594 2.51344654 2.7756447 ] => 2.42 (+/- 0.53)\n",
      "[2.41334766 1.78904767 1.66821651 2.31452381 1.54818529] => 1.95 (+/- 0.70)\n",
      "[2.10679492 2.26003422 2.74241804 2.5549643  3.04775549] => 2.54 (+/- 0.67)\n",
      "[2.46081321 1.74890971 1.70200015 2.32028661 1.56574339] => 1.96 (+/- 0.72)\n",
      "[2.16208214 2.29859628 2.82933304 2.59532959 3.1313276 ] => 2.60 (+/- 0.70)\n",
      "[2.53438395 1.85775189 1.79807614 2.34233304 1.66380134] => 2.04 (+/- 0.67)\n",
      "[2.2574021  2.4047096  2.92836676 2.67626552 3.15329513] => 2.68 (+/- 0.66)\n",
      "[2.54465138 1.86972302 1.83763133 2.34937918 1.68767908] => 2.06 (+/- 0.66)\n",
      "[2.252149   2.43123209 3.06829035 2.72454632 3.15759312] => 2.73 (+/- 0.70)\n",
      "[2.57688634 1.92215855 1.89684814 2.37965616 1.68767908] => 2.09 (+/- 0.66)\n",
      "[2.25787966 2.50907354 3.1260745  2.74641834 3.15759312] => 2.76 (+/- 0.70)\n",
      "[2.57020057 1.94937918 1.92168099 2.40114613 1.68767908] => 2.11 (+/- 0.65)\n",
      "Done!\n"
     ]
    }
   ],
   "source": [
    "for depth in depthArray:\n",
    "    regressionTree = DecisionTreeRegressor(max_depth = depth)\n",
    "    trainModel(regressionTree)\n",
    "\n",
    "print(\"Done!\")"
   ]
  },
  {
   "cell_type": "code",
   "execution_count": 7,
   "metadata": {},
   "outputs": [
    {
     "name": "stdout",
     "output_type": "stream",
     "text": [
      "[3.05147612 2.83995014 2.77142105 3.01725143 2.8654347 ] => 2.91 (+/- 0.21)\n",
      "[2.06537041 1.6955493  1.85067958 1.60601904 1.20084246] => 1.68 (+/- 0.57)\n",
      "[2.79104018 2.71649607 2.72778047 2.97641909 2.75170767] => 2.79 (+/- 0.19)\n",
      "[2.03894986 1.85040552 1.8520129  2.00712057 1.24182475] => 1.80 (+/- 0.58)\n",
      "[2.74504597 2.66109393 2.65683641 2.72590319 2.83384356] => 2.72 (+/- 0.13)\n",
      "[1.99764764 1.93266278 1.84299334 1.95440677 1.19545335] => 1.78 (+/- 0.60)\n",
      "[2.52908705 2.60426109 2.57169172 2.61446418 2.69697152] => 2.60 (+/- 0.11)\n",
      "[1.91634158 1.81347573 1.82714762 1.93883567 1.25121989] => 1.75 (+/- 0.51)\n",
      "[2.43446871 2.46280751 2.47538524 2.54855339 2.5797798 ] => 2.50 (+/- 0.11)\n",
      "[1.90628606 1.79893034 1.78399062 1.98103164 1.20866749] => 1.74 (+/- 0.55)\n",
      "[2.29879112 2.3548694  2.38642412 2.46689141 2.59639857] => 2.42 (+/- 0.21)\n",
      "[1.94740003 1.75961494 1.73198172 2.00622993 1.24275722] => 1.74 (+/- 0.54)\n",
      "[2.16927505 2.25317474 2.29048095 2.42384935 2.52402302] => 2.33 (+/- 0.25)\n",
      "[2.00369648 1.72700967 1.68955164 2.00599185 1.24492237] => 1.73 (+/- 0.56)\n",
      "[2.10540026 2.18803122 2.22607278 2.37918991 2.56387111] => 2.29 (+/- 0.32)\n",
      "[2.03207174 1.70805196 1.66113632 1.99308878 1.30970697] => 1.74 (+/- 0.52)\n",
      "[2.07625733 2.16009466 2.1437167  2.37217545 2.61461251] => 2.27 (+/- 0.39)\n",
      "[2.0604724  1.70012708 1.64357517 2.0026095  1.34629756] => 1.75 (+/- 0.52)\n",
      "[2.05836186 2.15065886 2.13115932 2.38266134 2.66196799] => 2.28 (+/- 0.44)\n",
      "[2.07676335 1.69298632 1.64404023 2.02241436 1.37753795] => 1.76 (+/- 0.52)\n",
      "[2.04598024 2.15740897 2.1393568  2.39111317 2.69133051] => 2.29 (+/- 0.47)\n",
      "[2.0996349  1.69337321 1.66064299 2.04241633 1.40145291] => 1.78 (+/- 0.52)\n",
      "[2.04008727 2.17037775 2.15161809 2.40749156 2.71275654] => 2.30 (+/- 0.48)\n",
      "[2.11718403 1.69376942 1.67979342 2.04665181 1.41095572] => 1.79 (+/- 0.52)\n",
      "[2.04431582 2.1858074  2.16859938 2.41280633 2.72513528] => 2.31 (+/- 0.48)\n",
      "[2.12391237 1.69942223 1.68783835 2.05066945 1.41104575] => 1.79 (+/- 0.52)\n",
      "[2.0433207  2.20113957 2.17375988 2.42108578 2.73068281] => 2.31 (+/- 0.48)\n",
      "[2.13166516 1.7073825  1.69598338 2.0532491  1.41543123] => 1.80 (+/- 0.52)\n",
      "Done!\n"
     ]
    }
   ],
   "source": [
    "for depth in depthArray:\n",
    "    randomForest = RandomForestRegressor(max_depth = depth, random_state = 0, n_estimators = 100)\n",
    "    trainModel(randomForest)\n",
    "\n",
    "print(\"Done!\")"
   ]
  },
  {
   "cell_type": "markdown",
   "metadata": {},
   "source": [
    "# Plottin error boxplots"
   ]
  },
  {
   "cell_type": "code",
   "execution_count": 8,
   "metadata": {},
   "outputs": [
    {
     "data": {
      "image/png": "[encoded data removed]",
      "text/plain": [
       "<Figure size 720x360 with 1 Axes>"
      ]
     },
     "metadata": {
      "needs_background": "light"
     },
     "output_type": "display_data"
    },
    {
     "data": {
      "image/png": "[encoded data removed]",
      "text/plain": [
       "<Figure size 720x360 with 1 Axes>"
      ]
     },
     "metadata": {
      "needs_background": "light"
     },
     "output_type": "display_data"
    }
   ],
   "source": [
    "plotGainError()\n",
    "plotLossError()"
   ]
  },
  {
   "cell_type": "code",
   "execution_count": null,
   "metadata": {},
   "outputs": [],
   "source": []
  }
 ],
 "metadata": {
  "kernelspec": {
   "display_name": "Python 3",
   "language": "python",
   "name": "python3"
  },
  "language_info": {
   "codemirror_mode": {
    "name": "ipython",
    "version": 3
   },
   "file_extension": ".py",
   "mimetype": "text/x-python",
   "name": "python",
   "nbconvert_exporter": "python",
   "pygments_lexer": "ipython3",
   "version": "3.7.3"
  }
 },
 "nbformat": 4,
 "nbformat_minor": 2
}
