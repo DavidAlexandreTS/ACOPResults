{
 "cells": [
  {
   "cell_type": "markdown",
   "metadata": {},
   "source": [
    "# Imports and dataset loading"
   ]
  },
  {
   "cell_type": "code",
   "execution_count": 1,
   "metadata": {
    "scrolled": true
   },
   "outputs": [],
   "source": [
    "import numpy as np\n",
    "import matplotlib.pyplot as plt\n",
    "import math\n",
    "from sklearn.tree import DecisionTreeRegressor\n",
    "from sklearn.preprocessing import MinMaxScaler\n",
    "import pandas as pd\n",
    "\n",
    "originalDataSet = pd.read_csv('dataset', sep=',',header = None)\n",
    "scaler = MinMaxScaler()\n",
    "\n",
    "def load_dataset():    \n",
    "    scaler.fit(originalDataSet.values.reshape(-1, 1))\n",
    "    dataSet = scaler.transform(originalDataSet.values) \n",
    "    \n",
    "    features, result = np.array(dataSet[:, :4]), np.array(dataSet[:, 4:])\n",
    "    return features, result\n",
    "\n",
    "def invertNorm(value):\n",
    "    auxArray = np.array([value, 0, 0, 0, 0, 0]).reshape(-1, 1)\n",
    "    return scaler.inverse_transform(auxArray)[0][0]\n",
    "    \n",
    "def getError(value1, value2):\n",
    "    return abs(invertNorm(value1) - invertNorm(value2))"
   ]
  },
  {
   "cell_type": "markdown",
   "metadata": {},
   "source": [
    "# Cross validation function"
   ]
  },
  {
   "cell_type": "code",
   "execution_count": 2,
   "metadata": {},
   "outputs": [],
   "source": [
    "def crossValidate(regressor, features, result, folds = 5):\n",
    "    foldSize   = math.ceil(features.shape[0] / folds)\n",
    "    gainErrors = []\n",
    "    lossErrors = []\n",
    "    \n",
    "    for i in range(folds): \n",
    "        sliceBegin = i * foldSize\n",
    "        sliceEnd   = (i + 1) * foldSize\n",
    "        \n",
    "        X_train = np.delete(features, np.s_[sliceBegin: sliceEnd], 0)\n",
    "        y_train = np.delete(result, np.s_[sliceBegin: sliceEnd], 0)\n",
    "        \n",
    "        regressor.fit(X_train, y_train)\n",
    "        \n",
    "        X_test = features[sliceBegin: sliceEnd]\n",
    "        y_test = result[sliceBegin: sliceEnd]\n",
    "        \n",
    "        gainError = 0\n",
    "        lossError = 0\n",
    "        \n",
    "        prediction = regressor.predict(X_test)\n",
    "        \n",
    "        for predicted, expected in zip(prediction, y_test):\n",
    "            #print(\"Gain: \", invertNorm(predicted[0]), round(invertNorm(expected[0]), 14))\n",
    "            #print(\"Loss: \", invertNorm(predicted[1]), round(invertNorm(expected[1]), 14))\n",
    "            \n",
    "            gainError += getError(predicted[0], expected[0])\n",
    "            lossError += getError(predicted[1], expected[1])\n",
    "        gainErrors.append(gainError / foldSize)\n",
    "        lossErrors.append(lossError / foldSize)\n",
    "\n",
    "    return np.array(gainErrors), np.array(lossErrors)"
   ]
  },
  {
   "cell_type": "code",
   "execution_count": 16,
   "metadata": {
    "scrolled": false
   },
   "outputs": [],
   "source": [
    "def trainModel(strategy):\n",
    "    features, result = load_dataset()\n",
    "    gainErrors, lossErrors = crossValidate(strategy, features, result)\n",
    "\n",
    "    print(getName(strategy))\n",
    "    print(gainErrors, \"=> %0.2f (+/- %0.2f)\" % (np.mean(gainErrors), gainErrors.std() * 2))\n",
    "    print(lossErrors, \"=> %0.2f (+/- %0.2f)\" % (np.mean(lossErrors), lossErrors.std() * 2))\n",
    "    \n",
    "    plotError(gainErrors, lossErrors, strategy)"
   ]
  },
  {
   "cell_type": "markdown",
   "metadata": {},
   "source": [
    "# Plotting error boxplot"
   ]
  },
  {
   "cell_type": "code",
   "execution_count": 17,
   "metadata": {},
   "outputs": [],
   "source": [
    "def getName(strategy):\n",
    "    if isinstance(strategy, DecisionTreeRegressor) :\n",
    "        return \"Decision Tree\""
   ]
  },
  {
   "cell_type": "code",
   "execution_count": 18,
   "metadata": {},
   "outputs": [],
   "source": [
    "def plotError(gainErrors, lossErrors, strategy):\n",
    "    fig7, axis = plt.subplots()\n",
    "    data       = [gainErrors, lossErrors]\n",
    "\n",
    "    axis.boxplot(data)\n",
    "    axis.set_title(getName(strategy))\n",
    "    axis.set_xticklabels(np.repeat([\"Gain\", \"Loss\"], 1))\n",
    "    axis.set_ylabel(\"Absolute error\")\n",
    "\n",
    "    plt.show()"
   ]
  },
  {
   "cell_type": "markdown",
   "metadata": {},
   "source": [
    "# Putting all together"
   ]
  },
  {
   "cell_type": "code",
   "execution_count": 20,
   "metadata": {},
   "outputs": [
    {
     "name": "stdout",
     "output_type": "stream",
     "text": [
      "Decision Tree\n",
      "[2.14056241 2.25171463 2.76231844 2.53620203 2.63701051] => 2.47 (+/- 0.47)\n",
      "[2.25774984 1.72657658 1.73011226 2.26967934 1.24351321] => 1.85 (+/- 0.77)\n"
     ]
    },
    {
     "data": {
      "image/png": "[encoded data removed]",
      "text/plain": [
       "<Figure size 432x288 with 1 Axes>"
      ]
     },
     "metadata": {
      "needs_background": "light"
     },
     "output_type": "display_data"
    }
   ],
   "source": [
    "regressionTree = DecisionTreeRegressor(max_depth = 8)\n",
    "trainModel(regressionTree)"
   ]
  }
 ],
 "metadata": {
  "kernelspec": {
   "display_name": "Python 3",
   "language": "python",
   "name": "python3"
  },
  "language_info": {
   "codemirror_mode": {
    "name": "ipython",
    "version": 3
   },
   "file_extension": ".py",
   "mimetype": "text/x-python",
   "name": "python",
   "nbconvert_exporter": "python",
   "pygments_lexer": "ipython3",
   "version": "3.7.3"
  }
 },
 "nbformat": 4,
 "nbformat_minor": 2
}
