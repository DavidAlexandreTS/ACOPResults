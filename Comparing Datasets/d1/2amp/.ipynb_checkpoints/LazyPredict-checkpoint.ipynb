{
 "cells": [
  {
   "cell_type": "markdown",
   "metadata": {},
   "source": [
    "# Imports and dataset loading"
   ]
  },
  {
   "cell_type": "code",
   "execution_count": 1,
   "metadata": {
    "scrolled": true
   },
   "outputs": [
    {
     "name": "stderr",
     "output_type": "stream",
     "text": [
      "/home/leandro/Documentos/Mestrado/ACOPResults/acopEnv/lib/python3.6/site-packages/sklearn/utils/deprecation.py:143: FutureWarning: The sklearn.utils.testing module is  deprecated in version 0.22 and will be removed in version 0.24. The corresponding classes / functions should instead be imported from sklearn.utils. Anything that cannot be imported from sklearn.utils is now part of the private API.\n",
      "  warnings.warn(message, FutureWarning)\n"
     ]
    }
   ],
   "source": [
    "import numpy as np\n",
    "import matplotlib.pyplot as plt\n",
    "import math\n",
    "from sklearn.multioutput import MultiOutputRegressor\n",
    "from sklearn import linear_model\n",
    "from sklearn.neighbors import KNeighborsRegressor\n",
    "from sklearn.kernel_ridge import KernelRidge\n",
    "from sklearn.neural_network import MLPRegressor\n",
    "from sklearn.svm import SVR\n",
    "from sklearn.preprocessing import MinMaxScaler\n",
    "from keras.models import Sequential\n",
    "from keras.layers import Dense\n",
    "from keras.wrappers.scikit_learn import KerasRegressor\n",
    "from lazypredict.Supervised import LazyRegressor\n",
    "from sklearn.model_selection import train_test_split\n",
    "import autokeras as ak\n",
    "import tensorflow as tf\n",
    "import pandas as pd\n",
    "\n",
    "strategyArray = []\n",
    "gainArray     = []\n",
    "lossArray     = []\n",
    "datasetQnt    = 2\n",
    "ampNumber     = [4, 2]\n",
    "\n",
    "originalDataset = []\n",
    "binaryDataset   = []\n",
    "\n",
    "gainScalerList = []\n",
    "lossScalerList = []\n",
    "\n",
    "originalDataset.append(pd.read_csv('../dataset.txt', sep = ',',header = None))\n",
    "originalDataset.append(pd.read_csv('dataset-{}.txt'.format(ampNumber[-1]), sep = ',', header = None))\n",
    "        \n",
    "for i in range(datasetQnt):\n",
    "    binaryDataset.append([])\n",
    "    \n",
    "    for line in originalDataset[i].values:\n",
    "        myList = [1 if j != 0 else 0 for j in line[:40]]\n",
    "        myList.extend(line[40:])\n",
    "        binaryDataset[i].append(myList)\n",
    "    \n",
    "    binaryDataset[i] = pd.DataFrame(binaryDataset[i])\n",
    "\n",
    "def loadDataset(datasetIndex): \n",
    "    dataset = binaryDataset[datasetIndex].values[:, :40]\n",
    "    \n",
    "    for i in range(0, ampNumber[datasetIndex] * 2, 2):\n",
    "        gain    = np.array(binaryDataset[datasetIndex].values[:, 40 + i])\n",
    "        #gain    = gainScaler.transform(gain.reshape(-1, 1))\n",
    "        gain    = gain.reshape(-1, 1)\n",
    "        dataset = np.hstack((dataset, gain))\n",
    "        \n",
    "        loss    = np.array(binaryDataset[datasetIndex].values[:, 40 + i + 1])\n",
    "        #loss    = lossScaler.transform(loss.reshape(-1, 1))\n",
    "        loss    = loss.reshape(-1, 1)\n",
    "        dataset = np.hstack((dataset, loss))\n",
    "                \n",
    "    X, y = np.array(dataset[:, :40]), np.array(dataset[:, 40:])\n",
    "    return X, y"
   ]
  },
  {
   "cell_type": "markdown",
   "metadata": {},
   "source": [
    "# Model setup"
   ]
  },
  {
   "cell_type": "code",
   "execution_count": 2,
   "metadata": {},
   "outputs": [
    {
     "name": "stderr",
     "output_type": "stream",
     "text": [
      " 14%|█▍        | 6/43 [00:00<00:00, 51.94it/s]"
     ]
    },
    {
     "name": "stdout",
     "output_type": "stream",
     "text": [
      "AdaBoostRegressor model failed to execute\n",
      "y should be a 1d array, got an array of shape (1769, 8) instead.\n",
      "BayesianRidge model failed to execute\n",
      "y should be a 1d array, got an array of shape (1769, 8) instead.\n",
      "ElasticNetCV model failed to execute\n",
      "For multi-task outputs, use MultiTaskElasticNetCV\n"
     ]
    },
    {
     "name": "stderr",
     "output_type": "stream",
     "text": [
      "\r",
      " 21%|██        | 9/43 [00:00<00:01, 23.27it/s]"
     ]
    },
    {
     "name": "stdout",
     "output_type": "stream",
     "text": [
      "GammaRegressor model failed to execute\n",
      "y should be a 1d array, got an array of shape (1769, 8) instead.\n"
     ]
    },
    {
     "name": "stderr",
     "output_type": "stream",
     "text": [
      " 37%|███▋      | 16/43 [00:01<00:02, 11.22it/s]"
     ]
    },
    {
     "name": "stdout",
     "output_type": "stream",
     "text": [
      "GeneralizedLinearRegressor model failed to execute\n",
      "y should be a 1d array, got an array of shape (1769, 8) instead.\n",
      "GradientBoostingRegressor model failed to execute\n",
      "y should be a 1d array, got an array of shape (1769, 8) instead.\n",
      "HistGradientBoostingRegressor model failed to execute\n",
      "y should be a 1d array, got an array of shape (1769, 8) instead.\n",
      "HuberRegressor model failed to execute\n",
      "y should be a 1d array, got an array of shape (1769, 8) instead.\n"
     ]
    },
    {
     "name": "stderr",
     "output_type": "stream",
     "text": [
      " 51%|█████     | 22/43 [00:01<00:01, 11.47it/s]"
     ]
    },
    {
     "name": "stdout",
     "output_type": "stream",
     "text": [
      "LarsCV model failed to execute\n",
      "y should be a 1d array, got an array of shape (1769, 8) instead.\n",
      "LassoCV model failed to execute\n",
      "For multi-task outputs, use MultiTaskLassoCV\n",
      "LassoLarsCV model failed to execute\n",
      "y should be a 1d array, got an array of shape (1769, 8) instead.\n",
      "LassoLarsIC model failed to execute\n",
      "y should be a 1d array, got an array of shape (1769, 8) instead.\n",
      "LinearSVR model failed to execute\n",
      "y should be a 1d array, got an array of shape (1769, 8) instead.\n"
     ]
    },
    {
     "name": "stderr",
     "output_type": "stream",
     "text": [
      " 70%|██████▉   | 30/43 [00:04<00:02,  6.36it/s]"
     ]
    },
    {
     "name": "stdout",
     "output_type": "stream",
     "text": [
      "NuSVR model failed to execute\n",
      "y should be a 1d array, got an array of shape (1769, 8) instead.\n",
      "OrthogonalMatchingPursuitCV model failed to execute\n",
      "y should be a 1d array, got an array of shape (1769, 8) instead.\n",
      "PassiveAggressiveRegressor model failed to execute\n",
      "y should be a 1d array, got an array of shape (1769, 8) instead.\n",
      "PoissonRegressor model failed to execute\n",
      "y should be a 1d array, got an array of shape (1769, 8) instead.\n"
     ]
    },
    {
     "name": "stderr",
     "output_type": "stream",
     "text": [
      "100%|██████████| 43/43 [00:05<00:00,  7.92it/s]"
     ]
    },
    {
     "name": "stdout",
     "output_type": "stream",
     "text": [
      "SGDRegressor model failed to execute\n",
      "y should be a 1d array, got an array of shape (1769, 8) instead.\n",
      "SVR model failed to execute\n",
      "y should be a 1d array, got an array of shape (1769, 8) instead.\n",
      "StackingRegressor model failed to execute\n",
      "__init__() missing 1 required positional argument: 'estimators'\n",
      "TweedieRegressor model failed to execute\n",
      "y should be a 1d array, got an array of shape (1769, 8) instead.\n",
      "XGBRegressor model failed to execute\n",
      "only size-1 arrays can be converted to Python scalars\n",
      "LGBMRegressor model failed to execute\n",
      "y should be a 1d array, got an array of shape (1769, 8) instead.\n"
     ]
    },
    {
     "name": "stderr",
     "output_type": "stream",
     "text": [
      "\n",
      " 16%|█▋        | 7/43 [00:00<00:00, 64.36it/s]"
     ]
    },
    {
     "name": "stdout",
     "output_type": "stream",
     "text": [
      "AdaBoostRegressor model failed to execute\n",
      "y should be a 1d array, got an array of shape (441, 2) instead.\n",
      "BayesianRidge model failed to execute\n",
      "y should be a 1d array, got an array of shape (441, 2) instead.\n",
      "ElasticNetCV model failed to execute\n",
      "For multi-task outputs, use MultiTaskElasticNetCV\n"
     ]
    },
    {
     "name": "stderr",
     "output_type": "stream",
     "text": [
      " 37%|███▋      | 16/43 [00:00<00:00, 31.66it/s]"
     ]
    },
    {
     "name": "stdout",
     "output_type": "stream",
     "text": [
      "GammaRegressor model failed to execute\n",
      "y should be a 1d array, got an array of shape (441, 2) instead.\n",
      "GeneralizedLinearRegressor model failed to execute\n",
      "y should be a 1d array, got an array of shape (441, 2) instead.\n",
      "GradientBoostingRegressor model failed to execute\n",
      "y should be a 1d array, got an array of shape (441, 2) instead.\n",
      "HistGradientBoostingRegressor model failed to execute\n",
      "y should be a 1d array, got an array of shape (441, 2) instead.\n",
      "HuberRegressor model failed to execute\n",
      "y should be a 1d array, got an array of shape (441, 2) instead.\n",
      "LarsCV model failed to execute\n",
      "y should be a 1d array, got an array of shape (441, 2) instead.\n"
     ]
    },
    {
     "name": "stderr",
     "output_type": "stream",
     "text": [
      "\r",
      " 47%|████▋     | 20/43 [00:00<00:00, 32.70it/s]"
     ]
    },
    {
     "name": "stdout",
     "output_type": "stream",
     "text": [
      "LassoCV model failed to execute\n",
      "For multi-task outputs, use MultiTaskLassoCV\n",
      "LassoLarsCV model failed to execute\n",
      "y should be a 1d array, got an array of shape (441, 2) instead.\n",
      "LassoLarsIC model failed to execute\n",
      "y should be a 1d array, got an array of shape (441, 2) instead.\n",
      "LinearSVR model failed to execute\n",
      "y should be a 1d array, got an array of shape (441, 2) instead.\n"
     ]
    },
    {
     "name": "stderr",
     "output_type": "stream",
     "text": [
      " 77%|███████▋  | 33/43 [00:01<00:00, 18.09it/s]"
     ]
    },
    {
     "name": "stdout",
     "output_type": "stream",
     "text": [
      "NuSVR model failed to execute\n",
      "y should be a 1d array, got an array of shape (441, 2) instead.\n",
      "OrthogonalMatchingPursuitCV model failed to execute\n",
      "y should be a 1d array, got an array of shape (441, 2) instead.\n",
      "PassiveAggressiveRegressor model failed to execute\n",
      "y should be a 1d array, got an array of shape (441, 2) instead.\n",
      "PoissonRegressor model failed to execute\n",
      "y should be a 1d array, got an array of shape (441, 2) instead.\n"
     ]
    },
    {
     "name": "stderr",
     "output_type": "stream",
     "text": [
      "100%|██████████| 43/43 [00:02<00:00, 19.09it/s]\n",
      "  0%|          | 0/43 [00:00<?, ?it/s]"
     ]
    },
    {
     "name": "stdout",
     "output_type": "stream",
     "text": [
      "SGDRegressor model failed to execute\n",
      "y should be a 1d array, got an array of shape (441, 2) instead.\n",
      "SVR model failed to execute\n",
      "y should be a 1d array, got an array of shape (441, 2) instead.\n",
      "StackingRegressor model failed to execute\n",
      "__init__() missing 1 required positional argument: 'estimators'\n",
      "TweedieRegressor model failed to execute\n",
      "y should be a 1d array, got an array of shape (441, 2) instead.\n",
      "XGBRegressor model failed to execute\n",
      "only size-1 arrays can be converted to Python scalars\n",
      "LGBMRegressor model failed to execute\n",
      "y should be a 1d array, got an array of shape (441, 2) instead.\n",
      "AdaBoostRegressor model failed to execute\n",
      "y should be a 1d array, got an array of shape (441, 2) instead.\n"
     ]
    },
    {
     "name": "stderr",
     "output_type": "stream",
     "text": [
      " 16%|█▋        | 7/43 [00:00<00:01, 31.36it/s]"
     ]
    },
    {
     "name": "stdout",
     "output_type": "stream",
     "text": [
      "BayesianRidge model failed to execute\n",
      "y should be a 1d array, got an array of shape (441, 2) instead.\n",
      "ElasticNetCV model failed to execute\n",
      "For multi-task outputs, use MultiTaskElasticNetCV\n"
     ]
    },
    {
     "name": "stderr",
     "output_type": "stream",
     "text": [
      " 28%|██▊       | 12/43 [00:00<00:01, 17.29it/s]"
     ]
    },
    {
     "name": "stdout",
     "output_type": "stream",
     "text": [
      "GammaRegressor model failed to execute\n",
      "y should be a 1d array, got an array of shape (441, 2) instead.\n",
      "GeneralizedLinearRegressor model failed to execute\n",
      "y should be a 1d array, got an array of shape (441, 2) instead.\n",
      "GradientBoostingRegressor model failed to execute\n",
      "y should be a 1d array, got an array of shape (441, 2) instead.\n",
      "HistGradientBoostingRegressor model failed to execute\n",
      "y should be a 1d array, got an array of shape (441, 2) instead.\n",
      "HuberRegressor model failed to execute\n",
      "y should be a 1d array, got an array of shape (441, 2) instead.\n"
     ]
    },
    {
     "name": "stderr",
     "output_type": "stream",
     "text": [
      " 51%|█████     | 22/43 [00:01<00:01, 20.75it/s]"
     ]
    },
    {
     "name": "stdout",
     "output_type": "stream",
     "text": [
      "LarsCV model failed to execute\n",
      "y should be a 1d array, got an array of shape (441, 2) instead.\n",
      "LassoCV model failed to execute\n",
      "For multi-task outputs, use MultiTaskLassoCV\n",
      "LassoLarsCV model failed to execute\n",
      "y should be a 1d array, got an array of shape (441, 2) instead.\n",
      "LassoLarsIC model failed to execute\n",
      "y should be a 1d array, got an array of shape (441, 2) instead.\n"
     ]
    },
    {
     "name": "stderr",
     "output_type": "stream",
     "text": [
      "\r",
      " 58%|█████▊    | 25/43 [00:01<00:00, 22.76it/s]"
     ]
    },
    {
     "name": "stdout",
     "output_type": "stream",
     "text": [
      "LinearSVR model failed to execute\n",
      "y should be a 1d array, got an array of shape (441, 2) instead.\n"
     ]
    },
    {
     "name": "stderr",
     "output_type": "stream",
     "text": [
      "\r",
      " 65%|██████▌   | 28/43 [00:02<00:02,  6.80it/s]"
     ]
    },
    {
     "name": "stdout",
     "output_type": "stream",
     "text": [
      "NuSVR model failed to execute\n",
      "y should be a 1d array, got an array of shape (441, 2) instead.\n",
      "OrthogonalMatchingPursuitCV model failed to execute\n",
      "y should be a 1d array, got an array of shape (441, 2) instead.\n",
      "PassiveAggressiveRegressor model failed to execute\n",
      "y should be a 1d array, got an array of shape (441, 2) instead.\n",
      "PoissonRegressor model failed to execute\n",
      "y should be a 1d array, got an array of shape (441, 2) instead.\n"
     ]
    },
    {
     "name": "stderr",
     "output_type": "stream",
     "text": [
      "100%|██████████| 43/43 [00:02<00:00, 15.94it/s]"
     ]
    },
    {
     "name": "stdout",
     "output_type": "stream",
     "text": [
      "SGDRegressor model failed to execute\n",
      "y should be a 1d array, got an array of shape (441, 2) instead.\n",
      "SVR model failed to execute\n",
      "y should be a 1d array, got an array of shape (441, 2) instead.\n",
      "StackingRegressor model failed to execute\n",
      "__init__() missing 1 required positional argument: 'estimators'\n",
      "TweedieRegressor model failed to execute\n",
      "y should be a 1d array, got an array of shape (441, 2) instead.\n",
      "XGBRegressor model failed to execute\n",
      "only size-1 arrays can be converted to Python scalars\n",
      "LGBMRegressor model failed to execute\n",
      "y should be a 1d array, got an array of shape (441, 2) instead.\n"
     ]
    },
    {
     "name": "stderr",
     "output_type": "stream",
     "text": [
      "\n"
     ]
    }
   ],
   "source": [
    "summaryList = []\n",
    "\n",
    "#1 regressor per link\n",
    "X, y = loadDataset(0)\n",
    "reg  = LazyRegressor(verbose = 0, ignore_warnings = False)\n",
    "\n",
    "X_train, X_test, y_train, y_test = train_test_split(X, y, test_size = 0.3, random_state = 0)\n",
    "models, summary                  = reg.fit(X_train, X_test, y_train, y_test)\n",
    "\n",
    "summaryList.append(summary)\n",
    "\n",
    "#1 regressor per amplifier\n",
    "X, y = loadDataset(1)\n",
    "\n",
    "for j in range(0, ampNumber[-1] * 2, 2):\n",
    "    reg = LazyRegressor(verbose = 0, ignore_warnings = False)\n",
    "\n",
    "    X_train, X_test, y_train, y_test = train_test_split(X, y[:, j: j + 2], test_size = 0.3, random_state = 0)\n",
    "    models, summary                  = reg.fit(X_train, X_test, y_train, y_test)\n",
    "    \n",
    "    summaryList.append(summary)"
   ]
  },
  {
   "cell_type": "code",
   "execution_count": 5,
   "metadata": {
    "scrolled": true
   },
   "outputs": [
    {
     "name": "stdout",
     "output_type": "stream",
     "text": [
      "BaggingRegressor\n",
      "5.239730541170139\n",
      "\n",
      "TransformedTargetRegressor\n",
      "2.435851335562301\n",
      "\n",
      "Lars\n",
      "1.626331633740409\n",
      "\n"
     ]
    }
   ],
   "source": [
    "for summary in summaryList:\n",
    "    print(summary['RMSE'].index[0]) #best regressor\n",
    "    print(summary['RMSE'][0]) #best RMSE\n",
    "    print()"
   ]
  },
  {
   "cell_type": "code",
   "execution_count": 9,
   "metadata": {},
   "outputs": [
    {
     "name": "stdout",
     "output_type": "stream",
     "text": [
      "[['BaggingRegressor', 5.239730541170139], ['TransformedTargetRegressor', 2.435851335562301], ['Lars', 1.626331633740409], ['', 2.031091484651355]]\n"
     ]
    }
   ],
   "source": [
    "def prepTablle():\n",
    "    rows    = [\"One regressor / link\"]\n",
    "    columns = (\"Best strategy\", \"Best RMSE\")\n",
    "\n",
    "    for i in range(ampNumber[-1]):\n",
    "        rows.append(\"Amp {} RMSE\".format(i + 1))\n",
    "\n",
    "    rows.append(\"Mean RMSE ({} amps)\".format(ampNumber[-1]))\n",
    "\n",
    "    data = []\n",
    "\n",
    "    for summary in summaryList:\n",
    "        data.append([summary['RMSE'].index[0], summary['RMSE'][0]])\n",
    "\n",
    "    total = 0\n",
    "\n",
    "    for i in range(1, ampNumber[-1] + 1):\n",
    "\n",
    "        total += data[i][1]\n",
    "\n",
    "    data.append([\"\", total / ampNumber[-1]])\n",
    "\n",
    "    return row, columns, data"
   ]
  },
  {
   "cell_type": "code",
   "execution_count": null,
   "metadata": {},
   "outputs": [],
   "source": [
    "row, columns, data = prepTable()"
   ]
  }
 ],
 "metadata": {
  "kernelspec": {
   "display_name": "acopEnv",
   "language": "python",
   "name": "acopenv"
  },
  "language_info": {
   "codemirror_mode": {
    "name": "ipython",
    "version": 3
   },
   "file_extension": ".py",
   "mimetype": "text/x-python",
   "name": "python",
   "nbconvert_exporter": "python",
   "pygments_lexer": "ipython3",
   "version": "3.6.9"
  }
 },
 "nbformat": 4,
 "nbformat_minor": 2
}
