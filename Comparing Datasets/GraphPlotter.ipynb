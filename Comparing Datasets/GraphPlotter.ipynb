{
 "cells": [
  {
   "cell_type": "markdown",
   "metadata": {},
   "source": [
    "# Plotting function"
   ]
  },
  {
   "cell_type": "code",
   "execution_count": 1,
   "metadata": {},
   "outputs": [],
   "source": [
    "import numpy as np\n",
    "import matplotlib.pyplot as plt\n",
    "import math\n",
    "\n",
    "def plotErrorbar(x, y, yerr1, yerr12, ampNumber):\n",
    "    fig = plt.figure()\n",
    "\n",
    "    plt.errorbar(x, y, yerr = yerr1, capsize = 10, label = 'Full dataset')\n",
    "    plt.errorbar(x, y, yerr = yerr2, capsize = 10, capthick = 4, label = 'Optimized dataset')\n",
    "\n",
    "    #setar títulos, legendas, labels e etc.\n",
    "    \n",
    "    plt.savefig(\"graph-{}amps\".format(ampNumber))"
   ]
  },
  {
   "cell_type": "markdown",
   "metadata": {},
   "source": [
    "# Opening file and plotting graphs"
   ]
  },
  {
   "cell_type": "code",
   "execution_count": 3,
   "metadata": {},
   "outputs": [
    {
     "ename": "SyntaxError",
     "evalue": "invalid syntax (<ipython-input-3-bb893e2a3d23>, line 9)",
     "output_type": "error",
     "traceback": [
      "\u001b[0;36m  File \u001b[0;32m\"<ipython-input-3-bb893e2a3d23>\"\u001b[0;36m, line \u001b[0;32m9\u001b[0m\n\u001b[0;31m    yerr1 = #completar*\u001b[0m\n\u001b[0m                       ^\u001b[0m\n\u001b[0;31mSyntaxError\u001b[0m\u001b[0;31m:\u001b[0m invalid syntax\n"
     ]
    }
   ],
   "source": [
    "f = open(\"output.txt\", \"r\")\n",
    "    \n",
    "for line in f:\n",
    "    ampNumber = int(line.count(\",\") / 2 + 1)\n",
    "    \n",
    "    x = [i + 1 for i in range(ampNumber)]\n",
    "    y = [0 for i in range(ampNumber)]\n",
    "    \n",
    "    yerr1 = #completar*\n",
    "    yerr2 = #completar**\n",
    "    \n",
    "    \n",
    "    '''\n",
    "    * Use line.split(\"/\")[0] para pegar os valores antes da \"/\". \n",
    "    ** Use line.split(\"/\")[1] para pegar os valores depois da \"/\". \n",
    "    \n",
    "    Esses valores serão retornados como uma string, \"1.42,2.76\", por exemplo. \n",
    "    Lembre-se de converter os valores para float e formar uma lista, tal como [1.42,2.76].\n",
    "    '''\n",
    "    \n",
    "    \n",
    "    plotErrorbar(x, y, yerr1, yerr2, ampNumber)\n",
    "f.close()"
   ]
  }
 ],
 "metadata": {
  "kernelspec": {
   "display_name": "acopEnv",
   "language": "python",
   "name": "acopenv"
  },
  "language_info": {
   "codemirror_mode": {
    "name": "ipython",
    "version": 3
   },
   "file_extension": ".py",
   "mimetype": "text/x-python",
   "name": "python",
   "nbconvert_exporter": "python",
   "pygments_lexer": "ipython3",
   "version": "3.6.9"
  }
 },
 "nbformat": 4,
 "nbformat_minor": 2
}
