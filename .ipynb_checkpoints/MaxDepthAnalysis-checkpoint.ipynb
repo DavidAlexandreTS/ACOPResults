{
 "cells": [
  {
   "cell_type": "markdown",
   "metadata": {},
   "source": [
    "# Imports and dataset loading"
   ]
  },
  {
   "cell_type": "code",
   "execution_count": 9,
   "metadata": {
    "scrolled": true
   },
   "outputs": [],
   "source": [
    "import numpy as np\n",
    "import matplotlib.pyplot as plt\n",
    "import math\n",
    "from sklearn.tree import DecisionTreeRegressor\n",
    "from sklearn.ensemble import RandomForestRegressor\n",
    "from sklearn.preprocessing import MinMaxScaler\n",
    "from sklearn.ensemble import BaggingRegressor\n",
    "from sklearn.tree import ExtraTreeRegressor\n",
    "from sklearn.multioutput import MultiOutputRegressor\n",
    "\n",
    "import pandas as pd\n",
    "\n",
    "strategyArray = [Random Frest\", \"BRET\"]\n",
    "depthArray = np.arange(2, 16)\n",
    "gainArray = []\n",
    "lossArray = []\n",
    "\n",
    "gainRF = []\n",
    "lossRF = []\n",
    "gainBRET = []\n",
    "lossBRET = []\n",
    "\n",
    "originalDataSet = pd.read_csv('dataset', sep=',',header = None)\n",
    "scaler = MinMaxScaler()\n",
    "\n",
    "def loadDataset():    \n",
    "    scaler.fit(originalDataSet.sample(frac=1).values.reshape(-1, 1))\n",
    "    dataSet = scaler.transform(originalDataSet.values) \n",
    "    \n",
    "    features, result = np.array(dataSet[:, :4]), np.array(dataSet[:, 4:])\n",
    "    return features, result\n",
    "\n",
    "def invertNorm(value):\n",
    "    auxArray = np.array([value, 0, 0, 0, 0, 0]).reshape(-1, 1)\n",
    "    return scaler.inverse_transform(auxArray)[0][0]\n",
    "    \n",
    "def getError(value1, value2):\n",
    "    return abs(invertNorm(value1) - invertNorm(value2))"
   ]
  },
  {
   "cell_type": "markdown",
   "metadata": {},
   "source": [
    "# Cross validation function"
   ]
  },
  {
   "cell_type": "code",
   "execution_count": 2,
   "metadata": {},
   "outputs": [],
   "source": [
    "def crossValidate(regressor, features, result, folds = 5):\n",
    "    foldSize   = math.ceil(features.shape[0] / folds)\n",
    "    gainErrors = []\n",
    "    lossErrors = []\n",
    "    \n",
    "    for i in range(folds): \n",
    "        sliceBegin = i * foldSize\n",
    "        sliceEnd   = (i + 1) * foldSize\n",
    "        \n",
    "        X_train = np.delete(features, np.s_[sliceBegin: sliceEnd], 0)\n",
    "        y_train = np.delete(result, np.s_[sliceBegin: sliceEnd], 0)\n",
    "        \n",
    "        regressor.fit(X_train, y_train)    \n",
    "            \n",
    "        X_test = features[sliceBegin: sliceEnd]\n",
    "        y_test = result[sliceBegin: sliceEnd]\n",
    "        \n",
    "        gainError = 0\n",
    "        lossError = 0\n",
    "        \n",
    "        prediction = regressor.predict(X_test)\n",
    "        \n",
    "        for predicted, expected in zip(prediction, y_test):\n",
    "            #print(\"Gain: \", invertNorm(predicted[0]), round(invertNorm(expected[0]), 14))\n",
    "            #print(\"Loss: \", invertNorm(predicted[1]), round(invertNorm(expected[1]), 14))\n",
    "            gainError += getError(predicted[0], expected[0])\n",
    "            lossError += getError(predicted[1], expected[1])\n",
    "            \n",
    "        gainErrors.append(gainError / foldSize)\n",
    "        lossErrors.append(lossError / foldSize)\n",
    "\n",
    "    return np.array(gainErrors), np.array(lossErrors)"
   ]
  },
  {
   "cell_type": "code",
   "execution_count": 3,
   "metadata": {
    "scrolled": false
   },
   "outputs": [],
   "source": [
    "def trainModel(strategy):    \n",
    "    features, result = loadDataset()\n",
    "    gainErrors, lossErrors = crossValidate(strategy, features, result)\n",
    "\n",
    "    print(gainErrors, \"=> %0.2f (+/- %0.2f)\" % (np.mean(gainErrors), gainErrors.std() * 2))\n",
    "    print(lossErrors, \"=> %0.2f (+/- %0.2f)\" % (np.mean(lossErrors), lossErrors.std() * 2))\n",
    "    \n",
    "    if isinstance(strategy, RandomForestRegressor):\n",
    "        gainRF.append(np.mean(gainErrors))\n",
    "        lossRF.append(np.mean(lossErrors))\n",
    "    else:\n",
    "        gainBRET.append(np.mean(gainErrors))\n",
    "        lossBRET.append(np.mean(lossErrors))\n",
    "        "
   ]
  },
  {
   "cell_type": "markdown",
   "metadata": {},
   "source": [
    "# Plotting functions"
   ]
  },
  {
   "cell_type": "code",
   "execution_count": 4,
   "metadata": {},
   "outputs": [],
   "source": [
    "def plotGainError():\n",
    "    fig7, axis = plt.subplots(figsize = (10, 5))\n",
    "\n",
    "    axis.plot(depthArray, gainRF, 'sb-', depthArray, gainBRET, 'or--')\n",
    "    axis.set_title(\"Gain error\")\n",
    "    axis.set_ylabel(\"Absolute error\")\n",
    "    axis.set_ylabel(\"Max depth\")\n",
    "    axis.legend(strategyArray)\n",
    "\n",
    "    plt.show()"
   ]
  },
  {
   "cell_type": "code",
   "execution_count": 5,
   "metadata": {},
   "outputs": [],
   "source": [
    "def plotLossError():\n",
    "    fig7, axis = plt.subplots(figsize = (10, 5))\n",
    "\n",
    "    axis.plot(depthArray, lossRF, 'sb-', depthArray, lossBRET, 'or--')\n",
    "    axis.set_title(\"Loss error\")\n",
    "    axis.set_ylabel(\"Absolute error\")\n",
    "    axis.set_ylabel(\"Max depth\")\n",
    "    axis.legend(strategyArray)\n",
    "\n",
    "    plt.show()"
   ]
  },
  {
   "cell_type": "markdown",
   "metadata": {},
   "source": [
    "# Putting all together"
   ]
  },
  {
   "cell_type": "code",
   "execution_count": 7,
   "metadata": {},
   "outputs": [
    {
     "name": "stdout",
     "output_type": "stream",
     "text": [
      "[3.05147612 2.83995014 2.77142105 3.01725143 2.8654347 ] => 2.91 (+/- 0.21)\n",
      "[2.06537041 1.6955493  1.85067958 1.60601904 1.20084246] => 1.68 (+/- 0.57)\n",
      "[2.79104018 2.71649607 2.72778047 2.97641909 2.75170767] => 2.79 (+/- 0.19)\n",
      "[2.03894986 1.85040552 1.8520129  2.00712057 1.24182475] => 1.80 (+/- 0.58)\n",
      "[2.74504597 2.66109393 2.65683641 2.72590319 2.83384356] => 2.72 (+/- 0.13)\n",
      "[1.99764764 1.93266278 1.84299334 1.95440677 1.19545335] => 1.78 (+/- 0.60)\n",
      "[2.52908705 2.60426109 2.57169172 2.61446418 2.69697152] => 2.60 (+/- 0.11)\n",
      "[1.91634158 1.81347573 1.82714762 1.93883567 1.25121989] => 1.75 (+/- 0.51)\n",
      "[2.43446871 2.46280751 2.47538524 2.54855339 2.5797798 ] => 2.50 (+/- 0.11)\n",
      "[1.90628606 1.79893034 1.78399062 1.98103164 1.20866749] => 1.74 (+/- 0.55)\n",
      "[2.29879112 2.3548694  2.38642412 2.46689141 2.59639857] => 2.42 (+/- 0.21)\n",
      "[1.94740003 1.75961494 1.73198172 2.00622993 1.24275722] => 1.74 (+/- 0.54)\n",
      "[2.16927505 2.25317474 2.29048095 2.42384935 2.52402302] => 2.33 (+/- 0.25)\n",
      "[2.00369648 1.72700967 1.68955164 2.00599185 1.24492237] => 1.73 (+/- 0.56)\n",
      "[2.10540026 2.18803122 2.22607278 2.37918991 2.56387111] => 2.29 (+/- 0.32)\n",
      "[2.03207174 1.70805196 1.66113632 1.99308878 1.30970697] => 1.74 (+/- 0.52)\n",
      "[2.07625733 2.16009466 2.1437167  2.37217545 2.61461251] => 2.27 (+/- 0.39)\n",
      "[2.0604724  1.70012708 1.64357517 2.0026095  1.34629756] => 1.75 (+/- 0.52)\n",
      "[2.05836186 2.15065886 2.13115932 2.38266134 2.66196799] => 2.28 (+/- 0.44)\n",
      "[2.07676335 1.69298632 1.64404023 2.02241436 1.37753795] => 1.76 (+/- 0.52)\n",
      "[2.04598024 2.15740897 2.1393568  2.39111317 2.69133051] => 2.29 (+/- 0.47)\n",
      "[2.0996349  1.69337321 1.66064299 2.04241633 1.40145291] => 1.78 (+/- 0.52)\n",
      "[2.04008727 2.17037775 2.15161809 2.40749156 2.71275654] => 2.30 (+/- 0.48)\n",
      "[2.11718403 1.69376942 1.67979342 2.04665181 1.41095572] => 1.79 (+/- 0.52)\n",
      "[2.04431582 2.1858074  2.16859938 2.41280633 2.72513528] => 2.31 (+/- 0.48)\n",
      "[2.12391237 1.69942223 1.68783835 2.05066945 1.41104575] => 1.79 (+/- 0.52)\n",
      "[2.0433207  2.20113957 2.17375988 2.42108578 2.73068281] => 2.31 (+/- 0.48)\n",
      "[2.13166516 1.7073825  1.69598338 2.0532491  1.41543123] => 1.80 (+/- 0.52)\n",
      "Done!\n"
     ]
    }
   ],
   "source": [
    "for depth in depthArray:\n",
    "    randomForest = RandomForestRegressor(max_depth = depth, random_state = 0, n_estimators = 100)\n",
    "    trainModel(randomForest)\n",
    "\n",
    "print(\"Done!\")"
   ]
  },
  {
   "cell_type": "code",
   "execution_count": 10,
   "metadata": {},
   "outputs": [
    {
     "name": "stdout",
     "output_type": "stream",
     "text": [
      "[2.8972063  2.92091691 2.57318052 3.04395415 2.68545845] => 2.82 (+/- 0.34)\n",
      "[2.06697708 1.45989971 1.8217192  1.4104298  1.15525788] => 1.58 (+/- 0.64)\n",
      "[2.72213467 2.80845272 2.53538682 2.96489971 2.66146132] => 2.74 (+/- 0.29)\n",
      "[2.05315186 1.44961318 1.8132808  1.40491404 1.1834957 ] => 1.58 (+/- 0.62)\n",
      "[2.6377937  2.68895415 2.45008596 2.8624212  2.60939828] => 2.65 (+/- 0.27)\n",
      "[2.01783668 1.44297994 1.7980659  1.39265043 1.19942693] => 1.57 (+/- 0.59)\n",
      "[2.51958453 2.54472779 2.43222063 2.76621777 2.51553009] => 2.56 (+/- 0.22)\n",
      "[1.98282235 1.43681948 1.77054441 1.36989971 1.19968481] => 1.55 (+/- 0.57)\n",
      "[2.4213467  2.44054441 2.36775072 2.68723496 2.49289398] => 2.48 (+/- 0.22)\n",
      "[1.9615616  1.43886819 1.77160458 1.34133238 1.22641834] => 1.55 (+/- 0.55)\n",
      "[2.3445702  2.3562894  2.28560172 2.57346705 2.47690544] => 2.41 (+/- 0.21)\n",
      "[1.95929799 1.46594556 1.74570201 1.34055874 1.26561605] => 1.56 (+/- 0.52)\n",
      "[2.33873926 2.27246418 2.25561605 2.52448424 2.48908309] => 2.38 (+/- 0.22)\n",
      "[1.97181948 1.50239255 1.74034384 1.35465616 1.29169054] => 1.57 (+/- 0.51)\n",
      "[2.26472779 2.23421203 2.25997135 2.41369628 2.53670487] => 2.34 (+/- 0.23)\n",
      "[1.94378223 1.49093123 1.72479943 1.35098854 1.29452722] => 1.56 (+/- 0.48)\n",
      "[2.23269341 2.22979943 2.18323782 2.39346705 2.5267192 ] => 2.31 (+/- 0.26)\n",
      "[1.9443553  1.55739255 1.72633238 1.37229226 1.29388252] => 1.58 (+/- 0.47)\n",
      "[2.16906877 2.19412607 2.21197708 2.40684814 2.57170487] => 2.31 (+/- 0.31)\n",
      "[1.94532951 1.62222063 1.70832378 1.40987106 1.32861032] => 1.60 (+/- 0.44)\n",
      "[2.18313754 2.19855301 2.1987106  2.42812321 2.57002865] => 2.32 (+/- 0.31)\n",
      "[1.97138968 1.60292264 1.73243553 1.44994269 1.3280086 ] => 1.62 (+/- 0.45)\n",
      "[2.17836676 2.197149   2.23898281 2.40093123 2.59964183] => 2.32 (+/- 0.32)\n",
      "[1.98378223 1.60875358 1.72461318 1.44583095 1.33856734] => 1.62 (+/- 0.45)\n",
      "[2.16587393 2.20342407 2.22103152 2.41408309 2.5654298 ] => 2.31 (+/- 0.30)\n",
      "[2.00035817 1.63694842 1.72936963 1.45141834 1.31373926] => 1.63 (+/- 0.47)\n",
      "[2.17412607 2.18674785 2.1947851  2.3932235  2.56160458] => 2.30 (+/- 0.31)\n",
      "[2.00160458 1.64143266 1.73964183 1.47977077 1.31886819] => 1.64 (+/- 0.46)\n",
      "Done!\n"
     ]
    }
   ],
   "source": [
    "for depth in depthArray:\n",
    "    extra_tree = ExtraTreeRegressor(criterion = \"mae\", max_depth = depth, random_state=0)\n",
    "    bret = MultiOutputRegressor(BaggingRegressor(base_estimator=extra_tree, n_estimators=100, random_state=0))\n",
    "    trainModel(bret)\n",
    "\n",
    "print(\"Done!\")"
   ]
  },
  {
   "cell_type": "markdown",
   "metadata": {},
   "source": [
    "# Plottin error boxplots"
   ]
  },
  {
   "cell_type": "code",
   "execution_count": 11,
   "metadata": {},
   "outputs": [
    {
     "ename": "ValueError",
     "evalue": "x and y must have same first dimension, but have shapes (14,) and (0,)",
     "output_type": "error",
     "traceback": [
      "\u001b[0;31m---------------------------------------------------------------------------\u001b[0m",
      "\u001b[0;31mValueError\u001b[0m                                Traceback (most recent call last)",
      "\u001b[0;32m<ipython-input-11-5b0b04d0fff5>\u001b[0m in \u001b[0;36m<module>\u001b[0;34m\u001b[0m\n\u001b[0;32m----> 1\u001b[0;31m \u001b[0mplotGainError\u001b[0m\u001b[0;34m(\u001b[0m\u001b[0;34m)\u001b[0m\u001b[0;34m\u001b[0m\u001b[0;34m\u001b[0m\u001b[0m\n\u001b[0m\u001b[1;32m      2\u001b[0m \u001b[0mplotLossError\u001b[0m\u001b[0;34m(\u001b[0m\u001b[0;34m)\u001b[0m\u001b[0;34m\u001b[0m\u001b[0;34m\u001b[0m\u001b[0m\n",
      "\u001b[0;32m<ipython-input-4-3e77e9b6a6e4>\u001b[0m in \u001b[0;36mplotGainError\u001b[0;34m()\u001b[0m\n\u001b[1;32m      2\u001b[0m     \u001b[0mfig7\u001b[0m\u001b[0;34m,\u001b[0m \u001b[0maxis\u001b[0m \u001b[0;34m=\u001b[0m \u001b[0mplt\u001b[0m\u001b[0;34m.\u001b[0m\u001b[0msubplots\u001b[0m\u001b[0;34m(\u001b[0m\u001b[0mfigsize\u001b[0m \u001b[0;34m=\u001b[0m \u001b[0;34m(\u001b[0m\u001b[0;36m10\u001b[0m\u001b[0;34m,\u001b[0m \u001b[0;36m5\u001b[0m\u001b[0;34m)\u001b[0m\u001b[0;34m)\u001b[0m\u001b[0;34m\u001b[0m\u001b[0;34m\u001b[0m\u001b[0m\n\u001b[1;32m      3\u001b[0m \u001b[0;34m\u001b[0m\u001b[0m\n\u001b[0;32m----> 4\u001b[0;31m     \u001b[0maxis\u001b[0m\u001b[0;34m.\u001b[0m\u001b[0mplot\u001b[0m\u001b[0;34m(\u001b[0m\u001b[0mdepthArray\u001b[0m\u001b[0;34m,\u001b[0m \u001b[0mgainDT\u001b[0m\u001b[0;34m,\u001b[0m \u001b[0;34m'or--'\u001b[0m\u001b[0;34m,\u001b[0m \u001b[0mdepthArray\u001b[0m\u001b[0;34m,\u001b[0m \u001b[0mgainRF\u001b[0m\u001b[0;34m,\u001b[0m \u001b[0;34m'sb-'\u001b[0m\u001b[0;34m)\u001b[0m\u001b[0;34m\u001b[0m\u001b[0;34m\u001b[0m\u001b[0m\n\u001b[0m\u001b[1;32m      5\u001b[0m     \u001b[0maxis\u001b[0m\u001b[0;34m.\u001b[0m\u001b[0mset_title\u001b[0m\u001b[0;34m(\u001b[0m\u001b[0;34m\"Gain error\"\u001b[0m\u001b[0;34m)\u001b[0m\u001b[0;34m\u001b[0m\u001b[0;34m\u001b[0m\u001b[0m\n\u001b[1;32m      6\u001b[0m     \u001b[0maxis\u001b[0m\u001b[0;34m.\u001b[0m\u001b[0mset_ylabel\u001b[0m\u001b[0;34m(\u001b[0m\u001b[0;34m\"Absolute error\"\u001b[0m\u001b[0;34m)\u001b[0m\u001b[0;34m\u001b[0m\u001b[0;34m\u001b[0m\u001b[0m\n",
      "\u001b[0;32m~/anaconda3/lib/python3.7/site-packages/matplotlib/__init__.py\u001b[0m in \u001b[0;36minner\u001b[0;34m(ax, data, *args, **kwargs)\u001b[0m\n\u001b[1;32m   1808\u001b[0m                         \u001b[0;34m\"the Matplotlib list!)\"\u001b[0m \u001b[0;34m%\u001b[0m \u001b[0;34m(\u001b[0m\u001b[0mlabel_namer\u001b[0m\u001b[0;34m,\u001b[0m \u001b[0mfunc\u001b[0m\u001b[0;34m.\u001b[0m\u001b[0m__name__\u001b[0m\u001b[0;34m)\u001b[0m\u001b[0;34m,\u001b[0m\u001b[0;34m\u001b[0m\u001b[0;34m\u001b[0m\u001b[0m\n\u001b[1;32m   1809\u001b[0m                         RuntimeWarning, stacklevel=2)\n\u001b[0;32m-> 1810\u001b[0;31m             \u001b[0;32mreturn\u001b[0m \u001b[0mfunc\u001b[0m\u001b[0;34m(\u001b[0m\u001b[0max\u001b[0m\u001b[0;34m,\u001b[0m \u001b[0;34m*\u001b[0m\u001b[0margs\u001b[0m\u001b[0;34m,\u001b[0m \u001b[0;34m**\u001b[0m\u001b[0mkwargs\u001b[0m\u001b[0;34m)\u001b[0m\u001b[0;34m\u001b[0m\u001b[0;34m\u001b[0m\u001b[0m\n\u001b[0m\u001b[1;32m   1811\u001b[0m \u001b[0;34m\u001b[0m\u001b[0m\n\u001b[1;32m   1812\u001b[0m         inner.__doc__ = _add_data_doc(inner.__doc__,\n",
      "\u001b[0;32m~/anaconda3/lib/python3.7/site-packages/matplotlib/axes/_axes.py\u001b[0m in \u001b[0;36mplot\u001b[0;34m(self, scalex, scaley, *args, **kwargs)\u001b[0m\n\u001b[1;32m   1609\u001b[0m         \u001b[0mkwargs\u001b[0m \u001b[0;34m=\u001b[0m \u001b[0mcbook\u001b[0m\u001b[0;34m.\u001b[0m\u001b[0mnormalize_kwargs\u001b[0m\u001b[0;34m(\u001b[0m\u001b[0mkwargs\u001b[0m\u001b[0;34m,\u001b[0m \u001b[0mmlines\u001b[0m\u001b[0;34m.\u001b[0m\u001b[0mLine2D\u001b[0m\u001b[0;34m.\u001b[0m\u001b[0m_alias_map\u001b[0m\u001b[0;34m)\u001b[0m\u001b[0;34m\u001b[0m\u001b[0;34m\u001b[0m\u001b[0m\n\u001b[1;32m   1610\u001b[0m \u001b[0;34m\u001b[0m\u001b[0m\n\u001b[0;32m-> 1611\u001b[0;31m         \u001b[0;32mfor\u001b[0m \u001b[0mline\u001b[0m \u001b[0;32min\u001b[0m \u001b[0mself\u001b[0m\u001b[0;34m.\u001b[0m\u001b[0m_get_lines\u001b[0m\u001b[0;34m(\u001b[0m\u001b[0;34m*\u001b[0m\u001b[0margs\u001b[0m\u001b[0;34m,\u001b[0m \u001b[0;34m**\u001b[0m\u001b[0mkwargs\u001b[0m\u001b[0;34m)\u001b[0m\u001b[0;34m:\u001b[0m\u001b[0;34m\u001b[0m\u001b[0;34m\u001b[0m\u001b[0m\n\u001b[0m\u001b[1;32m   1612\u001b[0m             \u001b[0mself\u001b[0m\u001b[0;34m.\u001b[0m\u001b[0madd_line\u001b[0m\u001b[0;34m(\u001b[0m\u001b[0mline\u001b[0m\u001b[0;34m)\u001b[0m\u001b[0;34m\u001b[0m\u001b[0;34m\u001b[0m\u001b[0m\n\u001b[1;32m   1613\u001b[0m             \u001b[0mlines\u001b[0m\u001b[0;34m.\u001b[0m\u001b[0mappend\u001b[0m\u001b[0;34m(\u001b[0m\u001b[0mline\u001b[0m\u001b[0;34m)\u001b[0m\u001b[0;34m\u001b[0m\u001b[0;34m\u001b[0m\u001b[0m\n",
      "\u001b[0;32m~/anaconda3/lib/python3.7/site-packages/matplotlib/axes/_base.py\u001b[0m in \u001b[0;36m_grab_next_args\u001b[0;34m(self, *args, **kwargs)\u001b[0m\n\u001b[1;32m    391\u001b[0m                 \u001b[0mthis\u001b[0m \u001b[0;34m+=\u001b[0m \u001b[0margs\u001b[0m\u001b[0;34m[\u001b[0m\u001b[0;36m0\u001b[0m\u001b[0;34m]\u001b[0m\u001b[0;34m,\u001b[0m\u001b[0;34m\u001b[0m\u001b[0;34m\u001b[0m\u001b[0m\n\u001b[1;32m    392\u001b[0m                 \u001b[0margs\u001b[0m \u001b[0;34m=\u001b[0m \u001b[0margs\u001b[0m\u001b[0;34m[\u001b[0m\u001b[0;36m1\u001b[0m\u001b[0;34m:\u001b[0m\u001b[0;34m]\u001b[0m\u001b[0;34m\u001b[0m\u001b[0;34m\u001b[0m\u001b[0m\n\u001b[0;32m--> 393\u001b[0;31m             \u001b[0;32myield\u001b[0m \u001b[0;32mfrom\u001b[0m \u001b[0mself\u001b[0m\u001b[0;34m.\u001b[0m\u001b[0m_plot_args\u001b[0m\u001b[0;34m(\u001b[0m\u001b[0mthis\u001b[0m\u001b[0;34m,\u001b[0m \u001b[0mkwargs\u001b[0m\u001b[0;34m)\u001b[0m\u001b[0;34m\u001b[0m\u001b[0;34m\u001b[0m\u001b[0m\n\u001b[0m\u001b[1;32m    394\u001b[0m \u001b[0;34m\u001b[0m\u001b[0m\n\u001b[1;32m    395\u001b[0m \u001b[0;34m\u001b[0m\u001b[0m\n",
      "\u001b[0;32m~/anaconda3/lib/python3.7/site-packages/matplotlib/axes/_base.py\u001b[0m in \u001b[0;36m_plot_args\u001b[0;34m(self, tup, kwargs)\u001b[0m\n\u001b[1;32m    368\u001b[0m             \u001b[0mx\u001b[0m\u001b[0;34m,\u001b[0m \u001b[0my\u001b[0m \u001b[0;34m=\u001b[0m \u001b[0mindex_of\u001b[0m\u001b[0;34m(\u001b[0m\u001b[0mtup\u001b[0m\u001b[0;34m[\u001b[0m\u001b[0;34m-\u001b[0m\u001b[0;36m1\u001b[0m\u001b[0;34m]\u001b[0m\u001b[0;34m)\u001b[0m\u001b[0;34m\u001b[0m\u001b[0;34m\u001b[0m\u001b[0m\n\u001b[1;32m    369\u001b[0m \u001b[0;34m\u001b[0m\u001b[0m\n\u001b[0;32m--> 370\u001b[0;31m         \u001b[0mx\u001b[0m\u001b[0;34m,\u001b[0m \u001b[0my\u001b[0m \u001b[0;34m=\u001b[0m \u001b[0mself\u001b[0m\u001b[0;34m.\u001b[0m\u001b[0m_xy_from_xy\u001b[0m\u001b[0;34m(\u001b[0m\u001b[0mx\u001b[0m\u001b[0;34m,\u001b[0m \u001b[0my\u001b[0m\u001b[0;34m)\u001b[0m\u001b[0;34m\u001b[0m\u001b[0;34m\u001b[0m\u001b[0m\n\u001b[0m\u001b[1;32m    371\u001b[0m \u001b[0;34m\u001b[0m\u001b[0m\n\u001b[1;32m    372\u001b[0m         \u001b[0;32mif\u001b[0m \u001b[0mself\u001b[0m\u001b[0;34m.\u001b[0m\u001b[0mcommand\u001b[0m \u001b[0;34m==\u001b[0m \u001b[0;34m'plot'\u001b[0m\u001b[0;34m:\u001b[0m\u001b[0;34m\u001b[0m\u001b[0;34m\u001b[0m\u001b[0m\n",
      "\u001b[0;32m~/anaconda3/lib/python3.7/site-packages/matplotlib/axes/_base.py\u001b[0m in \u001b[0;36m_xy_from_xy\u001b[0;34m(self, x, y)\u001b[0m\n\u001b[1;32m    229\u001b[0m         \u001b[0;32mif\u001b[0m \u001b[0mx\u001b[0m\u001b[0;34m.\u001b[0m\u001b[0mshape\u001b[0m\u001b[0;34m[\u001b[0m\u001b[0;36m0\u001b[0m\u001b[0;34m]\u001b[0m \u001b[0;34m!=\u001b[0m \u001b[0my\u001b[0m\u001b[0;34m.\u001b[0m\u001b[0mshape\u001b[0m\u001b[0;34m[\u001b[0m\u001b[0;36m0\u001b[0m\u001b[0;34m]\u001b[0m\u001b[0;34m:\u001b[0m\u001b[0;34m\u001b[0m\u001b[0;34m\u001b[0m\u001b[0m\n\u001b[1;32m    230\u001b[0m             raise ValueError(\"x and y must have same first dimension, but \"\n\u001b[0;32m--> 231\u001b[0;31m                              \"have shapes {} and {}\".format(x.shape, y.shape))\n\u001b[0m\u001b[1;32m    232\u001b[0m         \u001b[0;32mif\u001b[0m \u001b[0mx\u001b[0m\u001b[0;34m.\u001b[0m\u001b[0mndim\u001b[0m \u001b[0;34m>\u001b[0m \u001b[0;36m2\u001b[0m \u001b[0;32mor\u001b[0m \u001b[0my\u001b[0m\u001b[0;34m.\u001b[0m\u001b[0mndim\u001b[0m \u001b[0;34m>\u001b[0m \u001b[0;36m2\u001b[0m\u001b[0;34m:\u001b[0m\u001b[0;34m\u001b[0m\u001b[0;34m\u001b[0m\u001b[0m\n\u001b[1;32m    233\u001b[0m             raise ValueError(\"x and y can be no greater than 2-D, but have \"\n",
      "\u001b[0;31mValueError\u001b[0m: x and y must have same first dimension, but have shapes (14,) and (0,)"
     ]
    },
    {
     "data": {
      "image/png": "[encoded data removed]",
      "text/plain": [
       "<Figure size 720x360 with 1 Axes>"
      ]
     },
     "metadata": {
      "needs_background": "light"
     },
     "output_type": "display_data"
    }
   ],
   "source": [
    "plotGainError()\n",
    "plotLossError()"
   ]
  },
  {
   "cell_type": "code",
   "execution_count": null,
   "metadata": {},
   "outputs": [],
   "source": []
  }
 ],
 "metadata": {
  "kernelspec": {
   "display_name": "Python 3",
   "language": "python",
   "name": "python3"
  },
  "language_info": {
   "codemirror_mode": {
    "name": "ipython",
    "version": 3
   },
   "file_extension": ".py",
   "mimetype": "text/x-python",
   "name": "python",
   "nbconvert_exporter": "python",
   "pygments_lexer": "ipython3",
   "version": "3.7.3"
  }
 },
 "nbformat": 4,
 "nbformat_minor": 2
}
