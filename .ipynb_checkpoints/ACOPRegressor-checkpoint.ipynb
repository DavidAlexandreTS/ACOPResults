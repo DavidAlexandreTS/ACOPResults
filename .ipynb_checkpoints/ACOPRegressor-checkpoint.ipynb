{
 "cells": [
  {
   "cell_type": "markdown",
   "metadata": {},
   "source": [
    "# Imports and dataset loading"
   ]
  },
  {
   "cell_type": "code",
   "execution_count": 10,
   "metadata": {
    "scrolled": true
   },
   "outputs": [],
   "source": [
    "import numpy as np\n",
    "import matplotlib.pyplot as plt\n",
    "import math\n",
    "from sklearn.tree import DecisionTreeRegressor\n",
    "from sklearn.ensemble import RandomForestRegressor\n",
    "from sklearn.multioutput import MultiOutputRegressor\n",
    "from sklearn.svm import SVR\n",
    "from sklearn.preprocessing import MinMaxScaler\n",
    "from keras.models import Sequential\n",
    "from keras.layers import Dense\n",
    "from keras.wrappers.scikit_learn import KerasRegressor\n",
    "import pandas as pd\n",
    "\n",
    "strategyArray = []\n",
    "gainArray     = []\n",
    "lossArray     = []\n",
    "\n",
    "originalDataSet = pd.read_csv('dataset', sep = ',',header = None)\n",
    "scaler = MinMaxScaler()\n",
    "\n",
    "def loadDataset():    \n",
    "    scaler.fit(originalDataSet.sample(frac=1).values.reshape(-1, 1))\n",
    "    dataSet = scaler.transform(originalDataSet.values) \n",
    "    \n",
    "    features, result = np.array(dataSet[:, :4]), np.array(dataSet[:, 4:])\n",
    "    return features, result\n",
    "\n",
    "def invertNorm(value):\n",
    "    auxArray = np.array([value, 0, 0, 0, 0, 0]).reshape(-1, 1)\n",
    "    return scaler.inverse_transform(auxArray)[0][0]\n",
    "    \n",
    "def getError(value1, value2):\n",
    "    return abs(invertNorm(value1) - invertNorm(value2))"
   ]
  },
  {
   "cell_type": "markdown",
   "metadata": {},
   "source": [
    "# Cross validation function"
   ]
  },
  {
   "cell_type": "code",
   "execution_count": 18,
   "metadata": {},
   "outputs": [],
   "source": [
    "def crossValidate(regressor, features, result, folds = 5):\n",
    "    foldSize   = math.ceil(features.shape[0] / folds)\n",
    "    gainErrors = []\n",
    "    lossErrors = []\n",
    "    \n",
    "    for i in range(folds): \n",
    "        sliceBegin = i * foldSize\n",
    "        sliceEnd   = (i + 1) * foldSize\n",
    "        \n",
    "        X_train = np.delete(features, np.s_[sliceBegin: sliceEnd], 0)\n",
    "        y_train = np.delete(result, np.s_[sliceBegin: sliceEnd], 0)\n",
    "        \n",
    "        if isinstance(regressor, Sequential):\n",
    "            regressor.fit(X_train, y_train, epochs = 500, verbose = 0)  \n",
    "        else :\n",
    "            regressor.fit(X_train, y_train)\n",
    "            \n",
    "        X_test = features[sliceBegin: sliceEnd]\n",
    "        y_test = result[sliceBegin: sliceEnd]\n",
    "        \n",
    "        gainError = 0\n",
    "        lossError = 0\n",
    "        \n",
    "        prediction = regressor.predict(X_test)\n",
    "        \n",
    "        for predicted, expected in zip(prediction, y_test):\n",
    "            #print(\"Gain: \", invertNorm(predicted[0]), round(invertNorm(expected[0]), 14))\n",
    "            #print(\"Loss: \", invertNorm(predicted[1]), round(invertNorm(expected[1]), 14))\n",
    "            gainError += getError(predicted[0], expected[0])\n",
    "            lossError += getError(predicted[1], expected[1])\n",
    "            \n",
    "        gainErrors.append(gainError / foldSize)\n",
    "        lossErrors.append(lossError / foldSize)\n",
    "        \n",
    "        if isinstance(regressor, Sequential):\n",
    "            regressor = setANN()\n",
    "\n",
    "    return np.array(gainErrors), np.array(lossErrors)"
   ]
  },
  {
   "cell_type": "code",
   "execution_count": 12,
   "metadata": {
    "scrolled": false
   },
   "outputs": [],
   "source": [
    "def trainModel(strategy):   \n",
    "    features, result = loadDataset()\n",
    "    gainErrors, lossErrors = crossValidate(strategy, features, result)\n",
    "\n",
    "    print(gainErrors, \"=> %0.2f (+/- %0.2f)\" % (np.mean(gainErrors), gainErrors.std() * 2))\n",
    "    print(lossErrors, \"=> %0.2f (+/- %0.2f)\" % (np.mean(lossErrors), lossErrors.std() * 2))\n",
    "    \n",
    "    strategyArray.append(strategy)\n",
    "    gainArray.append(gainErrors)\n",
    "    lossArray.append(lossErrors)"
   ]
  },
  {
   "cell_type": "code",
   "execution_count": 13,
   "metadata": {},
   "outputs": [],
   "source": [
    "def setANN():\n",
    "    model = Sequential()\n",
    "    \n",
    "    model.add(Dense(4, input_dim = 4, kernel_initializer = 'normal', activation = 'sigmoid'))\n",
    "    model.add(Dense(6, kernel_initializer = 'normal', activation = 'sigmoid'))\n",
    "    model.add(Dense(8, kernel_initializer = 'normal', activation = 'sigmoid'))\n",
    "    model.add(Dense(6, kernel_initializer = 'normal', activation = 'sigmoid'))\n",
    "    model.add(Dense(2, kernel_initializer = 'normal', activation = 'sigmoid'))\n",
    "\n",
    "    # Compile model\n",
    "    model.compile(loss='mean_squared_error', optimizer='adam')\n",
    "    return model"
   ]
  },
  {
   "cell_type": "markdown",
   "metadata": {},
   "source": [
    "# Plotting functions"
   ]
  },
  {
   "cell_type": "code",
   "execution_count": 14,
   "metadata": {},
   "outputs": [],
   "source": [
    "def getName(strategies):\n",
    "    names = []\n",
    "    for strategy in strategies:\n",
    "        if isinstance(strategy, DecisionTreeRegressor):\n",
    "            names.append(\"Decision Tree\")\n",
    "\n",
    "        if isinstance(strategy, RandomForestRegressor):\n",
    "            names.append(\"Random Forest\")\n",
    "\n",
    "        if isinstance(strategy, MultiOutputRegressor):\n",
    "            if(strategy.estimator.kernel == \"rbf\"):\n",
    "                names.append(\"SVR (radial kernel)\")\n",
    "            else:\n",
    "                names.append(\"SVR (linear kernel)\")\n",
    "        \n",
    "        if isinstance(strategy, Sequential):\n",
    "            names.append(\"ANN\")\n",
    "            \n",
    "    return names"
   ]
  },
  {
   "cell_type": "code",
   "execution_count": 15,
   "metadata": {},
   "outputs": [],
   "source": [
    "def plotGainError():\n",
    "    fig, axis = plt.subplots(figsize = (10, 5))\n",
    "    data       = gainArray\n",
    "\n",
    "    axis.boxplot(data)\n",
    "    axis.set_title(\"Gain error\")\n",
    "    axis.set_xticklabels(np.repeat(getName(strategyArray), 1))\n",
    "    axis.set_ylabel(\"Absolute error\")\n",
    "\n",
    "    plt.show()"
   ]
  },
  {
   "cell_type": "code",
   "execution_count": 16,
   "metadata": {},
   "outputs": [],
   "source": [
    "def plotLossError():\n",
    "    fig, axis = plt.subplots(figsize = (10, 5))\n",
    "    data       = lossArray\n",
    "\n",
    "    axis.boxplot(data)\n",
    "    axis.set_title(\"Loss error\")\n",
    "    axis.set_xticklabels(np.repeat(getName(strategyArray), 1))\n",
    "    axis.set_ylabel(\"Absolute error\")\n",
    "\n",
    "    plt.show()"
   ]
  },
  {
   "cell_type": "markdown",
   "metadata": {},
   "source": [
    "# Putting all together"
   ]
  },
  {
   "cell_type": "code",
   "execution_count": 17,
   "metadata": {},
   "outputs": [
    {
     "name": "stdout",
     "output_type": "stream",
     "text": [
      "[3.34013572 3.08448996 2.80137954 3.03948487 2.85270711] => 3.02 (+/- 0.38)\n",
      "[2.08340516 1.6297394  1.88540615 1.51548306 1.31713985] => 1.69 (+/- 0.54)\n"
     ]
    }
   ],
   "source": [
    "gainArray = []\n",
    "lossArray = []"
   ]
  },
  {
   "cell_type": "code",
   "execution_count": 9,
   "metadata": {},
   "outputs": [
    {
     "name": "stdout",
     "output_type": "stream",
     "text": [
      "[2.04929836 2.19194409 2.47180216 2.49499596 2.70693251] => 2.38 (+/- 0.47)\n",
      "[2.36998996 1.78365    1.63755429 2.309001   1.42954473] => 1.91 (+/- 0.74)\n"
     ]
    }
   ],
   "source": [
    "regressionTree = DecisionTreeRegressor(max_depth = 9)\n",
    "trainModel(regressionTree)"
   ]
  },
  {
   "cell_type": "code",
   "execution_count": 17,
   "metadata": {},
   "outputs": [
    {
     "name": "stdout",
     "output_type": "stream",
     "text": [
      "[2.14917664 2.19654444 2.21263029 2.38889126 2.54595037] => 2.30 (+/- 0.30)\n",
      "[1.98500559 1.69913187 1.66150533 2.07527306 1.32116251] => 1.75 (+/- 0.53)\n"
     ]
    }
   ],
   "source": [
    "randomForest = RandomForestRegressor(max_depth = 9, n_estimators = 50)\n",
    "trainModel(randomForest)"
   ]
  },
  {
   "cell_type": "code",
   "execution_count": 18,
   "metadata": {},
   "outputs": [
    {
     "name": "stdout",
     "output_type": "stream",
     "text": [
      "[3.64756447 3.16045845 3.00286533 3.02005731 2.6991404 ] => 3.11 (+/- 0.62)\n",
      "[5.6747851  6.41547278 6.11747851 6.34097421 6.59885387] => 6.23 (+/- 0.63)\n"
     ]
    }
   ],
   "source": [
    "radialSVR = MultiOutputRegressor(SVR(kernel = \"rbf\", C = 1.0, gamma = 'scale', epsilon = 0.2))\n",
    "trainModel(radialSVR)"
   ]
  },
  {
   "cell_type": "code",
   "execution_count": 19,
   "metadata": {},
   "outputs": [],
   "source": [
    "linearSVR = MultiOutputRegressor(SVR(kernel = \"linear\", C = 1.0, gamma = 'scale', epsilon = 0.2))\n",
    "trainModel(linearSVR)"
   ]
  },
  {
   "cell_type": "code",
   "execution_count": 19,
   "metadata": {},
   "outputs": [
    {
     "name": "stdout",
     "output_type": "stream",
     "text": [
      "[3.48197666 3.04075496 2.71745155 3.01385183 2.88372572] => 3.03 (+/- 0.51)\n",
      "[2.08876727 1.78945316 1.96768378 1.4618871  1.16806441] => 1.70 (+/- 0.68)\n"
     ]
    }
   ],
   "source": [
    "trainModel(setANN())"
   ]
  },
  {
   "cell_type": "markdown",
   "metadata": {},
   "source": [
    "# Plottin error boxplots"
   ]
  },
  {
   "cell_type": "code",
   "execution_count": 12,
   "metadata": {},
   "outputs": [
    {
     "data": {
      "image/png": "[encoded data removed]",
      "text/plain": [
       "<Figure size 720x360 with 1 Axes>"
      ]
     },
     "metadata": {
      "needs_background": "light"
     },
     "output_type": "display_data"
    },
    {
     "data": {
      "image/png": "[encoded data removed]",
      "text/plain": [
       "<Figure size 720x360 with 1 Axes>"
      ]
     },
     "metadata": {
      "needs_background": "light"
     },
     "output_type": "display_data"
    }
   ],
   "source": [
    "plotGainError()\n",
    "plotLossError()"
   ]
  },
  {
   "cell_type": "code",
   "execution_count": null,
   "metadata": {},
   "outputs": [],
   "source": []
  }
 ],
 "metadata": {
  "kernelspec": {
   "display_name": "Python 3",
   "language": "python",
   "name": "python3"
  },
  "language_info": {
   "codemirror_mode": {
    "name": "ipython",
    "version": 3
   },
   "file_extension": ".py",
   "mimetype": "text/x-python",
   "name": "python",
   "nbconvert_exporter": "python",
   "pygments_lexer": "ipython3",
   "version": "3.7.3"
  }
 },
 "nbformat": 4,
 "nbformat_minor": 2
}
