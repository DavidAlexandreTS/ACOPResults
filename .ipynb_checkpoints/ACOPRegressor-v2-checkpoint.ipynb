{
 "cells": [
  {
   "cell_type": "markdown",
   "metadata": {},
   "source": [
    "# Imports and dataset loading"
   ]
  },
  {
   "cell_type": "code",
   "execution_count": 1,
   "metadata": {
    "scrolled": true
   },
   "outputs": [
    {
     "name": "stderr",
     "output_type": "stream",
     "text": [
      "Using TensorFlow backend.\n"
     ]
    }
   ],
   "source": [
    "import numpy as np\n",
    "import matplotlib.pyplot as plt\n",
    "import math\n",
    "from sklearn.multioutput import MultiOutputRegressor\n",
    "from sklearn import linear_model\n",
    "from sklearn.neighbors import KNeighborsRegressor\n",
    "from sklearn.kernel_ridge import KernelRidge\n",
    "from sklearn.svm import SVR\n",
    "from sklearn.preprocessing import MinMaxScaler\n",
    "from keras.models import Sequential\n",
    "from keras.layers import Dense\n",
    "from keras.wrappers.scikit_learn import KerasRegressor\n",
    "import pandas as pd\n",
    "\n",
    "\n",
    "strategyArray = []\n",
    "gainArray     = []\n",
    "lossArray     = []\n",
    "\n",
    "originalDataSet = pd.read_csv('dataset', sep = ',',header = None)\n",
    "scaler          = MinMaxScaler()\n",
    "\n",
    "def loadDataset():    \n",
    "    scaler.fit(originalDataSet.sample(frac=1).values.reshape(-1, 1))\n",
    "    dataSet = scaler.transform(originalDataSet.values) \n",
    "    \n",
    "    features, result = np.array(dataSet[:, :4]), np.array(dataSet[:, 4:])\n",
    "    return features, result\n",
    "\n",
    "def invertNorm(value):\n",
    "    auxArray = np.array([value, 0, 0, 0, 0, 0]).reshape(-1, 1)\n",
    "    return scaler.inverse_transform(auxArray)[0][0]\n",
    "    \n",
    "def getError(value1, value2):\n",
    "    return abs(invertNorm(value1) - invertNorm(value2))"
   ]
  },
  {
   "cell_type": "markdown",
   "metadata": {},
   "source": [
    "# Cross validation function"
   ]
  },
  {
   "cell_type": "code",
   "execution_count": 2,
   "metadata": {},
   "outputs": [],
   "source": [
    "def crossValidate(regressor, features, result, folds = 5):\n",
    "    foldSize   = math.ceil(features.shape[0] / folds)\n",
    "    gainErrors = []\n",
    "    lossErrors = []\n",
    "    \n",
    "    for i in range(folds): \n",
    "        sliceBegin = i * foldSize\n",
    "        sliceEnd   = (i + 1) * foldSize\n",
    "        \n",
    "        X_train = np.delete(features, np.s_[sliceBegin: sliceEnd], 0)\n",
    "        y_train = np.delete(result, np.s_[sliceBegin: sliceEnd], 0)\n",
    "        \n",
    "        if isinstance(regressor, Sequential):\n",
    "            regressor.fit(X_train, y_train, epochs = 500, verbose = 0)  \n",
    "        else:\n",
    "            regressor.fit(X_train, y_train)\n",
    "            \n",
    "        X_test = features[sliceBegin: sliceEnd]\n",
    "        y_test = result[sliceBegin: sliceEnd]\n",
    "        \n",
    "        gainError = 0\n",
    "        lossError = 0\n",
    "        \n",
    "        prediction = regressor.predict(X_test)\n",
    "        \n",
    "        for predicted, expected in zip(prediction, y_test):\n",
    "            gainError += getError(predicted[0], expected[0])\n",
    "            lossError += getError(predicted[1], expected[1])\n",
    "            \n",
    "        gainErrors.append(gainError / foldSize)\n",
    "        lossErrors.append(lossError / foldSize)\n",
    "        \n",
    "        if isinstance(regressor, Sequential):\n",
    "            regressor = setANN()\n",
    "\n",
    "    return np.array(gainErrors), np.array(lossErrors)"
   ]
  },
  {
   "cell_type": "code",
   "execution_count": 3,
   "metadata": {
    "scrolled": false
   },
   "outputs": [],
   "source": [
    "def trainModel(strategy):   \n",
    "    features, result       = loadDataset()\n",
    "    gainErrors, lossErrors = crossValidate(strategy, features, result)\n",
    "\n",
    "    print(gainErrors, \"=> %0.2f (+/- %0.2f)\" % (np.mean(gainErrors), gainErrors.std() * 2))\n",
    "    print(lossErrors, \"=> %0.2f (+/- %0.2f)\" % (np.mean(lossErrors), lossErrors.std() * 2))\n",
    "    \n",
    "    gainArray.append(gainErrors)\n",
    "    lossArray.append(lossErrors)\n",
    "    \n",
    "    return gainErrors, lossErrors"
   ]
  },
  {
   "cell_type": "code",
   "execution_count": 4,
   "metadata": {},
   "outputs": [],
   "source": [
    "def setANN():\n",
    "    model = Sequential()\n",
    "    \n",
    "    model.add(Dense(4, input_dim = 4, kernel_initializer = 'random_uniform', activation = 'sigmoid'))\n",
    "    model.add(Dense(8, kernel_initializer = 'normal', activation = 'sigmoid'))\n",
    "    model.add(Dense(16, kernel_initializer = 'normal', activation = 'sigmoid'))\n",
    "    model.add(Dense(16, kernel_initializer = 'normal', activation = 'sigmoid'))\n",
    "    model.add(Dense(32, kernel_initializer = 'normal', activation = 'sigmoid'))  \n",
    "    model.add(Dense(32, kernel_initializer = 'normal', activation = 'sigmoid'))\n",
    "    model.add(Dense(64, kernel_initializer = 'normal', activation = 'sigmoid'))\n",
    "    model.add(Dense(64, kernel_initializer = 'normal', activation = 'sigmoid'))\n",
    "    model.add(Dense(64, kernel_initializer = 'normal', activation = 'sigmoid')) \n",
    "    model.add(Dense(64, kernel_initializer = 'normal', activation = 'sigmoid'))\n",
    "    model.add(Dense(32, kernel_initializer = 'normal', activation = 'sigmoid'))\n",
    "    model.add(Dense(32, kernel_initializer = 'normal', activation = 'sigmoid'))\n",
    "    model.add(Dense(16, kernel_initializer = 'normal', activation = 'sigmoid'))  \n",
    "    model.add(Dense(16, kernel_initializer = 'normal', activation = 'sigmoid'))\n",
    "    model.add(Dense(8, kernel_initializer = 'normal', activation = 'sigmoid'))\n",
    "    model.add(Dense(8, kernel_initializer = 'normal', activation = 'sigmoid'))\n",
    "    model.add(Dense(4, kernel_initializer = 'normal', activation = 'sigmoid'))\n",
    "    model.add(Dense(2, kernel_initializer = 'random_uniform', activation = 'relu'))\n",
    "\n",
    "    # Compile model\n",
    "    model.compile(loss='mean_squared_error', optimizer='adam')\n",
    "    return model"
   ]
  },
  {
   "cell_type": "markdown",
   "metadata": {},
   "source": [
    "# Plotting functions"
   ]
  },
  {
   "cell_type": "code",
   "execution_count": 5,
   "metadata": {},
   "outputs": [],
   "source": [
    "def plotGainError():\n",
    "    fig, axis = plt.subplots(figsize = (10, 5))\n",
    "    data       = gainArray\n",
    "\n",
    "    print(strategyArray)\n",
    "    axis.boxplot(data)\n",
    "    axis.set_title(\"Gain error\")\n",
    "    axis.set_xticklabels(np.repeat(strategyArray, 1))\n",
    "    axis.set_ylabel(\"Absolute error\")\n",
    "\n",
    "    plt.show()"
   ]
  },
  {
   "cell_type": "code",
   "execution_count": 6,
   "metadata": {},
   "outputs": [],
   "source": [
    "def plotLossError():\n",
    "    fig, axis = plt.subplots(figsize = (10, 5))\n",
    "    data       = lossArray\n",
    "\n",
    "    axis.boxplot(data)\n",
    "    axis.set_title(\"Loss error\")\n",
    "    axis.set_xticklabels(np.repeat(strategyArray, 1))\n",
    "    axis.set_ylabel(\"Absolute error\")\n",
    "\n",
    "    plt.show()"
   ]
  },
  {
   "cell_type": "markdown",
   "metadata": {},
   "source": [
    "# Putting all together"
   ]
  },
  {
   "cell_type": "code",
   "execution_count": 7,
   "metadata": {},
   "outputs": [],
   "source": [
    "gainArray = []\n",
    "lossArray = []"
   ]
  },
  {
   "cell_type": "code",
   "execution_count": 8,
   "metadata": {},
   "outputs": [
    {
     "name": "stdout",
     "output_type": "stream",
     "text": [
      "[3.64756447 3.16045845 3.00286533 3.02005731 2.6991404 ] => 3.11 (+/- 0.62)\n",
      "[5.6747851  6.41547278 6.11747851 6.34097421 6.59885387] => 6.23 (+/- 0.63)\n"
     ]
    }
   ],
   "source": [
    "linearSVR = MultiOutputRegressor(SVR(kernel = \"rbf\", C = 1.0, gamma = 'scale', epsilon = 0.2))\n",
    "trainModel(linearSVR)\n",
    "strategyArray.append(\"SVR (Linear)\")"
   ]
  },
  {
   "cell_type": "code",
   "execution_count": 9,
   "metadata": {},
   "outputs": [
    {
     "name": "stdout",
     "output_type": "stream",
     "text": [
      "[5.25059772 3.92860042 4.07387309 3.73336383 5.48161398] => 4.49 (+/- 1.45)\n",
      "[3.29281446 2.36629772 2.82034427 2.35385697 3.59115349] => 2.88 (+/- 0.99)\n"
     ]
    }
   ],
   "source": [
    "ridge = MultiOutputRegressor(KernelRidge(alpha = 1.0))\n",
    "trainModel(ridge)\n",
    "strategyArray.append(\"Ridge\")"
   ]
  },
  {
   "cell_type": "code",
   "execution_count": 10,
   "metadata": {},
   "outputs": [
    {
     "name": "stdout",
     "output_type": "stream",
     "text": [
      "[3.36112388 3.05026437 2.79273569 3.01764353 2.76805609] => 3.00 (+/- 0.43)\n",
      "[2.08823819 1.63738803 1.92714756 1.54396926 1.37129827] => 1.71 (+/- 0.52)\n"
     ]
    }
   ],
   "source": [
    "lasso = MultiOutputRegressor(linear_model.Lasso(alpha = 0.2))\n",
    "trainModel(lasso)\n",
    "strategyArray.append(\"Lasso\")"
   ]
  },
  {
   "cell_type": "code",
   "execution_count": 11,
   "metadata": {},
   "outputs": [
    {
     "name": "stdout",
     "output_type": "stream",
     "text": [
      "[3.23932525 3.01925407 2.71968479 2.99235276 2.82927157] => 2.96 (+/- 0.35)\n",
      "[2.06273749 1.65246133 1.92058333 1.54309612 1.31281411] => 1.70 (+/- 0.53)\n"
     ]
    }
   ],
   "source": [
    "lars = MultiOutputRegressor(linear_model.Lars(n_nonzero_coefs=1))\n",
    "trainModel(lars)\n",
    "strategyArray.append(\"LARS\")"
   ]
  },
  {
   "cell_type": "code",
   "execution_count": 12,
   "metadata": {},
   "outputs": [
    {
     "name": "stdout",
     "output_type": "stream",
     "text": [
      "[2.97767521 2.93123775 2.61973303 2.92574289 3.62482412] => 3.02 (+/- 0.66)\n",
      "[2.07674289 1.52407454 1.85297885 1.4371393  1.19961188] => 1.62 (+/- 0.62)\n"
     ]
    }
   ],
   "source": [
    "huber = MultiOutputRegressor(linear_model.HuberRegressor())\n",
    "trainModel(huber)\n",
    "strategyArray.append(\"Huber\")"
   ]
  },
  {
   "cell_type": "code",
   "execution_count": 13,
   "metadata": {},
   "outputs": [
    {
     "name": "stdout",
     "output_type": "stream",
     "text": [
      "[2.67449857 2.49398281 2.64183381 2.76905444 2.91862464] => 2.70 (+/- 0.28)\n",
      "[2.21489971 1.85329513 1.86303725 1.48882521 1.26590258] => 1.74 (+/- 0.66)\n"
     ]
    }
   ],
   "source": [
    "knn = MultiOutputRegressor(KNeighborsRegressor())\n",
    "trainModel(knn)\n",
    "strategyArray.append(\"KNN\")"
   ]
  },
  {
   "cell_type": "code",
   "execution_count": 14,
   "metadata": {},
   "outputs": [
    {
     "name": "stdout",
     "output_type": "stream",
     "text": [
      "[2.16919771 2.18755014 2.20707736 2.40071633 2.57856734] => 2.31 (+/- 0.32)\n",
      "[2.00820917 1.64912607 1.75170487 1.49256447 1.32083095] => 1.64 (+/- 0.47)\n"
     ]
    }
   ],
   "source": [
    "from sklearn.ensemble import BaggingRegressor\n",
    "from sklearn.tree import ExtraTreeRegressor\n",
    "\n",
    "extra_tree = ExtraTreeRegressor(criterion = \"mae\", random_state=0)\n",
    "bret = MultiOutputRegressor(BaggingRegressor(base_estimator = extra_tree, n_estimators = 100, random_state = 0))\n",
    "trainModel(bret)\n",
    "strategyArray.append(\"Extra Tree\")"
   ]
  },
  {
   "cell_type": "code",
   "execution_count": 15,
   "metadata": {},
   "outputs": [
    {
     "name": "stdout",
     "output_type": "stream",
     "text": [
      "[2.90167569 2.89917048 2.6439736  2.91287429 2.90219045] => 2.85 (+/- 0.21)\n",
      "[2.07448712 1.60945643 1.92630986 1.52570191 1.37274716] => 1.70 (+/- 0.52)\n"
     ]
    }
   ],
   "source": [
    "from sklearn.neural_network import MLPRegressor\n",
    "\n",
    "mlp = MLPRegressor(hidden_layer_sizes = (8, 16, 16, 32, 32, 64, 64, 64, 64, 32, 32, 16, 16, 8, 8, 4), activation = 'identity', solver = 'lbfgs', learning_rate = 'constant', alpha = 0.001, random_state = 0)\n",
    "trainModel(mlp)\n",
    "strategyArray.append(\"MLP\")"
   ]
  },
  {
   "cell_type": "markdown",
   "metadata": {},
   "source": [
    "# Plotting error boxplots"
   ]
  },
  {
   "cell_type": "code",
   "execution_count": 17,
   "metadata": {},
   "outputs": [
    {
     "name": "stdout",
     "output_type": "stream",
     "text": [
      "['SVR (Linear)', 'Ridge', 'Lasso', 'LARS', 'Huber', 'KNN', 'Extra Tree', 'MLP']\n"
     ]
    },
    {
     "data": {
      "image/png": "[encoded data removed]",
      "text/plain": [
       "<Figure size 720x360 with 1 Axes>"
      ]
     },
     "metadata": {
      "needs_background": "light"
     },
     "output_type": "display_data"
    },
    {
     "data": {
      "image/png": "[encoded data removed]",
      "text/plain": [
       "<Figure size 720x360 with 1 Axes>"
      ]
     },
     "metadata": {
      "needs_background": "light"
     },
     "output_type": "display_data"
    }
   ],
   "source": [
    "plotGainError()\n",
    "plotLossError()"
   ]
  },
  {
   "cell_type": "code",
   "execution_count": 20,
   "metadata": {},
   "outputs": [
    {
     "data": {
      "image/png": "[encoded data removed]",
      "text/plain": [
       "<Figure size 720x360 with 1 Axes>"
      ]
     },
     "metadata": {
      "needs_background": "light"
     },
     "output_type": "display_data"
    }
   ],
   "source": [
    "features, result = loadDataset()\n",
    "extra_tree = ExtraTreeRegressor(criterion = \"mae\", random_state = 0)\n",
    "regressor  = MultiOutputRegressor(BaggingRegressor(base_estimator = extra_tree, n_estimators = 100, random_state = 0))\n",
    "\n",
    "regressor.fit(features, result)\n",
    "\n",
    "predicted = regressor.predict(features)\n",
    "fig, axis = plt.subplots(figsize = (10, 5))\n",
    "\n",
    "axis.scatter(result[:, 0], result[:, 1])\n",
    "axis.scatter(predicted[:, 0], predicted[:, 1], c = \"m\")\n",
    "\n",
    "axis.set_title(\"Extra Tree regressor\")\n",
    "axis.set_xlabel(\"Gain\")\n",
    "axis.set_ylabel(\"Loss\")\n",
    "axis.legend([\"expected\", \"predicted\"])\n",
    "\n",
    "plt.show()"
   ]
  },
  {
   "cell_type": "code",
   "execution_count": 21,
   "metadata": {},
   "outputs": [
    {
     "data": {
      "image/png": "[encoded data removed]",
      "text/plain": [
       "<Figure size 720x360 with 1 Axes>"
      ]
     },
     "metadata": {
      "needs_background": "light"
     },
     "output_type": "display_data"
    }
   ],
   "source": [
    "features, result = loadDataset()\n",
    "regressor = MLPRegressor(hidden_layer_sizes = (8, 16, 16, 32, 32, 64, 64, 64, 64, 32, 32, 16, 16, 8, 8, 4), activation = 'identity', solver = 'lbfgs', learning_rate = 'constant', alpha = 0.001, random_state = 0)\n",
    "regressor.fit(features, result)\n",
    "\n",
    "predicted = regressor.predict(features)\n",
    "fig, axis = plt.subplots(figsize = (10, 5))\n",
    "\n",
    "axis.scatter(result[:, 0], result[:, 1])\n",
    "axis.scatter(predicted[:, 0], predicted[:, 1], c = \"m\")\n",
    "\n",
    "axis.set_title(\"MLP regressor\")\n",
    "axis.set_xlabel(\"Gain\")\n",
    "axis.set_ylabel(\"Loss\")\n",
    "axis.legend([\"expected\", \"predicted\"])\n",
    "\n",
    "plt.show()"
   ]
  },
  {
   "cell_type": "code",
   "execution_count": null,
   "metadata": {},
   "outputs": [],
   "source": []
  }
 ],
 "metadata": {
  "kernelspec": {
   "display_name": "Python 3",
   "language": "python",
   "name": "python3"
  },
  "language_info": {
   "codemirror_mode": {
    "name": "ipython",
    "version": 3
   },
   "file_extension": ".py",
   "mimetype": "text/x-python",
   "name": "python",
   "nbconvert_exporter": "python",
   "pygments_lexer": "ipython3",
   "version": "3.7.3"
  }
 },
 "nbformat": 4,
 "nbformat_minor": 2
}
