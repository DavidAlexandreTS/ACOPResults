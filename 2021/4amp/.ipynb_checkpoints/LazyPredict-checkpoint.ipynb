{
 "cells": [
  {
   "cell_type": "markdown",
   "metadata": {},
   "source": [
    "# Imports and dataset loading"
   ]
  },
  {
   "cell_type": "code",
   "execution_count": 1,
   "metadata": {
    "scrolled": true
   },
   "outputs": [
    {
     "name": "stderr",
     "output_type": "stream",
     "text": [
      "/home/leandro/Documentos/Mestrado/ACOPResults/acopEnv/lib/python3.6/site-packages/sklearn/utils/deprecation.py:143: FutureWarning: The sklearn.utils.testing module is  deprecated in version 0.22 and will be removed in version 0.24. The corresponding classes / functions should instead be imported from sklearn.utils. Anything that cannot be imported from sklearn.utils is now part of the private API.\n",
      "  warnings.warn(message, FutureWarning)\n"
     ]
    }
   ],
   "source": [
    "import numpy as np\n",
    "import matplotlib.pyplot as plt\n",
    "import math\n",
    "from sklearn.svm import SVR\n",
    "from sklearn.preprocessing import MinMaxScaler\n",
    "import pandas as pd\n",
    "from sklearn.model_selection import train_test_split\n",
    "from lazypredict.Supervised import LazyRegressor\n",
    "\n",
    "models        = []\n",
    "strategyArray = []\n",
    "gainArray     = []\n",
    "lossArray     = []\n",
    "ampNumber     = 4\n",
    "\n",
    "originalDataSet = pd.read_csv('dataset.txt', sep = ',',header = None)\n",
    "originalDataSet = originalDataSet.sample(frac = 1, random_state = 5)\n",
    "\n",
    "binaryDataSet   = []\n",
    "\n",
    "for line in originalDataSet.values:\n",
    "    myList = [1 if i != 0 else 0 for i in line[:40]]\n",
    "    myList.extend(line[40:])\n",
    "    binaryDataSet.append(myList)\n",
    "\n",
    "binaryDataSet = pd.DataFrame(binaryDataSet)\n",
    "gainScaler    = MinMaxScaler(feature_range = (-1, 1))\n",
    "lossScaler    = MinMaxScaler(feature_range = (-1, 1))\n",
    "\n",
    "gainScalerAux = []\n",
    "lossScalerAux = []\n",
    "\n",
    "for i in range(0, ampNumber * 2, 2):\n",
    "    gainScalerAux.extend(binaryDataSet.values[:, 40 + i])\n",
    "    lossScalerAux.extend(binaryDataSet.values[:, 40 + i + 1])\n",
    "\n",
    "gainScaler.fit(np.array(gainScalerAux).reshape(-1, 1))\n",
    "lossScaler.fit(np.array(lossScalerAux).reshape(-1, 1))\n",
    "\n",
    "def loadDataset(): \n",
    "    dataSet = binaryDataSet.values[:, :40]\n",
    "    \n",
    "    for i in range(0, ampNumber * 2, 2):\n",
    "        gain    = np.array(binaryDataSet.values[:, 40 + i])\n",
    "        gain    = gainScaler.transform(gain.reshape(-1, 1))\n",
    "        dataSet = np.hstack((dataSet, gain))\n",
    "        \n",
    "        loss    = np.array(binaryDataSet.values[:, 40 + i + 1])\n",
    "        loss    = lossScaler.transform(loss.reshape(-1, 1))\n",
    "        dataSet = np.hstack((dataSet, loss))\n",
    "            \n",
    "    features, result = np.array(dataSet[:, :40]), np.array(dataSet[:, 40:])\n",
    "    \n",
    "    return features, result\n",
    "\n",
    "def invertGainNorm(value):\n",
    "    auxArray = np.array([value, 0, 0, 0, 0, 0]).reshape(-1, 1)\n",
    "    return round(gainScaler.inverse_transform(auxArray)[0][0])\n",
    "\n",
    "def invertLossNorm(value):\n",
    "    auxArray = np.array([value, 0, 0, 0, 0, 0]).reshape(-1, 1)\n",
    "    return round(lossScaler.inverse_transform(auxArray)[0][0])\n",
    "    \n",
    "def getGainError(value1, value2):\n",
    "    return abs(invertGainNorm(value1) - invertGainNorm(value2))\n",
    "\n",
    "def getLossError(value1, value2):\n",
    "    return abs(invertLossNorm(value1) - invertLossNorm(value2))"
   ]
  },
  {
   "cell_type": "markdown",
   "metadata": {},
   "source": [
    "# Model setup"
   ]
  },
  {
   "cell_type": "code",
   "execution_count": 2,
   "metadata": {},
   "outputs": [],
   "source": [
    "def initModels():\n",
    "    models = []\n",
    "    \n",
    "    for i in range(ampNumber):\n",
    "        models.append(MultiOutputRegressor(KNeighborsRegressor()))\n",
    "    \n",
    "    return models"
   ]
  },
  {
   "cell_type": "markdown",
   "metadata": {},
   "source": [
    "# Cross validation function"
   ]
  },
  {
   "cell_type": "code",
   "execution_count": 3,
   "metadata": {},
   "outputs": [],
   "source": [
    "def crossValidate(regressor, features, result, folds = 5):\n",
    "    foldSize   = math.ceil(features.shape[0] / folds)\n",
    "    gainErrors = []\n",
    "    lossErrors = []\n",
    "    \n",
    "    for i in range(folds): \n",
    "        sliceBegin = i * foldSize\n",
    "        sliceEnd   = (i + 1) * foldSize\n",
    "        \n",
    "        X_train = np.delete(features, np.s_[sliceBegin: sliceEnd], 0)\n",
    "        y_train = np.delete(result, np.s_[sliceBegin: sliceEnd], 0)\n",
    "        \n",
    "        if isinstance(regressor, Sequential):\n",
    "            regressor.fit(X_train, y_train, epochs = 500, verbose = 0)  \n",
    "        else:\n",
    "            regressor.fit(X_train, y_train)\n",
    "            \n",
    "        X_test = features[sliceBegin: sliceEnd]\n",
    "        y_test = result[sliceBegin: sliceEnd]\n",
    "        \n",
    "        gainError = 0\n",
    "        lossError = 0\n",
    "        \n",
    "        prediction = regressor.predict(X_test)\n",
    "        \n",
    "        for predicted, expected in zip(prediction, y_test):\n",
    "            gainError += getGainError(predicted[0], expected[0]) \n",
    "            lossError += getLossError(predicted[1], expected[1])\n",
    "                 \n",
    "        gainErrors.append((gainError / ampNumber) / foldSize)\n",
    "        lossErrors.append((lossError / ampNumber) / foldSize) # average loss error by amp\n",
    "        \n",
    "    return np.array(gainErrors), np.array(lossErrors)"
   ]
  },
  {
   "cell_type": "code",
   "execution_count": 4,
   "metadata": {
    "scrolled": false
   },
   "outputs": [],
   "source": [
    "def trainModel(models):   \n",
    "    features, result       = loadDataset()\n",
    "    gainErrors, lossErrors = crossValidate(models[0], features, result[:, 0: 2])\n",
    "    \n",
    "    print(gainErrors, \"=> %0.2f (+/- %0.2f)\" % (np.mean(gainErrors), gainErrors.std() * 2))\n",
    "    print(lossErrors, \"=> %0.2f (+/- %0.2f)\\n\" % (np.mean(lossErrors), lossErrors.std() * 2))\n",
    "    \n",
    "    gainArray.append(gainErrors)\n",
    "    lossArray.append(lossErrors)\n",
    "    strategyArray.append(\"KNN - Amp 1\")\n",
    "    \n",
    "    prediction = models[0].predict(features)\n",
    "\n",
    "    for i in range(1, ampNumber):\n",
    "        gainErrors, lossErrors = crossValidate(models[i], np.hstack((features, prediction)), result[:, i * 2: i * 2 + 2]) \n",
    "        print(gainErrors, \"=> %0.2f (+/- %0.2f)\" % (np.mean(gainErrors), gainErrors.std() * 2))\n",
    "        print(lossErrors, \"=> %0.2f (+/- %0.2f)\\n\" % (np.mean(lossErrors), lossErrors.std() * 2))\n",
    "\n",
    "        gainArray.append(gainErrors)\n",
    "        lossArray.append(lossErrors)\n",
    "        strategyArray.append(\"KNN - Amp {}\".format(i + 1))\n",
    "        \n",
    "        prediction = models[i].predict(np.hstack((features, prediction)))\n",
    "    \n",
    "    return gainErrors, lossErrors"
   ]
  },
  {
   "cell_type": "markdown",
   "metadata": {},
   "source": [
    "# Plotting functions"
   ]
  },
  {
   "cell_type": "code",
   "execution_count": 5,
   "metadata": {},
   "outputs": [],
   "source": [
    "def plotDistribution(models):\n",
    "    train_results = []\n",
    "    test_results  = []\n",
    "    features, result                 = loadDataset()\n",
    "    X_train, X_test, y_train, y_test = train_test_split(features, result, test_size = 0.3, random_state = 5)\n",
    "    \n",
    "    models[0].fit(X_train, y_train[:, 0: 2])\n",
    "    train_results.append(models[0].predict(X_train))\n",
    "    test_results.append(models[0].predict(X_test))\n",
    "    \n",
    "    for i in range(1, ampNumber):\n",
    "        models[i].fit(np.hstack((X_train, train_results[i - 1])), y_train[:, i * 2: i * 2 + 2])\n",
    "        train_results.append(models[i].predict(np.hstack((X_train, train_results[i - 1]))))\n",
    "        test_results.append(models[i].predict(np.hstack((X_test, test_results[i - 1]))))\n",
    "    \n",
    "    fig   = plt.figure(figsize = (15, 5))\n",
    "    vGain = np.vectorize(invertGainNorm)\n",
    "    vLoss = np.vectorize(invertLossNorm)\n",
    "    \n",
    "    for i in range(ampNumber):\n",
    "        ax = fig.add_subplot(2, 2, i + 1)\n",
    "        \n",
    "        yGain    = vGain(y_test[:, i * 2])\n",
    "        yLoss    = vLoss(y_test[:, i * 2 + 1])\n",
    "        testGain = vGain(test_results[i][:, 0])\n",
    "        testLoss = vLoss(test_results[i][:, 1])\n",
    "        \n",
    "        ax.scatter(yGain, yLoss)\n",
    "        ax.scatter(testGain, testLoss, c = \"m\")\n",
    "        ax.set_title(\"Amplifier {}\".format(i + 1))\n",
    "    \n",
    "    fig.suptitle(\"Test Error\", fontsize = 16)\n",
    "    fig.text(0.5, 0.04, 'Gain', ha='center', va='center', fontsize = 14)\n",
    "    fig.text(0.06, 0.5, 'Loss', ha='center', va='center', rotation='vertical', fontsize = 14)\n",
    "    fig.legend([\"expected\", \"predicted\"])\n",
    "\n",
    "    plt.show()\n",
    "    return y_test, test_results"
   ]
  },
  {
   "cell_type": "code",
   "execution_count": 6,
   "metadata": {},
   "outputs": [],
   "source": [
    "def plotGainError(yTest, predicted):\n",
    "    fig, axis = plt.subplots(figsize = (10, 5))\n",
    "    data      = []\n",
    "    \n",
    "    #(1053, 8) (4, 1053, 2)\n",
    "    #print(np.array(yTest).shape, np.array(predicted).shape)\n",
    "    \n",
    "    for i in range(ampNumber):\n",
    "        gainError = []\n",
    "        \n",
    "        yTestAmp     = yTest[:, i * 2]\n",
    "        predictedAmp = predicted[i][:, 0]\n",
    "        \n",
    "        for a, b in zip(predictedAmp, yTestAmp):\n",
    "            gainError.append(getGainError(a, b)) \n",
    "        \n",
    "        data.append(gainError)\n",
    "        \n",
    "    axis.boxplot(data)\n",
    "    axis.set_title(\"Test Gain Error\", fontsize = 16)\n",
    "    axis.set_xticklabels(np.repeat(strategyArray, 1))\n",
    "    axis.set_ylabel(\"Absolute error (dB)\", fontsize = 14)\n",
    "\n",
    "    plt.show()"
   ]
  },
  {
   "cell_type": "code",
   "execution_count": 7,
   "metadata": {},
   "outputs": [],
   "source": [
    "def plotLossError(yTest, predicted):\n",
    "    fig, axis = plt.subplots(figsize = (10, 5))\n",
    "    data      = []\n",
    "    \n",
    "    for i in range(ampNumber):\n",
    "        lossError = []\n",
    "        \n",
    "        yTestAmp     = yTest[:, i * 2 + 1]\n",
    "        predictedAmp = predicted[i][:, 1]\n",
    "        \n",
    "        for a, b in zip(predictedAmp, yTestAmp):\n",
    "            lossError.append(getLossError(a, b)) \n",
    "        \n",
    "        data.append(lossError)\n",
    "        \n",
    "    axis.boxplot(data)\n",
    "    axis.set_title(\"Test Loss Error\", fontsize = 16)\n",
    "    axis.set_xticklabels(np.repeat(strategyArray, 1))\n",
    "    axis.set_ylabel(\"Absolute error (dB)\", fontsize = 14)\n",
    "\n",
    "    plt.show()"
   ]
  },
  {
   "cell_type": "code",
   "execution_count": 8,
   "metadata": {},
   "outputs": [],
   "source": [
    "def plotLinkTestError(yTest, predicted):\n",
    "    fig, axis = plt.subplots(figsize = (10, 5))\n",
    "    lossData  = [] \n",
    "    gainData  = [] \n",
    "    \n",
    "    yTestGain     = yTest[:, 0]\n",
    "    yTestLoss     = yTest[:, 1]\n",
    "    predictedGain = np.array(predicted[0][:, 0]).flatten()\n",
    "    predictedLoss = np.array(predicted[0][:, 1]).flatten()\n",
    "    \n",
    "    for i in range(1, ampNumber):\n",
    "        yTestGain     = np.hstack((yTestGain, yTest[:, i * 2]))\n",
    "        yTestLoss     = np.hstack((yTestLoss, yTest[:, i * 2 + 1]))\n",
    "        predictedGain = np.hstack((predictedGain, np.array(predicted[i][:, 0]).flatten()))\n",
    "        predictedLoss = np.hstack((predictedLoss, np.array(predicted[i][:, 1]).flatten()))\n",
    "    \n",
    "    for i in range(len(yTestGain)):\n",
    "        lossData.append(getLossError(predictedLoss[i], yTestLoss[i]))\n",
    "        gainData.append(getGainError(predictedGain[i], yTestGain[i]))\n",
    "            \n",
    "    print(\"Loss error mean: {}. Loss error median: {}\".format(np.mean(lossData), np.median(lossData)))\n",
    "    print(\"Gain error mean: {}. Gain error median: {}\".format(np.mean(gainData), np.median(gainData)))\n",
    "    \n",
    "    axis.boxplot([lossData, gainData])\n",
    "    axis.set_title(\"Link Test Error\", fontsize = 16)\n",
    "    axis.set_xticklabels([\"Gain\", \"Loss\"])\n",
    "    axis.set_ylabel(\"Absolute error (dB)\", fontsize = 14)\n",
    "\n",
    "    plt.show()"
   ]
  },
  {
   "cell_type": "code",
   "execution_count": 9,
   "metadata": {},
   "outputs": [],
   "source": [
    "def plotLearningCurves(ampNumber, model, X, y, cv):\n",
    "    fig, axis                              = plt.subplots(figsize = (10, 5))\n",
    "    train_sizes, train_scores, test_scores = learning_curve(model, X, y, cv = cv, \n",
    "                                                            train_sizes = np.linspace(0.1, 1.0, 6),\n",
    "                                                            scoring = \"neg_mean_squared_error\")\n",
    "       \n",
    "    train_scores = -train_scores\n",
    "    test_scores  = -test_scores\n",
    "\n",
    "    train_scores_mean = np.mean(train_scores, axis = 1)\n",
    "    train_scores_std  = np.std(train_scores, axis = 1)\n",
    "    test_scores_mean  = np.mean(test_scores, axis = 1)\n",
    "    test_scores_std   = np.std(test_scores, axis = 1)\n",
    "    \n",
    "    print(\"Size splits: {}\".format(train_sizes))\n",
    "    print(\"Train scores: {} \".format(train_scores_mean))\n",
    "    print(\"Test scores: {} \".format(test_scores_mean))\n",
    "\n",
    "    # Plot learning curve\n",
    "    axis.plot(train_sizes, train_scores_mean, 'o-', color = \"r\", label = \"Training score\")\n",
    "    axis.plot(train_sizes, test_scores_mean, 'o-', color = \"g\", label = \"Test score\")\n",
    "    axis.set_title(\"Learning Error - Amplifier {}\".format(ampNumber + 1), fontsize = 16)\n",
    "    axis.set_xlabel(\"Train size\", fontsize = 14)\n",
    "    axis.set_ylabel(\"MSE\", fontsize = 14)\n",
    "    axis.legend(loc = \"best\")\n",
    "    \n",
    "    plt.show()"
   ]
  },
  {
   "cell_type": "markdown",
   "metadata": {},
   "source": [
    "# Putting all together"
   ]
  },
  {
   "cell_type": "code",
   "execution_count": 10,
   "metadata": {},
   "outputs": [
    {
     "name": "stderr",
     "output_type": "stream",
     "text": [
      " 12%|█▏        | 5/43 [00:00<00:00, 46.71it/s]"
     ]
    },
    {
     "name": "stdout",
     "output_type": "stream",
     "text": [
      "AdaBoostRegressor model failed to execute\n",
      "y should be a 1d array, got an array of shape (2455, 2) instead.\n",
      "BayesianRidge model failed to execute\n",
      "y should be a 1d array, got an array of shape (2455, 2) instead.\n",
      "ElasticNetCV model failed to execute\n",
      "For multi-task outputs, use MultiTaskElasticNetCV\n"
     ]
    },
    {
     "name": "stderr",
     "output_type": "stream",
     "text": [
      "\r",
      " 21%|██        | 9/43 [00:00<00:01, 21.14it/s]"
     ]
    },
    {
     "name": "stdout",
     "output_type": "stream",
     "text": [
      "GammaRegressor model failed to execute\n",
      "y should be a 1d array, got an array of shape (2455, 2) instead.\n"
     ]
    },
    {
     "name": "stderr",
     "output_type": "stream",
     "text": [
      " 37%|███▋      | 16/43 [00:01<00:03,  8.43it/s]"
     ]
    },
    {
     "name": "stdout",
     "output_type": "stream",
     "text": [
      "GeneralizedLinearRegressor model failed to execute\n",
      "y should be a 1d array, got an array of shape (2455, 2) instead.\n",
      "GradientBoostingRegressor model failed to execute\n",
      "y should be a 1d array, got an array of shape (2455, 2) instead.\n",
      "HistGradientBoostingRegressor model failed to execute\n",
      "y should be a 1d array, got an array of shape (2455, 2) instead.\n",
      "HuberRegressor model failed to execute\n",
      "y should be a 1d array, got an array of shape (2455, 2) instead.\n"
     ]
    },
    {
     "name": "stderr",
     "output_type": "stream",
     "text": [
      " 56%|█████▌    | 24/43 [00:02<00:02,  9.43it/s]"
     ]
    },
    {
     "name": "stdout",
     "output_type": "stream",
     "text": [
      "LarsCV model failed to execute\n",
      "y should be a 1d array, got an array of shape (2455, 2) instead.\n",
      "LassoCV model failed to execute\n",
      "For multi-task outputs, use MultiTaskLassoCV\n",
      "LassoLarsCV model failed to execute\n",
      "y should be a 1d array, got an array of shape (2455, 2) instead.\n",
      "LassoLarsIC model failed to execute\n",
      "y should be a 1d array, got an array of shape (2455, 2) instead.\n",
      "LinearSVR model failed to execute\n",
      "y should be a 1d array, got an array of shape (2455, 2) instead.\n"
     ]
    },
    {
     "name": "stderr",
     "output_type": "stream",
     "text": [
      " 74%|███████▍  | 32/43 [00:03<00:01,  7.28it/s]"
     ]
    },
    {
     "name": "stdout",
     "output_type": "stream",
     "text": [
      "NuSVR model failed to execute\n",
      "y should be a 1d array, got an array of shape (2455, 2) instead.\n",
      "OrthogonalMatchingPursuitCV model failed to execute\n",
      "y should be a 1d array, got an array of shape (2455, 2) instead.\n",
      "PassiveAggressiveRegressor model failed to execute\n",
      "y should be a 1d array, got an array of shape (2455, 2) instead.\n",
      "PoissonRegressor model failed to execute\n",
      "y should be a 1d array, got an array of shape (2455, 2) instead.\n"
     ]
    },
    {
     "name": "stderr",
     "output_type": "stream",
     "text": [
      "100%|██████████| 43/43 [00:03<00:00, 10.92it/s]\n",
      "  5%|▍         | 2/43 [00:00<00:02, 19.95it/s]"
     ]
    },
    {
     "name": "stdout",
     "output_type": "stream",
     "text": [
      "SGDRegressor model failed to execute\n",
      "y should be a 1d array, got an array of shape (2455, 2) instead.\n",
      "SVR model failed to execute\n",
      "y should be a 1d array, got an array of shape (2455, 2) instead.\n",
      "StackingRegressor model failed to execute\n",
      "__init__() missing 1 required positional argument: 'estimators'\n",
      "TweedieRegressor model failed to execute\n",
      "y should be a 1d array, got an array of shape (2455, 2) instead.\n",
      "XGBRegressor model failed to execute\n",
      "only size-1 arrays can be converted to Python scalars\n",
      "LGBMRegressor model failed to execute\n",
      "y should be a 1d array, got an array of shape (2455, 2) instead.\n",
      "AdaBoostRegressor model failed to execute\n",
      "y should be a 1d array, got an array of shape (2455, 2) instead.\n",
      "BayesianRidge model failed to execute\n",
      "y should be a 1d array, got an array of shape (2455, 2) instead.\n",
      "ElasticNetCV model failed to execute\n",
      "For multi-task outputs, use MultiTaskElasticNetCV\n"
     ]
    },
    {
     "name": "stderr",
     "output_type": "stream",
     "text": [
      "\r",
      " 21%|██        | 9/43 [00:00<00:01, 18.19it/s]"
     ]
    },
    {
     "name": "stdout",
     "output_type": "stream",
     "text": [
      "GammaRegressor model failed to execute\n",
      "y should be a 1d array, got an array of shape (2455, 2) instead.\n"
     ]
    },
    {
     "name": "stderr",
     "output_type": "stream",
     "text": [
      " 37%|███▋      | 16/43 [00:01<00:03,  8.26it/s]"
     ]
    },
    {
     "name": "stdout",
     "output_type": "stream",
     "text": [
      "GeneralizedLinearRegressor model failed to execute\n",
      "y should be a 1d array, got an array of shape (2455, 2) instead.\n",
      "GradientBoostingRegressor model failed to execute\n",
      "y should be a 1d array, got an array of shape (2455, 2) instead.\n",
      "HistGradientBoostingRegressor model failed to execute\n",
      "y should be a 1d array, got an array of shape (2455, 2) instead.\n",
      "HuberRegressor model failed to execute\n",
      "y should be a 1d array, got an array of shape (2455, 2) instead.\n"
     ]
    },
    {
     "name": "stderr",
     "output_type": "stream",
     "text": [
      " 56%|█████▌    | 24/43 [00:01<00:01, 10.33it/s]"
     ]
    },
    {
     "name": "stdout",
     "output_type": "stream",
     "text": [
      "LarsCV model failed to execute\n",
      "y should be a 1d array, got an array of shape (2455, 2) instead.\n",
      "LassoCV model failed to execute\n",
      "For multi-task outputs, use MultiTaskLassoCV\n",
      "LassoLarsCV model failed to execute\n",
      "y should be a 1d array, got an array of shape (2455, 2) instead.\n",
      "LassoLarsIC model failed to execute\n",
      "y should be a 1d array, got an array of shape (2455, 2) instead.\n",
      "LinearSVR model failed to execute\n",
      "y should be a 1d array, got an array of shape (2455, 2) instead.\n"
     ]
    },
    {
     "name": "stderr",
     "output_type": "stream",
     "text": [
      " 70%|██████▉   | 30/43 [00:04<00:02,  5.05it/s]"
     ]
    },
    {
     "name": "stdout",
     "output_type": "stream",
     "text": [
      "NuSVR model failed to execute\n",
      "y should be a 1d array, got an array of shape (2455, 2) instead.\n",
      "OrthogonalMatchingPursuitCV model failed to execute\n",
      "y should be a 1d array, got an array of shape (2455, 2) instead.\n",
      "PassiveAggressiveRegressor model failed to execute\n",
      "y should be a 1d array, got an array of shape (2455, 2) instead.\n",
      "PoissonRegressor model failed to execute\n",
      "y should be a 1d array, got an array of shape (2455, 2) instead.\n"
     ]
    },
    {
     "name": "stderr",
     "output_type": "stream",
     "text": [
      "100%|██████████| 43/43 [00:04<00:00,  8.77it/s]\n",
      "  0%|          | 0/43 [00:00<?, ?it/s]"
     ]
    },
    {
     "name": "stdout",
     "output_type": "stream",
     "text": [
      "SGDRegressor model failed to execute\n",
      "y should be a 1d array, got an array of shape (2455, 2) instead.\n",
      "SVR model failed to execute\n",
      "y should be a 1d array, got an array of shape (2455, 2) instead.\n",
      "StackingRegressor model failed to execute\n",
      "__init__() missing 1 required positional argument: 'estimators'\n",
      "TweedieRegressor model failed to execute\n",
      "y should be a 1d array, got an array of shape (2455, 2) instead.\n",
      "XGBRegressor model failed to execute\n",
      "only size-1 arrays can be converted to Python scalars\n",
      "LGBMRegressor model failed to execute\n",
      "y should be a 1d array, got an array of shape (2455, 2) instead.\n",
      "AdaBoostRegressor model failed to execute\n",
      "y should be a 1d array, got an array of shape (2455, 2) instead.\n"
     ]
    },
    {
     "name": "stderr",
     "output_type": "stream",
     "text": [
      "\r",
      "  9%|▉         | 4/43 [00:00<00:01, 36.48it/s]"
     ]
    },
    {
     "name": "stdout",
     "output_type": "stream",
     "text": [
      "BayesianRidge model failed to execute\n",
      "y should be a 1d array, got an array of shape (2455, 2) instead.\n",
      "ElasticNetCV model failed to execute\n",
      "For multi-task outputs, use MultiTaskElasticNetCV\n"
     ]
    },
    {
     "name": "stderr",
     "output_type": "stream",
     "text": [
      "\r",
      " 21%|██        | 9/43 [00:00<00:01, 23.29it/s]"
     ]
    },
    {
     "name": "stdout",
     "output_type": "stream",
     "text": [
      "GammaRegressor model failed to execute\n",
      "y should be a 1d array, got an array of shape (2455, 2) instead.\n"
     ]
    },
    {
     "name": "stderr",
     "output_type": "stream",
     "text": [
      " 37%|███▋      | 16/43 [00:01<00:03,  8.45it/s]"
     ]
    },
    {
     "name": "stdout",
     "output_type": "stream",
     "text": [
      "GeneralizedLinearRegressor model failed to execute\n",
      "y should be a 1d array, got an array of shape (2455, 2) instead.\n",
      "GradientBoostingRegressor model failed to execute\n",
      "y should be a 1d array, got an array of shape (2455, 2) instead.\n",
      "HistGradientBoostingRegressor model failed to execute\n",
      "y should be a 1d array, got an array of shape (2455, 2) instead.\n",
      "HuberRegressor model failed to execute\n",
      "y should be a 1d array, got an array of shape (2455, 2) instead.\n"
     ]
    },
    {
     "name": "stderr",
     "output_type": "stream",
     "text": [
      " 56%|█████▌    | 24/43 [00:01<00:01,  9.83it/s]"
     ]
    },
    {
     "name": "stdout",
     "output_type": "stream",
     "text": [
      "LarsCV model failed to execute\n",
      "y should be a 1d array, got an array of shape (2455, 2) instead.\n",
      "LassoCV model failed to execute\n",
      "For multi-task outputs, use MultiTaskLassoCV\n",
      "LassoLarsCV model failed to execute\n",
      "y should be a 1d array, got an array of shape (2455, 2) instead.\n",
      "LassoLarsIC model failed to execute\n",
      "y should be a 1d array, got an array of shape (2455, 2) instead.\n",
      "LinearSVR model failed to execute\n",
      "y should be a 1d array, got an array of shape (2455, 2) instead.\n"
     ]
    },
    {
     "name": "stderr",
     "output_type": "stream",
     "text": [
      " 77%|███████▋  | 33/43 [00:03<00:01,  8.52it/s]"
     ]
    },
    {
     "name": "stdout",
     "output_type": "stream",
     "text": [
      "NuSVR model failed to execute\n",
      "y should be a 1d array, got an array of shape (2455, 2) instead.\n",
      "OrthogonalMatchingPursuitCV model failed to execute\n",
      "y should be a 1d array, got an array of shape (2455, 2) instead.\n",
      "PassiveAggressiveRegressor model failed to execute\n",
      "y should be a 1d array, got an array of shape (2455, 2) instead.\n",
      "PoissonRegressor model failed to execute\n",
      "y should be a 1d array, got an array of shape (2455, 2) instead.\n"
     ]
    },
    {
     "name": "stderr",
     "output_type": "stream",
     "text": [
      " 93%|█████████▎| 40/43 [00:03<00:00,  9.10it/s]"
     ]
    },
    {
     "name": "stdout",
     "output_type": "stream",
     "text": [
      "SGDRegressor model failed to execute\n",
      "y should be a 1d array, got an array of shape (2455, 2) instead.\n",
      "SVR model failed to execute\n",
      "y should be a 1d array, got an array of shape (2455, 2) instead.\n",
      "StackingRegressor model failed to execute\n",
      "__init__() missing 1 required positional argument: 'estimators'\n"
     ]
    },
    {
     "name": "stderr",
     "output_type": "stream",
     "text": [
      "100%|██████████| 43/43 [00:03<00:00, 11.07it/s]\n",
      "  0%|          | 0/43 [00:00<?, ?it/s]"
     ]
    },
    {
     "name": "stdout",
     "output_type": "stream",
     "text": [
      "TweedieRegressor model failed to execute\n",
      "y should be a 1d array, got an array of shape (2455, 2) instead.\n",
      "XGBRegressor model failed to execute\n",
      "only size-1 arrays can be converted to Python scalars\n",
      "LGBMRegressor model failed to execute\n",
      "y should be a 1d array, got an array of shape (2455, 2) instead.\n",
      "AdaBoostRegressor model failed to execute\n",
      "y should be a 1d array, got an array of shape (2455, 2) instead.\n"
     ]
    },
    {
     "name": "stderr",
     "output_type": "stream",
     "text": [
      " 14%|█▍        | 6/43 [00:00<00:02, 18.41it/s]"
     ]
    },
    {
     "name": "stdout",
     "output_type": "stream",
     "text": [
      "BayesianRidge model failed to execute\n",
      "y should be a 1d array, got an array of shape (2455, 2) instead.\n",
      "ElasticNetCV model failed to execute\n",
      "For multi-task outputs, use MultiTaskElasticNetCV\n"
     ]
    },
    {
     "name": "stderr",
     "output_type": "stream",
     "text": [
      " 23%|██▎       | 10/43 [00:01<00:05,  6.52it/s]"
     ]
    },
    {
     "name": "stdout",
     "output_type": "stream",
     "text": [
      "GammaRegressor model failed to execute\n",
      "y should be a 1d array, got an array of shape (2455, 2) instead.\n"
     ]
    },
    {
     "name": "stderr",
     "output_type": "stream",
     "text": [
      " 37%|███▋      | 16/43 [00:02<00:05,  5.13it/s]"
     ]
    },
    {
     "name": "stdout",
     "output_type": "stream",
     "text": [
      "GeneralizedLinearRegressor model failed to execute\n",
      "y should be a 1d array, got an array of shape (2455, 2) instead.\n",
      "GradientBoostingRegressor model failed to execute\n",
      "y should be a 1d array, got an array of shape (2455, 2) instead.\n",
      "HistGradientBoostingRegressor model failed to execute\n",
      "y should be a 1d array, got an array of shape (2455, 2) instead.\n",
      "HuberRegressor model failed to execute\n",
      "y should be a 1d array, got an array of shape (2455, 2) instead.\n"
     ]
    },
    {
     "name": "stderr",
     "output_type": "stream",
     "text": [
      " 56%|█████▌    | 24/43 [00:02<00:02,  7.36it/s]"
     ]
    },
    {
     "name": "stdout",
     "output_type": "stream",
     "text": [
      "LarsCV model failed to execute\n",
      "y should be a 1d array, got an array of shape (2455, 2) instead.\n",
      "LassoCV model failed to execute\n",
      "For multi-task outputs, use MultiTaskLassoCV\n",
      "LassoLarsCV model failed to execute\n",
      "y should be a 1d array, got an array of shape (2455, 2) instead.\n",
      "LassoLarsIC model failed to execute\n",
      "y should be a 1d array, got an array of shape (2455, 2) instead.\n",
      "LinearSVR model failed to execute\n",
      "y should be a 1d array, got an array of shape (2455, 2) instead.\n"
     ]
    },
    {
     "name": "stderr",
     "output_type": "stream",
     "text": [
      " 70%|██████▉   | 30/43 [00:03<00:01,  7.24it/s]"
     ]
    },
    {
     "name": "stdout",
     "output_type": "stream",
     "text": [
      "NuSVR model failed to execute\n",
      "y should be a 1d array, got an array of shape (2455, 2) instead.\n",
      "OrthogonalMatchingPursuitCV model failed to execute\n",
      "y should be a 1d array, got an array of shape (2455, 2) instead.\n",
      "PassiveAggressiveRegressor model failed to execute\n",
      "y should be a 1d array, got an array of shape (2455, 2) instead.\n",
      "PoissonRegressor model failed to execute\n",
      "y should be a 1d array, got an array of shape (2455, 2) instead.\n"
     ]
    },
    {
     "name": "stderr",
     "output_type": "stream",
     "text": [
      "100%|██████████| 43/43 [00:05<00:00,  8.45it/s]"
     ]
    },
    {
     "name": "stdout",
     "output_type": "stream",
     "text": [
      "SGDRegressor model failed to execute\n",
      "y should be a 1d array, got an array of shape (2455, 2) instead.\n",
      "SVR model failed to execute\n",
      "y should be a 1d array, got an array of shape (2455, 2) instead.\n",
      "StackingRegressor model failed to execute\n",
      "__init__() missing 1 required positional argument: 'estimators'\n",
      "TweedieRegressor model failed to execute\n",
      "y should be a 1d array, got an array of shape (2455, 2) instead.\n",
      "XGBRegressor model failed to execute\n",
      "only size-1 arrays can be converted to Python scalars\n",
      "LGBMRegressor model failed to execute\n",
      "y should be a 1d array, got an array of shape (2455, 2) instead.\n"
     ]
    },
    {
     "name": "stderr",
     "output_type": "stream",
     "text": [
      "\n"
     ]
    }
   ],
   "source": [
    "X, y                  = loadDataset()\n",
    "individualPredictions = []\n",
    "\n",
    "for i in range(0, ampNumber * 2, 2):\n",
    "    \n",
    "    reg = LazyRegressor(verbose = 0, ignore_warnings = False)\n",
    "\n",
    "    X_train, X_test, y_train, y_test = train_test_split(X, y[:, i: i + 2], test_size = 0.3, random_state = 0)\n",
    "    models, predictions              = reg.fit(X_train, X_test, y_train, y_test)\n",
    "    \n",
    "    individualPredictions.append(predictions)"
   ]
  },
  {
   "cell_type": "code",
   "execution_count": 11,
   "metadata": {},
   "outputs": [
    {
     "name": "stdout",
     "output_type": "stream",
     "text": [
      "Model\n",
      "GaussianProcessRegressor              0.41\n",
      "ExtraTreesRegressor                   0.41\n",
      "DecisionTreeRegressor                 0.41\n",
      "ExtraTreeRegressor                    0.41\n",
      "RandomForestRegressor                 0.41\n",
      "MLPRegressor                          0.41\n",
      "BaggingRegressor                      0.41\n",
      "LinearRegression                      0.42\n",
      "TransformedTargetRegressor            0.42\n",
      "RidgeCV                               0.42\n",
      "Ridge                                 0.42\n",
      "Lars                                  0.42\n",
      "KNeighborsRegressor                   0.44\n",
      "OrthogonalMatchingPursuit             0.45\n",
      "ElasticNet                            0.47\n",
      "Lasso                                 0.47\n",
      "LassoLars                             0.47\n",
      "DummyRegressor                        0.47\n",
      "KernelRidge                           0.71\n",
      "RANSACRegressor              2591086168.72\n",
      "Name: RMSE, dtype: float64\n",
      "\n",
      "Model\n",
      "BaggingRegressor                        0.38\n",
      "RandomForestRegressor                   0.38\n",
      "GaussianProcessRegressor                0.38\n",
      "DecisionTreeRegressor                   0.38\n",
      "ExtraTreeRegressor                      0.38\n",
      "ExtraTreesRegressor                     0.38\n",
      "MLPRegressor                            0.38\n",
      "Ridge                                   0.38\n",
      "RidgeCV                                 0.38\n",
      "LinearRegression                        0.38\n",
      "TransformedTargetRegressor              0.38\n",
      "Lars                                    0.39\n",
      "OrthogonalMatchingPursuit               0.41\n",
      "KNeighborsRegressor                     0.42\n",
      "ElasticNet                              0.43\n",
      "Lasso                                   0.43\n",
      "LassoLars                               0.43\n",
      "DummyRegressor                          0.43\n",
      "KernelRidge                             0.76\n",
      "RANSACRegressor              196737651388.21\n",
      "Name: RMSE, dtype: float64\n"
     ]
    }
   ],
   "source": [
    "print(individualPredictions[0]['RMSE'])\n",
    "print()\n",
    "print(individualPredictions[1]['RMSE'])"
   ]
  }
 ],
 "metadata": {
  "kernelspec": {
   "display_name": "acopEnv",
   "language": "python",
   "name": "acopenv"
  },
  "language_info": {
   "codemirror_mode": {
    "name": "ipython",
    "version": 3
   },
   "file_extension": ".py",
   "mimetype": "text/x-python",
   "name": "python",
   "nbconvert_exporter": "python",
   "pygments_lexer": "ipython3",
   "version": "3.6.9"
  }
 },
 "nbformat": 4,
 "nbformat_minor": 2
}
