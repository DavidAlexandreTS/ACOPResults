{
 "cells": [
  {
   "cell_type": "markdown",
   "metadata": {},
   "source": [
    "## Imports and dataset loading"
   ]
  },
  {
   "cell_type": "code",
   "execution_count": 1,
   "metadata": {},
   "outputs": [],
   "source": [
    "from sklearn.preprocessing import MinMaxScaler\n",
    "import numpy as np\n",
    "import matplotlib.pyplot as plt\n",
    "import math\n",
    "import pandas as pd\n",
    "\n",
    "originalDataSet = pd.read_csv('dataset.txt', sep=',',header = None)\n",
    "scaler = MinMaxScaler()\n",
    "\n",
    "def loadDataset():    \n",
    "    #scaler.fit(originalDataSet.sample(frac=1).values.reshape(-1, 1))\n",
    "    #dataSet = scaler.transform(originalDataSet.values) \n",
    "    \n",
    "    dataSet = originalDataSet.values\n",
    "    features, result = np.array(dataSet[:, :40]), np.array(dataSet[:, 40:])\n",
    "    return features, result\n",
    "\n",
    "features, result = loadDataset()\n"
   ]
  },
  {
   "cell_type": "markdown",
   "metadata": {},
   "source": [
    "## Setting data for plotting"
   ]
  },
  {
   "cell_type": "code",
   "execution_count": 2,
   "metadata": {},
   "outputs": [],
   "source": [
    "ampNumber = int(len(result[0]) / 2)\n",
    "scaler.fit(result.reshape(-1, 1))\n",
    "scaledResult = result #scaler.transform(result) \n",
    "\n",
    "gainSlices = []\n",
    "lossSlices = []\n",
    "\n",
    "for i in range(ampNumber):\n",
    "    gainSlices.append(scaledResult[:, i * 2])\n",
    "    lossSlices.append(scaledResult[:, i * 2 + 1])\n",
    "    \n",
    "gainArray = np.stack(gainSlices, axis = -1)\n",
    "lossArray = np.stack(lossSlices, axis = -1)"
   ]
  },
  {
   "cell_type": "markdown",
   "metadata": {},
   "source": [
    "## Plotting functions"
   ]
  },
  {
   "cell_type": "code",
   "execution_count": 3,
   "metadata": {},
   "outputs": [],
   "source": [
    "def set_box_color(bp, color):\n",
    "    plt.setp(bp['boxes'], color=color)\n",
    "    plt.setp(bp['whiskers'], color=color)\n",
    "    plt.setp(bp['caps'], color=color)\n",
    "    plt.setp(bp['medians'], color=color)\n",
    "    \n",
    "def plotGroupedBoxplot():\n",
    "    gainData = []\n",
    "    lossData = []\n",
    "    poutData = []\n",
    "    ticks    = []  \n",
    "    \n",
    "    for i in range(ampNumber):\n",
    "        gainData.append(gainArray[:, i])\n",
    "        lossData.append(lossArray[:, i])\n",
    "        poutData.append(gainArray[:, i] - lossArray[:, i])\n",
    "        ticks.append(\"Amp {}\".format(i + 1))\n",
    "        \n",
    "    plt.figure()\n",
    "    ax = plt.subplot(111)\n",
    "    \n",
    "    gainBP = plt.boxplot(gainData, positions=np.array(range(len(gainData)))*3.0-0.3, sym = \"\")\n",
    "    lossBP = plt.boxplot(lossData, positions=np.array(range(len(lossData)))*3.0+0.3, sym = \"\")\n",
    "    poutBP = plt.boxplot(poutData, positions=np.array(range(len(poutData)))*3.0+0.9, sym = \"\")\n",
    "    set_box_color(gainBP, '#2C7BB6')\n",
    "    set_box_color(lossBP, '#D7191C')\n",
    "    set_box_color(poutBP, '#00FF00')\n",
    "\n",
    "    plt.plot([], c='#2C7BB6', label='Gain')\n",
    "    plt.plot([], c='#D7191C', label='Loss')\n",
    "    plt.plot([], c='#00FF00', label='Output Power')\n",
    "    #plt.legend()\n",
    "\n",
    "    box = ax.get_position()\n",
    "    ax.set_position([box.x0, box.y0, box.width * 0.8, box.height])\n",
    "    ax.legend(loc='center left', bbox_to_anchor=(1, 0.5))\n",
    "\n",
    "    plt.xticks(range(0, len(ticks) * 3, 3), ticks)\n",
    "    plt.xlim(-3, len(ticks)*3)\n",
    "    plt.tight_layout()\n",
    "    plt.savefig('groupedBoxplot.png')\n",
    "\n",
    "def plotGainBoxplot():\n",
    "    gainData = []\n",
    "    ticks    = []  \n",
    "    \n",
    "    for i in range(ampNumber):\n",
    "        gainData.append(gainArray[:, i])\n",
    "        ticks.append(\"Amp {}\".format(i + 1))\n",
    "        \n",
    "    plt.figure()\n",
    "    \n",
    "    gainBP = plt.boxplot(gainData, positions=np.array(range(len(gainData)))*2.0+0.3, sym = \"\")\n",
    "    set_box_color(gainBP, '#2C7BB6')\n",
    "\n",
    "    plt.plot([], c='#2C7BB6', label='Gain')\n",
    "    plt.legend()\n",
    "\n",
    "    plt.xticks(range(0, len(ticks) * 2, 2), ticks)\n",
    "    plt.xlim(-2, len(ticks)*2)\n",
    "    plt.tight_layout()\n",
    "    plt.savefig('gainBoxplot.png')\n",
    "\n",
    "def plotLossBoxplot():\n",
    "    lossData = []\n",
    "    ticks    = []  \n",
    "    \n",
    "    for i in range(ampNumber):\n",
    "        lossData.append(lossArray[:, i])\n",
    "        ticks.append(\"Amp {}\".format(i + 1))\n",
    "        \n",
    "    plt.figure()\n",
    "    \n",
    "    lossBP = plt.boxplot(lossData, positions=np.array(range(len(lossData)))*2.0+0.3, sym = \"\")\n",
    "    set_box_color(lossBP, '#D7191C')\n",
    "\n",
    "    plt.plot([], c='#D7191C', label='Loss')\n",
    "    plt.legend()\n",
    "\n",
    "    plt.xticks(range(0, len(ticks) * 2, 2), ticks)\n",
    "    plt.xlim(-2, len(ticks)*2)\n",
    "    plt.tight_layout()\n",
    "    plt.savefig('lossBoxplot.png')\n",
    "\n",
    "def plotPoutBoxplot():\n",
    "    poutData = []\n",
    "    ticks    = []  \n",
    "    \n",
    "    for i in range(ampNumber):\n",
    "        poutData.append(gainArray[:, i] - lossArray[:, i])\n",
    "        ticks.append(\"Amp {}\".format(i + 1))\n",
    "        \n",
    "    plt.figure()\n",
    "    \n",
    "    poutBP = plt.boxplot(poutData, positions=np.array(range(len(poutData)))*2.0+0.3, sym = \"\")\n",
    "    set_box_color(poutBP, '#00FF00')\n",
    "\n",
    "    plt.plot([], c='#00FF00', label='Output power')\n",
    "    plt.legend()\n",
    "\n",
    "    plt.xticks(range(0, len(ticks) * 2, 2), ticks)\n",
    "    plt.xlim(-2, len(ticks)*2)\n",
    "    plt.tight_layout()\n",
    "    plt.savefig('poutBoxplot.png')"
   ]
  },
  {
   "cell_type": "markdown",
   "metadata": {},
   "source": [
    "## Plotting"
   ]
  },
  {
   "cell_type": "code",
   "execution_count": 4,
   "metadata": {},
   "outputs": [
    {
     "data": {
      "image/png": "[encoded data removed]",
      "text/plain": [
       "<Figure size 432x288 with 1 Axes>"
      ]
     },
     "metadata": {
      "needs_background": "light"
     },
     "output_type": "display_data"
    },
    {
     "data": {
      "image/png": "[encoded data removed]",
      "text/plain": [
       "<Figure size 432x288 with 1 Axes>"
      ]
     },
     "metadata": {
      "needs_background": "light"
     },
     "output_type": "display_data"
    },
    {
     "data": {
      "image/png": "[encoded data removed]",
      "text/plain": [
       "<Figure size 432x288 with 1 Axes>"
      ]
     },
     "metadata": {
      "needs_background": "light"
     },
     "output_type": "display_data"
    },
    {
     "data": {
      "image/png": "[encoded data removed]",
      "text/plain": [
       "<Figure size 432x288 with 1 Axes>"
      ]
     },
     "metadata": {
      "needs_background": "light"
     },
     "output_type": "display_data"
    }
   ],
   "source": [
    "plotGainBoxplot()\n",
    "plotLossBoxplot()\n",
    "plotPoutBoxplot()\n",
    "plotGroupedBoxplot()"
   ]
  },
  {
   "cell_type": "code",
   "execution_count": null,
   "metadata": {},
   "outputs": [],
   "source": []
  }
 ],
 "metadata": {
  "kernelspec": {
   "display_name": "Python 3",
   "language": "python",
   "name": "python3"
  },
  "language_info": {
   "codemirror_mode": {
    "name": "ipython",
    "version": 3
   },
   "file_extension": ".py",
   "mimetype": "text/x-python",
   "name": "python",
   "nbconvert_exporter": "python",
   "pygments_lexer": "ipython3",
   "version": "3.7.3"
  }
 },
 "nbformat": 4,
 "nbformat_minor": 2
}
