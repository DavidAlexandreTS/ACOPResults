{
 "cells": [
  {
   "cell_type": "markdown",
   "metadata": {},
   "source": [
    "# Imports and dataset loading"
   ]
  },
  {
   "cell_type": "code",
   "execution_count": 1,
   "metadata": {},
   "outputs": [
    {
     "name": "stderr",
     "output_type": "stream",
     "text": [
      "Using TensorFlow backend.\n"
     ]
    }
   ],
   "source": [
    "import numpy as np\n",
    "import matplotlib.pyplot as plt\n",
    "import math\n",
    "from sklearn.multioutput import MultiOutputRegressor\n",
    "from sklearn import linear_model\n",
    "from sklearn.neighbors import KNeighborsRegressor\n",
    "from sklearn.kernel_ridge import KernelRidge\n",
    "from sklearn.neural_network import MLPRegressor\n",
    "from sklearn.svm import SVR\n",
    "from sklearn.preprocessing import MinMaxScaler\n",
    "from keras.models import Sequential\n",
    "from keras.layers import Dense\n",
    "from keras.wrappers.scikit_learn import KerasRegressor\n",
    "import pandas as pd\n",
    "\n",
    "strategyArray = []\n",
    "gainArray     = []\n",
    "lossArray     = []\n",
    "ampNumber     = 2\n",
    "\n",
    "originalDataSet = pd.read_csv('dataset.txt', sep = ',',header = None)\n",
    "binaryDataSet   = []\n",
    "\n",
    "for line in originalDataSet.values:\n",
    "    myList = [1 if i != 0 else 0 for i in line[:40]]\n",
    "    myList.extend(line[40:])\n",
    "    binaryDataSet.append(myList)\n",
    "\n",
    "binaryDataSet = pd.DataFrame(binaryDataSet)\n",
    "gainScaler    = MinMaxScaler()\n",
    "lossScaler    = MinMaxScaler()\n",
    "\n",
    "gainScalerAux = []\n",
    "lossScalerAux = []\n",
    "\n",
    "for i in range(0, ampNumber * 2, 2):\n",
    "    gainScalerAux.extend(binaryDataSet.values[:, 40 + i])\n",
    "    lossScalerAux.extend(binaryDataSet.values[:, 40 + i + 1])\n",
    "\n",
    "gainScaler.fit(np.array(gainScalerAux).reshape(-1, 1))\n",
    "lossScaler.fit(np.array(lossScalerAux).reshape(-1, 1))\n",
    "\n",
    "def loadDataset(): \n",
    "    dataSet = binaryDataSet.values[:, :40]\n",
    "    \n",
    "    gain = np.array(binaryDataSet.values[:, 40])\n",
    "    gain = gain.reshape(-1, 1)\n",
    "    \n",
    "    for i in range(0, ampNumber * 2, 2):\n",
    "        gain    = np.array(binaryDataSet.values[:, 40 + i])\n",
    "        gain    = gainScaler.transform(gain.reshape(-1, 1))\n",
    "        dataSet = np.hstack((dataSet, gain))\n",
    "        \n",
    "        loss    = np.array(binaryDataSet.values[:, 40 + i + 1])\n",
    "        loss    = lossScaler.transform(gain.reshape(-1, 1))\n",
    "        dataSet = np.hstack((dataSet, loss))\n",
    "    \n",
    "    features, result = np.array(dataSet[:, :40]), np.array(dataSet[:, 40:])\n",
    "    return features, result\n",
    "\n",
    "def invertGainNorm(value):\n",
    "    auxArray = np.array([value, 0, 0, 0, 0, 0]).reshape(-1, 1)\n",
    "    return gainScaler.inverse_transform(auxArray)[0][0]\n",
    "\n",
    "def invertLossNorm(value):\n",
    "    auxArray = np.array([value, 0, 0, 0, 0, 0]).reshape(-1, 1)\n",
    "    return lossScaler.inverse_transform(auxArray)[0][0]\n",
    "    \n",
    "def getGainError(value1, value2):\n",
    "    return abs(invertGainNorm(value1) - invertGainNorm(value2))\n",
    "\n",
    "def getLossError(value1, value2):\n",
    "    return abs(invertLossNorm(value1) - invertLossNorm(value2))\n",
    "\n",
    "features, result = loadDataset()"
   ]
  },
  {
   "cell_type": "markdown",
   "metadata": {},
   "source": [
    "# Cross validation function"
   ]
  },
  {
   "cell_type": "code",
   "execution_count": 2,
   "metadata": {},
   "outputs": [],
   "source": [
    "def crossValidate(regressor, features, result, folds = 5):\n",
    "    foldSize   = math.ceil(features.shape[0] / folds)\n",
    "    gainErrors = []\n",
    "    lossErrors = []\n",
    "    \n",
    "    for i in range(folds): \n",
    "        sliceBegin = i * foldSize\n",
    "        sliceEnd   = (i + 1) * foldSize\n",
    "        \n",
    "        X_train = np.delete(features, np.s_[sliceBegin: sliceEnd], 0)\n",
    "        y_train = np.delete(result, np.s_[sliceBegin: sliceEnd], 0)\n",
    "        \n",
    "        if isinstance(regressor, Sequential):\n",
    "            regressor.fit(X_train, y_train, epochs = 500, verbose = 0)  \n",
    "        else:\n",
    "            regressor.fit(X_train, y_train)\n",
    "            \n",
    "        X_test = features[sliceBegin: sliceEnd]\n",
    "        y_test = result[sliceBegin: sliceEnd]\n",
    "        \n",
    "        gainError = 0\n",
    "        lossError = 0\n",
    "        \n",
    "        prediction = regressor.predict(X_test)\n",
    "        \n",
    "        for predicted, expected in zip(prediction, y_test):\n",
    "            for i in range(0, ampNumber * 2, 2):\n",
    "                gainError += getGainError(predicted[i], expected[i]) \n",
    "                lossError += getLossError(predicted[i + 1], expected[i + 1])\n",
    "                 \n",
    "        #gainErrors.append((gainError / ampNumber) / foldSize) # average gain error by amp\n",
    "        #lossErrors.append((lossError / ampNumber) / foldSize) # average loss error by amp\n",
    "\n",
    "        gainErrors.append(gainError / foldSize) # average gain error\n",
    "        lossErrors.append(lossError / foldSize) # average loss error\n",
    "        \n",
    "    return np.array(gainErrors), np.array(lossErrors)"
   ]
  },
  {
   "cell_type": "code",
   "execution_count": 3,
   "metadata": {
    "scrolled": false
   },
   "outputs": [],
   "source": [
    "def trainModel(strategy):   \n",
    "    features, result       = loadDataset()\n",
    "    gainErrors, lossErrors = crossValidate(strategy, features, result)\n",
    "\n",
    "    print(gainErrors, \"=> %0.2f (+/- %0.2f)\" % (np.mean(gainErrors), gainErrors.std() * 2))\n",
    "    print(lossErrors, \"=> %0.2f (+/- %0.2f)\" % (np.mean(lossErrors), lossErrors.std() * 2))\n",
    "    \n",
    "    gainArray.append(gainErrors)\n",
    "    lossArray.append(lossErrors)\n",
    "    \n",
    "    return gainErrors, lossErrors"
   ]
  },
  {
   "cell_type": "code",
   "execution_count": 4,
   "metadata": {},
   "outputs": [],
   "source": [
    "def setANN():\n",
    "    model = Sequential()\n",
    "    \n",
    "    model.add(Dense(4, input_dim = 4, kernel_initializer = 'random_uniform', activation = 'sigmoid'))\n",
    "    model.add(Dense(8, kernel_initializer = 'normal', activation = 'sigmoid'))\n",
    "    model.add(Dense(16, kernel_initializer = 'normal', activation = 'sigmoid'))\n",
    "    model.add(Dense(16, kernel_initializer = 'normal', activation = 'sigmoid'))\n",
    "    model.add(Dense(32, kernel_initializer = 'normal', activation = 'sigmoid'))  \n",
    "    model.add(Dense(32, kernel_initializer = 'normal', activation = 'sigmoid'))\n",
    "    model.add(Dense(64, kernel_initializer = 'normal', activation = 'sigmoid'))\n",
    "    model.add(Dense(64, kernel_initializer = 'normal', activation = 'sigmoid'))\n",
    "    model.add(Dense(64, kernel_initializer = 'normal', activation = 'sigmoid')) \n",
    "    model.add(Dense(64, kernel_initializer = 'normal', activation = 'sigmoid'))\n",
    "    model.add(Dense(32, kernel_initializer = 'normal', activation = 'sigmoid'))\n",
    "    model.add(Dense(32, kernel_initializer = 'normal', activation = 'sigmoid'))\n",
    "    model.add(Dense(16, kernel_initializer = 'normal', activation = 'sigmoid'))  \n",
    "    model.add(Dense(16, kernel_initializer = 'normal', activation = 'sigmoid'))\n",
    "    model.add(Dense(8, kernel_initializer = 'normal', activation = 'sigmoid'))\n",
    "    model.add(Dense(8, kernel_initializer = 'normal', activation = 'sigmoid'))\n",
    "    model.add(Dense(4, kernel_initializer = 'normal', activation = 'sigmoid'))\n",
    "    model.add(Dense(2, kernel_initializer = 'random_uniform', activation = 'relu'))\n",
    "\n",
    "    # Compile model\n",
    "    model.compile(loss='mean_squared_error', optimizer='adam')\n",
    "    return model"
   ]
  },
  {
   "cell_type": "markdown",
   "metadata": {},
   "source": [
    "# Plotting functions"
   ]
  },
  {
   "cell_type": "code",
   "execution_count": 5,
   "metadata": {},
   "outputs": [],
   "source": [
    "def plotGainError():\n",
    "    fig, axis = plt.subplots(figsize = (10, 5))\n",
    "    data       = gainArray\n",
    "\n",
    "    axis.boxplot(data)\n",
    "    axis.set_title(\"Gain error\", fontsize = 16)\n",
    "    axis.set_xticklabels(np.repeat(strategyArray, 1))\n",
    "    axis.set_ylabel(\"Absolute error (dB)\", fontsize = 14)\n",
    "\n",
    "    plt.show()"
   ]
  },
  {
   "cell_type": "code",
   "execution_count": 6,
   "metadata": {},
   "outputs": [],
   "source": [
    "def plotLossError():\n",
    "    fig, axis = plt.subplots(figsize = (10, 5))\n",
    "    data       = lossArray\n",
    "\n",
    "    axis.boxplot(data)\n",
    "    axis.set_title(\"Loss error\", fontsize = 16)\n",
    "    axis.set_xticklabels(np.repeat(strategyArray, 1), fontsize = 14)\n",
    "    axis.set_ylabel(\"Absolute error (dB)\", fontsize = 14)\n",
    "\n",
    "    plt.show()"
   ]
  },
  {
   "cell_type": "code",
   "execution_count": 7,
   "metadata": {},
   "outputs": [],
   "source": [
    "def plotDistribution(regressor):\n",
    "    features, result = loadDataset()\n",
    "    regressor.fit(features, result)\n",
    "\n",
    "    predicted = regressor.predict(features)\n",
    "    fig, axis = plt.subplots(figsize = (10, 5))\n",
    "\n",
    "    axis.scatter(result[:, 0], result[:, 1])\n",
    "    axis.scatter(predicted[:, 0], predicted[:, 1], c = \"m\")\n",
    "\n",
    "    axis.set_title(strategyArray[-1])\n",
    "    axis.set_xlabel(\"Gain\")\n",
    "    axis.set_ylabel(\"Loss\")\n",
    "    axis.legend([\"expected\", \"predicted\"])\n",
    "\n",
    "    plt.show()"
   ]
  },
  {
   "cell_type": "markdown",
   "metadata": {},
   "source": [
    "# Putting all together"
   ]
  },
  {
   "cell_type": "code",
   "execution_count": 8,
   "metadata": {},
   "outputs": [],
   "source": [
    "gainArray = []\n",
    "lossArray = []"
   ]
  },
  {
   "cell_type": "code",
   "execution_count": 9,
   "metadata": {},
   "outputs": [
    {
     "name": "stdout",
     "output_type": "stream",
     "text": [
      "[[0.72970535 0.04166667 0.65169713 0.04166667]\n",
      " [0.72970535 0.04166667 0.65169713 0.04166667]\n",
      " [0.72970535 0.04166667 0.65169713 0.04166667]\n",
      " ...\n",
      " [0.70014448 0.04166667 0.8005124  0.04166667]\n",
      " [0.70014448 0.04166667 0.8005124  0.04166667]\n",
      " [0.70014448 0.04166667 0.8005124  0.04166667]]\n",
      "[[0.80035183 0.04166667 0.79973423 0.04166667]\n",
      " [0.80035183 0.04166667 0.79973423 0.04166667]\n",
      " [0.80035183 0.04166667 0.79973423 0.04166667]\n",
      " ...\n",
      " [0.69974206 0.04166667 0.50001753 0.04166667]\n",
      " [0.69974206 0.04166667 0.50001753 0.04166667]\n",
      " [0.69974206 0.04166667 0.50001753 0.04166667]]\n",
      "[[0.70040749 0.04166667 0.79987198 0.04166667]\n",
      " [0.70040749 0.04166667 0.79987198 0.04166667]\n",
      " [0.70040749 0.04166667 0.79987198 0.04166667]\n",
      " ...\n",
      " [0.49995731 0.04166667 0.79993197 0.04166667]\n",
      " [0.49995731 0.04166667 0.79993197 0.04166667]\n",
      " [0.49995731 0.04166667 0.79993197 0.04166667]]\n",
      "[[0.39983132 0.04166667 0.80029656 0.04166667]\n",
      " [0.39983132 0.04166667 0.80029656 0.04166667]\n",
      " [0.39983132 0.04166667 0.80029656 0.04166667]\n",
      " ...\n",
      " [0.8000034  0.04166667 0.75993677 0.04166667]\n",
      " [0.8000034  0.04166667 0.75993677 0.04166667]\n",
      " [0.8000034  0.04166667 0.75993677 0.04166667]]\n",
      "[[0.79977665 0.04166667 0.6999341  0.04166667]\n",
      " [0.79977665 0.04166667 0.6999341  0.04166667]\n",
      " [0.79977665 0.04166667 0.6999341  0.04166667]\n",
      " ...\n",
      " [0.19986776 0.04166667 0.80002312 0.04166667]\n",
      " [0.19986776 0.04166667 0.80002312 0.04166667]\n",
      " [0.19986776 0.04166667 0.80002312 0.04166667]]\n",
      "[2.25639745 2.36814709 2.54050445 2.21036264 2.4890737 ] => 2.37 (+/- 0.26)\n",
      "[0.36465969 0.31204188 0.24882199 0.35994764 0.3302356 ] => 0.32 (+/- 0.08)\n"
     ]
    },
    {
     "data": {
      "image/png": "[encoded data removed]",
      "text/plain": [
       "<Figure size 720x360 with 1 Axes>"
      ]
     },
     "metadata": {
      "needs_background": "light"
     },
     "output_type": "display_data"
    }
   ],
   "source": [
    "linearSVR = MultiOutputRegressor(SVR(kernel = \"rbf\", C = 1.0, gamma = 'scale', epsilon = 0.2))\n",
    "trainModel(linearSVR)\n",
    "strategyArray.append(\"SVR (Linear)\")\n",
    "plotDistribution(linearSVR)"
   ]
  },
  {
   "cell_type": "code",
   "execution_count": 10,
   "metadata": {},
   "outputs": [
    {
     "name": "stdout",
     "output_type": "stream",
     "text": [
      "[[0.63824492 0.05318708 0.72979699 0.06081642]\n",
      " [0.63824492 0.05318708 0.72979699 0.06081642]\n",
      " [0.63824492 0.05318708 0.72979699 0.06081642]\n",
      " ...\n",
      " [0.63824492 0.05318708 0.72979699 0.06081642]\n",
      " [0.63824492 0.05318708 0.72979699 0.06081642]\n",
      " [0.63824492 0.05318708 0.72979699 0.06081642]]\n",
      "[[0.65370007 0.05447501 0.75979044 0.06331587]\n",
      " [0.65370007 0.05447501 0.75979044 0.06331587]\n",
      " [0.65370007 0.05447501 0.75979044 0.06331587]\n",
      " ...\n",
      " [0.65370007 0.05447501 0.75979044 0.06331587]\n",
      " [0.65370007 0.05447501 0.75979044 0.06331587]\n",
      " [0.65370007 0.05447501 0.75979044 0.06331587]]\n",
      "[[0.66437459 0.05536455 0.78768828 0.06564069]\n",
      " [0.66437459 0.05536455 0.78768828 0.06564069]\n",
      " [0.66437459 0.05536455 0.78768828 0.06564069]\n",
      " ...\n",
      " [0.66437459 0.05536455 0.78768828 0.06564069]\n",
      " [0.66437459 0.05536455 0.78768828 0.06564069]\n",
      " [0.66437459 0.05536455 0.78768828 0.06564069]]\n",
      "[[0.69286182 0.05773849 0.70936477 0.05911373]\n",
      " [0.69286182 0.05773849 0.70936477 0.05911373]\n",
      " [0.69286182 0.05773849 0.70936477 0.05911373]\n",
      " ...\n",
      " [0.69286182 0.05773849 0.70936477 0.05911373]\n",
      " [0.69286182 0.05773849 0.70936477 0.05911373]\n",
      " [0.69286182 0.05773849 0.70936477 0.05911373]]\n",
      "[[0.65045812 0.05420484 0.75196335 0.06266361]\n",
      " [0.65045812 0.05420484 0.75196335 0.06266361]\n",
      " [0.65045812 0.05420484 0.75196335 0.06266361]\n",
      " ...\n",
      " [0.65045812 0.05420484 0.75196335 0.06266361]\n",
      " [0.65045812 0.05420484 0.75196335 0.06266361]\n",
      " [0.65045812 0.05420484 0.75196335 0.06266361]]\n",
      "[2.53583319 2.49606387 2.50621706 2.83354248 2.58719008] => 2.59 (+/- 0.25)\n",
      "[0.25358332 0.24960639 0.25062171 0.28335425 0.25871901] => 0.26 (+/- 0.02)\n"
     ]
    },
    {
     "data": {
      "image/png": "[encoded data removed]",
      "text/plain": [
       "<Figure size 720x360 with 1 Axes>"
      ]
     },
     "metadata": {
      "needs_background": "light"
     },
     "output_type": "display_data"
    }
   ],
   "source": [
    "lasso = MultiOutputRegressor(linear_model.Lasso(alpha = 0.2))\n",
    "trainModel(lasso)\n",
    "strategyArray.append(\"Lasso\")\n",
    "plotDistribution(lasso)"
   ]
  },
  {
   "cell_type": "code",
   "execution_count": 11,
   "metadata": {},
   "outputs": [
    {
     "name": "stdout",
     "output_type": "stream",
     "text": [
      "[[0.66541562 0.0554513  0.68095806 0.0567465 ]\n",
      " [0.66541562 0.0554513  0.68095806 0.0567465 ]\n",
      " [0.66541562 0.0554513  0.68095806 0.0567465 ]\n",
      " ...\n",
      " [0.66541562 0.0554513  0.68095806 0.0567465 ]\n",
      " [0.66541562 0.0554513  0.68095806 0.0567465 ]\n",
      " [0.66541562 0.0554513  0.68095806 0.0567465 ]]\n",
      "[[0.67266064 0.05605505 0.74663067 0.06221922]\n",
      " [0.67266064 0.05605505 0.74663067 0.06221922]\n",
      " [0.67266064 0.05605505 0.74663067 0.06221922]\n",
      " ...\n",
      " [0.67266064 0.05605505 0.74663067 0.06221922]\n",
      " [0.67266064 0.05605505 0.74663067 0.06221922]\n",
      " [0.67266064 0.05605505 0.74663067 0.06221922]]\n",
      "[[0.69853646 0.05821137 0.77807923 0.06483994]\n",
      " [0.69853646 0.05821137 0.77807923 0.06483994]\n",
      " [0.69853646 0.05821137 0.77807923 0.06483994]\n",
      " ...\n",
      " [0.55443377 0.04620281 0.81861242 0.0682177 ]\n",
      " [0.55443377 0.04620281 0.81861242 0.0682177 ]\n",
      " [0.55443377 0.04620281 0.81861242 0.0682177 ]]\n",
      "[[0.5828329  0.04856941 0.68470503 0.05705875]\n",
      " [0.5828329  0.04856941 0.68470503 0.05705875]\n",
      " [0.5828329  0.04856941 0.68470503 0.05705875]\n",
      " ...\n",
      " [0.69705055 0.05808755 0.68470503 0.05705875]\n",
      " [0.69705055 0.05808755 0.68470503 0.05705875]\n",
      " [0.69705055 0.05808755 0.68470503 0.05705875]]\n",
      "[[0.67358472 0.05613206 0.73095079 0.06091257]\n",
      " [0.67358472 0.05613206 0.73095079 0.06091257]\n",
      " [0.67358472 0.05613206 0.73095079 0.06091257]\n",
      " ...\n",
      " [0.57404261 0.04783688 0.82139358 0.06844946]\n",
      " [0.57404261 0.04783688 0.82139358 0.06844946]\n",
      " [0.57404261 0.04783688 0.82139358 0.06844946]]\n",
      "[2.62528432 2.44180399 2.55692499 2.72883168 2.51966722] => 2.57 (+/- 0.19)\n",
      "[0.26252843 0.2441804  0.2556925  0.27288317 0.25196672] => 0.26 (+/- 0.02)\n"
     ]
    },
    {
     "data": {
      "image/png": "[encoded data removed]",
      "text/plain": [
       "<Figure size 720x360 with 1 Axes>"
      ]
     },
     "metadata": {
      "needs_background": "light"
     },
     "output_type": "display_data"
    }
   ],
   "source": [
    "lars = MultiOutputRegressor(linear_model.Lars(n_nonzero_coefs=1))\n",
    "trainModel(lars)\n",
    "strategyArray.append(\"LARS\")\n",
    "plotDistribution(lars)"
   ]
  },
  {
   "cell_type": "code",
   "execution_count": 12,
   "metadata": {},
   "outputs": [
    {
     "name": "stdout",
     "output_type": "stream",
     "text": [
      "[[0.61806284 0.05149627 1.00195975 0.08256328]\n",
      " [0.61806284 0.05149627 1.00195975 0.08256328]\n",
      " [0.61806284 0.05149627 1.00195975 0.08256328]\n",
      " ...\n",
      " [0.78803587 0.06566353 0.87222008 0.07268612]\n",
      " [0.78803587 0.06566353 0.87222008 0.07268612]\n",
      " [0.78803587 0.06566353 0.87222008 0.07268612]]\n",
      "[[0.82738047 0.06894725 0.90588415 0.07549191]\n",
      " [0.82738047 0.06894725 0.90588415 0.07549191]\n",
      " [0.82738047 0.06894725 0.90588415 0.07549191]\n",
      " ...\n",
      " [0.68347824 0.0569572  0.47751131 0.03980395]\n",
      " [0.68347824 0.0569572  0.47751131 0.03980395]\n",
      " [0.68347824 0.0569572  0.47751131 0.03980395]]\n",
      "[[0.6937466  0.0577962  0.91528666 0.07627601]\n",
      " [0.6937466  0.0577962  0.91528666 0.07627601]\n",
      " [0.6937466  0.0577962  0.91528666 0.07627601]\n",
      " ...\n",
      " [0.44432216 0.03702323 0.9183354  0.07652812]\n",
      " [0.44432216 0.03702323 0.9183354  0.07652812]\n",
      " [0.44432216 0.03702323 0.9183354  0.07652812]]\n",
      "[[0.35440329 0.02951557 0.98250614 0.08186504]\n",
      " [0.35440329 0.02951557 0.98250614 0.08186504]\n",
      " [0.35440329 0.02951557 0.98250614 0.08186504]\n",
      " ...\n",
      " [0.99994761 0.08332045 0.66682952 0.05554623]\n",
      " [0.99994761 0.08332045 0.66682952 0.05554623]\n",
      " [0.99994761 0.08332045 0.66682952 0.05554623]]\n",
      "[[1.00004048 0.08333991 0.69998253 0.05828454]\n",
      " [1.00004048 0.08333991 0.69998253 0.05828454]\n",
      " [1.00004048 0.08333991 0.69998253 0.05828454]\n",
      " ...\n",
      " [0.11448002 0.00952985 0.93019331 0.07750429]\n",
      " [0.11448002 0.00952985 0.93019331 0.07750429]\n",
      " [0.11448002 0.00952985 0.93019331 0.07750429]]\n",
      "[2.99391771 2.27384267 4.85779737 2.11935336 2.27805976] => 2.90 (+/- 2.05)\n",
      "[0.29482133 0.22740052 0.48041391 0.2120062  0.22779711] => 0.29 (+/- 0.20)\n"
     ]
    },
    {
     "data": {
      "image/png": "[encoded data removed]",
      "text/plain": [
       "<Figure size 720x360 with 1 Axes>"
      ]
     },
     "metadata": {
      "needs_background": "light"
     },
     "output_type": "display_data"
    }
   ],
   "source": [
    "huber = MultiOutputRegressor(linear_model.HuberRegressor(max_iter = 10000))\n",
    "trainModel(huber)\n",
    "strategyArray.append(\"Huber\")\n",
    "plotDistribution(huber)"
   ]
  },
  {
   "cell_type": "code",
   "execution_count": 13,
   "metadata": {},
   "outputs": [
    {
     "name": "stdout",
     "output_type": "stream",
     "text": [
      "[[1.         0.08333333 0.52       0.04333333]\n",
      " [1.         0.08333333 0.52       0.04333333]\n",
      " [1.         0.08333333 0.52       0.04333333]\n",
      " ...\n",
      " [0.8        0.06666667 0.82       0.06833333]\n",
      " [0.8        0.06666667 0.82       0.06833333]\n",
      " [0.8        0.06666667 0.82       0.06833333]]\n",
      "[[0.7        0.05833333 0.98       0.08166667]\n",
      " [0.7        0.05833333 0.98       0.08166667]\n",
      " [0.7        0.05833333 0.98       0.08166667]\n",
      " ...\n",
      " [0.64       0.05333333 0.42       0.035     ]\n",
      " [0.64       0.05333333 0.42       0.035     ]\n",
      " [0.64       0.05333333 0.42       0.035     ]]\n",
      "[[0.42       0.035      0.7        0.05833333]\n",
      " [0.42       0.035      0.7        0.05833333]\n",
      " [0.42       0.035      0.7        0.05833333]\n",
      " ...\n",
      " [0.5        0.04166667 0.88       0.07333333]\n",
      " [0.5        0.04166667 0.88       0.07333333]\n",
      " [0.5        0.04166667 0.88       0.07333333]]\n",
      "[[0.34       0.02833333 0.94       0.07833333]\n",
      " [0.34       0.02833333 0.94       0.07833333]\n",
      " [0.34       0.02833333 0.94       0.07833333]\n",
      " ...\n",
      " [1.         0.08333333 0.66       0.055     ]\n",
      " [1.         0.08333333 0.66       0.055     ]\n",
      " [1.         0.08333333 0.66       0.055     ]]\n",
      "[[1.         0.08333333 0.62       0.05166667]\n",
      " [1.         0.08333333 0.62       0.05166667]\n",
      " [1.         0.08333333 0.62       0.05166667]\n",
      " ...\n",
      " [0.12       0.01       0.94       0.07833333]\n",
      " [0.12       0.01       0.94       0.07833333]\n",
      " [0.12       0.01       0.94       0.07833333]]\n",
      "[1.97905759 2.0460733  2.79764398 1.81544503 2.60026178] => 2.25 (+/- 0.76)\n",
      "[0.19790576 0.20460733 0.2797644  0.1815445  0.26002618] => 0.22 (+/- 0.08)\n"
     ]
    },
    {
     "data": {
      "image/png": "[encoded data removed]",
      "text/plain": [
       "<Figure size 720x360 with 1 Axes>"
      ]
     },
     "metadata": {
      "needs_background": "light"
     },
     "output_type": "display_data"
    }
   ],
   "source": [
    "knn = MultiOutputRegressor(KNeighborsRegressor())\n",
    "trainModel(knn)\n",
    "strategyArray.append(\"KNN\")\n",
    "plotDistribution(knn)"
   ]
  },
  {
   "cell_type": "code",
   "execution_count": 14,
   "metadata": {},
   "outputs": [
    {
     "name": "stdout",
     "output_type": "stream",
     "text": [
      "[[0.78777389 0.06184785 0.74019577 0.06730804]\n",
      " [0.78777389 0.06184785 0.74019577 0.06730804]\n",
      " [0.78777389 0.06184785 0.74019577 0.06730804]\n",
      " ...\n",
      " [0.7101077  0.05917564 0.90264442 0.07522037]\n",
      " [0.7101077  0.05917564 0.90264442 0.07522037]\n",
      " [0.7101077  0.05917564 0.90264442 0.07522037]]\n",
      "[[0.7908078  0.06590065 0.92509923 0.0770916 ]\n",
      " [0.7908078  0.06590065 0.92509923 0.0770916 ]\n",
      " [0.7908078  0.06590065 0.92509923 0.0770916 ]\n",
      " ...\n",
      " [0.67130258 0.05594188 0.49875213 0.04156268]\n",
      " [0.67130258 0.05594188 0.49875213 0.04156268]\n",
      " [0.67130258 0.05594188 0.49875213 0.04156268]]\n",
      "[[0.66882664 0.05573555 0.82093003 0.06841084]\n",
      " [0.66882664 0.05573555 0.82093003 0.06841084]\n",
      " [0.66882664 0.05573555 0.82093003 0.06841084]\n",
      " ...\n",
      " [0.46858806 0.03904901 0.90836028 0.07569669]\n",
      " [0.46858806 0.03904901 0.90836028 0.07569669]\n",
      " [0.46858806 0.03904901 0.90836028 0.07569669]]\n",
      "[[0.41910746 0.03492562 0.97698946 0.08141579]\n",
      " [0.41910746 0.03492562 0.97698946 0.08141579]\n",
      " [0.41910746 0.03492562 0.97698946 0.08141579]\n",
      " ...\n",
      " [1.         0.08333333 0.67129802 0.05560906]\n",
      " [1.         0.08333333 0.67129802 0.05560906]\n",
      " [1.         0.08333333 0.67129802 0.05560906]]\n",
      "[[1.         0.08333333 0.69928285 0.05827357]\n",
      " [1.         0.08333333 0.69928285 0.05827357]\n",
      " [1.         0.08333333 0.69928285 0.05827357]\n",
      " ...\n",
      " [0.15468178 0.01289015 0.91695304 0.07641275]\n",
      " [0.15468178 0.01289015 0.91695304 0.07641275]\n",
      " [0.15468178 0.01289015 0.91695304 0.07641275]]\n",
      "[1.98981887 2.31108582 2.81690437 1.57206541 2.35300779] => 2.21 (+/- 0.83)\n",
      "[0.20534735 0.2312332  0.28192881 0.15919797 0.23503552] => 0.22 (+/- 0.08)\n"
     ]
    },
    {
     "data": {
      "image/png": "[encoded data removed]",
      "text/plain": [
       "<Figure size 720x360 with 1 Axes>"
      ]
     },
     "metadata": {
      "needs_background": "light"
     },
     "output_type": "display_data"
    }
   ],
   "source": [
    "from sklearn.ensemble import BaggingRegressor\n",
    "from sklearn.tree import ExtraTreeRegressor\n",
    "\n",
    "extra_tree = ExtraTreeRegressor(criterion = \"mse\", random_state=0)\n",
    "bret = MultiOutputRegressor(BaggingRegressor(base_estimator = extra_tree, n_estimators = 100, random_state = 0))\n",
    "trainModel(bret)\n",
    "strategyArray.append(\"Extra Tree\")\n",
    "plotDistribution(bret)"
   ]
  },
  {
   "cell_type": "markdown",
   "metadata": {},
   "source": [
    "# Plotting error boxplots"
   ]
  },
  {
   "cell_type": "code",
   "execution_count": 15,
   "metadata": {},
   "outputs": [
    {
     "data": {
      "image/png": "[encoded data removed]",
      "text/plain": [
       "<Figure size 720x360 with 1 Axes>"
      ]
     },
     "metadata": {
      "needs_background": "light"
     },
     "output_type": "display_data"
    },
    {
     "data": {
      "image/png": "[encoded data removed]",
      "text/plain": [
       "<Figure size 720x360 with 1 Axes>"
      ]
     },
     "metadata": {
      "needs_background": "light"
     },
     "output_type": "display_data"
    }
   ],
   "source": [
    "plotGainError()\n",
    "plotLossError()"
   ]
  }
 ],
 "metadata": {
  "kernelspec": {
   "display_name": "Python 3",
   "language": "python",
   "name": "python3"
  },
  "language_info": {
   "codemirror_mode": {
    "name": "ipython",
    "version": 3
   },
   "file_extension": ".py",
   "mimetype": "text/x-python",
   "name": "python",
   "nbconvert_exporter": "python",
   "pygments_lexer": "ipython3",
   "version": "3.7.3"
  }
 },
 "nbformat": 4,
 "nbformat_minor": 2
}
