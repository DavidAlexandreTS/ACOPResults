{
 "cells": [
  {
   "cell_type": "markdown",
   "metadata": {},
   "source": [
    "# Imports and dataset loading"
   ]
  },
  {
   "cell_type": "code",
   "execution_count": 1,
   "metadata": {
    "scrolled": true
   },
   "outputs": [
    {
     "name": "stderr",
     "output_type": "stream",
     "text": [
      "Using TensorFlow backend.\n"
     ]
    }
   ],
   "source": [
    "import numpy as np\n",
    "import matplotlib.pyplot as plt\n",
    "import math\n",
    "from sklearn.multioutput import MultiOutputRegressor\n",
    "from sklearn import linear_model\n",
    "from sklearn.neighbors import KNeighborsRegressor\n",
    "from sklearn.kernel_ridge import KernelRidge\n",
    "from sklearn.neural_network import MLPRegressor\n",
    "from sklearn.svm import SVR\n",
    "from sklearn.preprocessing import MinMaxScaler\n",
    "from keras.models import Sequential\n",
    "from keras.layers import Dense\n",
    "from keras.wrappers.scikit_learn import KerasRegressor\n",
    "import pandas as pd\n",
    "\n",
    "strategyArray  = []\n",
    "gainArray      = []\n",
    "lossArray      = []\n",
    "channelTypeQnt = 3\n",
    "ampNumber      = 3\n",
    "\n",
    "originalDataSet = []\n",
    "binaryDataSet   = []\n",
    "\n",
    "gainScalerList = []\n",
    "lossScalerList = []\n",
    "\n",
    "originalDataSet.append(pd.read_csv('../datasets/1_channel_type/dataset-{}.txt'.format(ampNumber), sep = ',',header = None))\n",
    "originalDataSet.append(pd.read_csv('../datasets/2_channel_type/dataset-{}.txt'.format(ampNumber), sep = ',',header = None))\n",
    "originalDataSet.append(pd.read_csv('../datasets/4_channel_type/dataset-{}.txt'.format(ampNumber), sep = ',',header = None))\n",
    "\n",
    "for i in range(channelTypeQnt):\n",
    "    binaryDataSet.append([])\n",
    "    for line in originalDataSet[i].values:\n",
    "        myList = [1 if i != 0 else 0 for i in line[:40]]\n",
    "        myList.extend(line[40:])\n",
    "        binaryDataSet[i].append(myList)\n",
    "\n",
    "    binaryDataSet[i] = pd.DataFrame(binaryDataSet[i])\n",
    "    gainScaler       = MinMaxScaler(feature_range = (-1, 1))\n",
    "    lossScaler       = MinMaxScaler(feature_range = (-1, 1))\n",
    "\n",
    "    gainScalerAux = []\n",
    "    lossScalerAux = []\n",
    "    \n",
    "    for j in range(0, ampNumber * 2, 2):\n",
    "        gainScalerAux.extend(binaryDataSet[i].values[:, 40 + j])\n",
    "        lossScalerAux.extend(binaryDataSet[i].values[:, 40 + j + 1])\n",
    "\n",
    "    gainScaler.fit(np.array(gainScalerAux).reshape(-1, 1))\n",
    "    lossScaler.fit(np.array(lossScalerAux).reshape(-1, 1))\n",
    "    \n",
    "    gainScalerList.append(gainScaler)\n",
    "    lossScalerList.append(lossScaler)\n",
    "\n",
    "def loadDataset(channelIndex): \n",
    "    dataSet = binaryDataSet[channelIndex].values[:, :40]\n",
    "    \n",
    "    for i in range(0, ampNumber * 2, 2):\n",
    "        gain    = np.array(binaryDataSet[channelIndex].values[:, 40 + i])\n",
    "        gain    = gainScaler.transform(gain.reshape(-1, 1))\n",
    "        dataSet = np.hstack((dataSet, gain))\n",
    "        \n",
    "        loss    = np.array(binaryDataSet[channelIndex].values[:, 40 + i + 1])\n",
    "        loss    = lossScaler.transform(loss.reshape(-1, 1))\n",
    "        dataSet = np.hstack((dataSet, loss))\n",
    "            \n",
    "    features, result = np.array(dataSet[:, :40]), np.array(dataSet[:, 40:])\n",
    "    return features, result\n",
    "\n",
    "def invertGainNorm(value, channelIndex):\n",
    "    auxArray = np.array([value, 0, 0, 0, 0, 0]).reshape(-1, 1)\n",
    "    return gainScalerList[channelIndex].inverse_transform(auxArray)[0][0]\n",
    "\n",
    "def invertLossNorm(value, channelIndex):\n",
    "    auxArray = np.array([value, 0, 0, 0, 0, 0]).reshape(-1, 1)\n",
    "    return lossScalerList[channelIndex].inverse_transform(auxArray)[0][0]\n",
    "    \n",
    "def getGainError(value1, value2, channelIndex):\n",
    "    return abs(invertGainNorm(value1, channelIndex) - invertGainNorm(value2, channelIndex))\n",
    "\n",
    "def getLossError(value1, value2, channelIndex):\n",
    "    return abs(invertLossNorm(value1, channelIndex) - invertLossNorm(value2, channelIndex))\n",
    "\n",
    "features, result = loadDataset(0)"
   ]
  },
  {
   "cell_type": "markdown",
   "metadata": {},
   "source": [
    "# Cross validation function"
   ]
  },
  {
   "cell_type": "code",
   "execution_count": 2,
   "metadata": {},
   "outputs": [],
   "source": [
    "def crossValidate(regressor, features, result, folds = 5):\n",
    "    foldSize   = math.ceil(features.shape[0] / folds)\n",
    "    gainErrors = []\n",
    "    lossErrors = []\n",
    "    \n",
    "    for i in range(folds): \n",
    "        sliceBegin = i * foldSize\n",
    "        sliceEnd   = (i + 1) * foldSize\n",
    "        \n",
    "        X_train = np.delete(features, np.s_[sliceBegin: sliceEnd], 0)\n",
    "        y_train = np.delete(result, np.s_[sliceBegin: sliceEnd], 0)\n",
    "        \n",
    "        if isinstance(regressor, Sequential):\n",
    "            regressor.fit(X_train, y_train, epochs = 500, verbose = 0)  \n",
    "        else:\n",
    "            regressor.fit(X_train, y_train)\n",
    "            \n",
    "        X_test = features[sliceBegin: sliceEnd]\n",
    "        y_test = result[sliceBegin: sliceEnd]\n",
    "        \n",
    "        gainError = 0\n",
    "        lossError = 0\n",
    "        \n",
    "        prediction = regressor.predict(X_test)\n",
    "        \n",
    "        for predicted, expected in zip(prediction, y_test):\n",
    "            for i in range(0, ampNumber * 2, 2):\n",
    "                gainError += getGainError(predicted[i], expected[i], 0) \n",
    "                lossError += getLossError(predicted[i + 1], expected[i + 1], 0)\n",
    "                 \n",
    "        gainErrors.append((gainError / ampNumber) / foldSize)\n",
    "        lossErrors.append((lossError / ampNumber) / foldSize) # average loss error by amp\n",
    "        \n",
    "    return np.array(gainErrors), np.array(lossErrors)"
   ]
  },
  {
   "cell_type": "code",
   "execution_count": 3,
   "metadata": {
    "scrolled": false
   },
   "outputs": [],
   "source": [
    "def trainModel(strategy, channelIndex):   \n",
    "    features, result       = loadDataset(channelIndex)\n",
    "    gainErrors, lossErrors = crossValidate(strategy, features, result)\n",
    "\n",
    "    print(gainErrors, \"=> %0.2f (+/- %0.2f)\" % (np.mean(gainErrors), gainErrors.std() * 2))\n",
    "    print(lossErrors, \"=> %0.2f (+/- %0.2f)\" % (np.mean(lossErrors), lossErrors.std() * 2))\n",
    "    \n",
    "    gainArray[channelIndex].append(gainErrors)\n",
    "    lossArray[channelIndex].append(lossErrors)\n",
    "    \n",
    "    return gainErrors, lossErrors"
   ]
  },
  {
   "cell_type": "code",
   "execution_count": 4,
   "metadata": {},
   "outputs": [],
   "source": [
    "def setANN():\n",
    "    model = Sequential()\n",
    "    \n",
    "    model.add(Dense(4, input_dim = 4, kernel_initializer = 'random_uniform', activation = 'sigmoid'))\n",
    "    model.add(Dense(8, kernel_initializer = 'normal', activation = 'sigmoid'))\n",
    "    model.add(Dense(16, kernel_initializer = 'normal', activation = 'sigmoid'))\n",
    "    model.add(Dense(16, kernel_initializer = 'normal', activation = 'sigmoid'))\n",
    "    model.add(Dense(32, kernel_initializer = 'normal', activation = 'sigmoid'))  \n",
    "    model.add(Dense(32, kernel_initializer = 'normal', activation = 'sigmoid'))\n",
    "    model.add(Dense(64, kernel_initializer = 'normal', activation = 'sigmoid'))\n",
    "    model.add(Dense(64, kernel_initializer = 'normal', activation = 'sigmoid'))\n",
    "    model.add(Dense(64, kernel_initializer = 'normal', activation = 'sigmoid')) \n",
    "    model.add(Dense(64, kernel_initializer = 'normal', activation = 'sigmoid'))\n",
    "    model.add(Dense(32, kernel_initializer = 'normal', activation = 'sigmoid'))\n",
    "    model.add(Dense(32, kernel_initializer = 'normal', activation = 'sigmoid'))\n",
    "    model.add(Dense(16, kernel_initializer = 'normal', activation = 'sigmoid'))  \n",
    "    model.add(Dense(16, kernel_initializer = 'normal', activation = 'sigmoid'))\n",
    "    model.add(Dense(8, kernel_initializer = 'normal', activation = 'sigmoid'))\n",
    "    model.add(Dense(8, kernel_initializer = 'normal', activation = 'sigmoid'))\n",
    "    model.add(Dense(4, kernel_initializer = 'normal', activation = 'sigmoid'))\n",
    "    model.add(Dense(2, kernel_initializer = 'random_uniform', activation = 'relu'))\n",
    "\n",
    "    # Compile model\n",
    "    model.compile(loss='mean_squared_error', optimizer='adam')\n",
    "    return model"
   ]
  },
  {
   "cell_type": "markdown",
   "metadata": {},
   "source": [
    "# Plotting functions"
   ]
  },
  {
   "cell_type": "code",
   "execution_count": 5,
   "metadata": {},
   "outputs": [],
   "source": [
    "def plotErrorBoxPlots():\n",
    "    fig, axis = plt.subplots(2, 3, figsize = (10, 5))\n",
    "    \n",
    "    p1 = axis[0, 0].boxplot(gainArray[0])\n",
    "    axis[0, 0].set_ylabel(\"Gain Absolute Error (dB)\", fontsize = 8)\n",
    "    axis[0, 0].set_ylim([1, 5])\n",
    "    \n",
    "    axis[0, 1].boxplot(gainArray[1])\n",
    "    axis[0, 1].set_ylim([1, 5])\n",
    "    #axis[0, 1].get_yaxis().set_visible(False)\n",
    "    \n",
    "    axis[0, 2].boxplot(gainArray[2])\n",
    "    axis[0, 2].set_ylim([1, 5])\n",
    "    #axis[0, 2].get_yaxis().set_visible(False)\n",
    "    \n",
    "    axis[1, 0].boxplot(lossArray[0])\n",
    "    axis[1, 0].set_ylabel(\"Loss Absolute Error (dB)\", fontsize = 8)\n",
    "    axis[1, 0].set_xlabel(\"1 channel type\", fontsize = 8)\n",
    "    axis[1, 0].set_ylim([1, 5])\n",
    "    \n",
    "    axis[1, 1].boxplot(lossArray[1])\n",
    "    axis[1, 1].set_xlabel(\"2 channel type\", fontsize = 8)\n",
    "    axis[1, 1].set_ylim([1, 5])\n",
    "    #axis[1, 1].get_yaxis().set_visible(False)\n",
    "    \n",
    "    axis[1, 2].boxplot(lossArray[2])\n",
    "    axis[1, 2].set_xlabel(\"4 channel type\", fontsize = 8)\n",
    "    axis[1, 2].set_ylim([1, 5])\n",
    "    #axis[1, 2].get_yaxis().set_visible(False)\n",
    "    \n",
    "    fig.suptitle(\"Train error\", fontsize = 16)\n",
    "    fig.legend(p1[\"boxes\"], strategyArray, handlelength = 0, bbox_to_anchor=(0.7, 0.81), loc = \"right\")\n",
    "    \n",
    "    #fix scale\n",
    "    \n",
    "    plt.show()"
   ]
  },
  {
   "cell_type": "code",
   "execution_count": 6,
   "metadata": {},
   "outputs": [],
   "source": [
    "def plotGainDistribution(regressor):\n",
    "    return\n",
    "    features, result = loadDataset(channelIndex)\n",
    "\n",
    "    predicted = regressor.predict(features)\n",
    "    fig, axis = plt.subplots(figsize = (10, 5))\n",
    "    vFunc     = np.vectorize(invertGainNorm)\n",
    "    \n",
    "    axis.scatter(vFunc(result[:, 0], 0), vFunc(predicted[:, 0], 0))\n",
    "    axis.set_title(\"Gain Distribution\")\n",
    "    axis.set_xlabel(\"Expected\")\n",
    "    axis.set_ylabel(\"Predicted\")\n",
    "\n",
    "    plt.show()"
   ]
  },
  {
   "cell_type": "code",
   "execution_count": 7,
   "metadata": {},
   "outputs": [],
   "source": [
    "def plotLossDistribution(regressor):\n",
    "    return\n",
    "    features, result = loadDataset(0)\n",
    "\n",
    "    predicted = regressor.predict(features)\n",
    "    fig, axis = plt.subplots(figsize = (10, 5))\n",
    "    vFunc     = np.vectorize(invertLossNorm)\n",
    "    \n",
    "    axis.scatter(vFunc(result[:, 1], 0), vFunc(predicted[:, 1], 0), c = \"m\")\n",
    "    axis.set_title(\"Loss Distribution\")\n",
    "    axis.set_xlabel(\"Expected\")\n",
    "    axis.set_ylabel(\"Predicted\")\n",
    "\n",
    "    plt.show()"
   ]
  },
  {
   "cell_type": "markdown",
   "metadata": {},
   "source": [
    "# Putting all together"
   ]
  },
  {
   "cell_type": "code",
   "execution_count": 8,
   "metadata": {},
   "outputs": [],
   "source": [
    "gainArray = [[],[],[]]\n",
    "lossArray = [[],[],[]]"
   ]
  },
  {
   "cell_type": "code",
   "execution_count": 9,
   "metadata": {},
   "outputs": [
    {
     "name": "stdout",
     "output_type": "stream",
     "text": [
      "[3.34177589 1.50650642 1.74076777 2.43392095 1.88913978] => 2.18 (+/- 1.31)\n",
      "[2.48908789 2.51969159 2.34991238 1.98329254 1.95394755] => 2.26 (+/- 0.49)\n",
      "[2.0929283  2.52473948 1.83531803 1.54806623 1.55095855] => 1.91 (+/- 0.74)\n",
      "[2.32017531 2.44754479 2.0515212  2.43325604 1.40228091] => 2.13 (+/- 0.78)\n",
      "[2.30966275 2.02691747 1.59239879 2.01591653 1.73110783] => 1.94 (+/- 0.50)\n",
      "[2.29897867 2.41166369 1.99494501 2.17224313 2.13345991] => 2.20 (+/- 0.29)\n"
     ]
    }
   ],
   "source": [
    "for i in range(channelTypeQnt):\n",
    "    linearSVR = MultiOutputRegressor(SVR(kernel = \"rbf\", C = 1.0, gamma = 'scale', epsilon = 0.2))\n",
    "    trainModel(linearSVR, i)\n",
    "    \n",
    "strategyArray.append(\"1 - SVR (Linear)\")\n",
    "plotGainDistribution(linearSVR)\n",
    "plotLossDistribution(linearSVR)"
   ]
  },
  {
   "cell_type": "code",
   "execution_count": 10,
   "metadata": {},
   "outputs": [
    {
     "name": "stdout",
     "output_type": "stream",
     "text": [
      "[2.52914018 2.77730581 2.32132602 2.70212385 2.33653191] => 2.53 (+/- 0.37)\n",
      "[1.84829707 2.22327929 1.89257005 1.89843164 1.4330277 ] => 1.86 (+/- 0.50)\n",
      "[2.06904142 2.62088822 1.90717889 1.83072458 1.71325535] => 2.03 (+/- 0.64)\n",
      "[2.34009105 2.23332929 2.33731191 2.43387093 1.51539817] => 2.17 (+/- 0.67)\n",
      "[2.35924953 2.44443262 2.12116081 2.25883477 2.2068021 ] => 2.28 (+/- 0.23)\n",
      "[2.15406922 2.33997295 1.89879427 1.91247781 1.9559682 ] => 2.05 (+/- 0.34)\n"
     ]
    }
   ],
   "source": [
    "for i in range(channelTypeQnt):\n",
    "    lasso = MultiOutputRegressor(linear_model.Lasso(alpha = 0.2))\n",
    "    trainModel(lasso, i)\n",
    "    \n",
    "strategyArray.append(\"2 - Lasso\")\n",
    "plotGainDistribution(lasso)\n",
    "plotLossDistribution(lasso)"
   ]
  },
  {
   "cell_type": "code",
   "execution_count": 11,
   "metadata": {},
   "outputs": [
    {
     "name": "stdout",
     "output_type": "stream",
     "text": [
      "[2.80612454 2.80836952 2.31540246 2.71946073 2.3755051 ] => 2.60 (+/- 0.43)\n",
      "[2.12119838 2.18576466 1.89840759 1.89219515 1.51305192] => 1.92 (+/- 0.47)\n",
      "[2.16487554 2.55630219 1.82015112 1.78750399 1.68203748] => 2.00 (+/- 0.64)\n",
      "[2.28162808 2.22131928 2.20763426 2.34197784 1.39967089] => 2.09 (+/- 0.70)\n",
      "[2.34520586 2.28020513 1.9329439  2.23111389 2.24605265] => 2.21 (+/- 0.29)\n",
      "[1.9370181  2.1285657  1.61957325 1.7654703  1.87336286] => 1.86 (+/- 0.34)\n"
     ]
    }
   ],
   "source": [
    "for i in range(channelTypeQnt):\n",
    "    lars = MultiOutputRegressor(linear_model.Lars(n_nonzero_coefs=1))\n",
    "    trainModel(lars, i)\n",
    "    \n",
    "strategyArray.append(\"3 - LARS\")\n",
    "plotGainDistribution(lars)\n",
    "plotLossDistribution(lars)"
   ]
  },
  {
   "cell_type": "code",
   "execution_count": 12,
   "metadata": {},
   "outputs": [
    {
     "name": "stdout",
     "output_type": "stream",
     "text": [
      "[3.4003114  1.01991659 1.20600238 2.36876676 2.0696539 ] => 2.01 (+/- 1.72)\n",
      "[3.51772344 1.97128242 1.96581829 1.70826203 1.84448393] => 2.20 (+/- 1.33)\n",
      "[2.23231025 2.50120396 1.47260603 2.92340406 3.13905834] => 2.45 (+/- 1.17)\n",
      "[2.24024562 2.58156309 1.64793587 2.26366101 1.95069414] => 2.14 (+/- 0.63)\n",
      "[3.86223852 2.11081848 3.05583815 1.93423967 2.63405092] => 2.72 (+/- 1.39)\n",
      "[3.87723717 3.09931623 2.47708727 2.22441656 2.21518316] => 2.78 (+/- 1.27)\n"
     ]
    }
   ],
   "source": [
    "for i in range(channelTypeQnt):\n",
    "    huber = MultiOutputRegressor(linear_model.HuberRegressor(max_iter = 10000))\n",
    "    trainModel(huber, i)\n",
    "    \n",
    "strategyArray.append(\"4 - Huber\")\n",
    "plotGainDistribution(huber)\n",
    "plotLossDistribution(huber)"
   ]
  },
  {
   "cell_type": "code",
   "execution_count": 13,
   "metadata": {},
   "outputs": [
    {
     "name": "stdout",
     "output_type": "stream",
     "text": [
      "[3.3291954  0.92965517 1.28873563 2.53655172 2.05793103] => 2.03 (+/- 1.72)\n",
      "[2.25716475 2.20199234 1.70012771 1.70748404 2.01481481] => 1.98 (+/- 0.47)\n",
      "[1.87409283 2.39054852 1.70835443 1.42194093 1.72523207] => 1.82 (+/- 0.64)\n",
      "[2.20789498 2.04346929 1.79818097 2.35221753 2.72892639] => 2.23 (+/- 0.62)\n",
      "[3.09416196 1.80094162 1.35951036 2.63427495 1.44642185] => 2.07 (+/- 1.37)\n",
      "[2.06160285 2.68349027 1.80774221 2.07558067 1.51830927] => 2.03 (+/- 0.77)\n"
     ]
    }
   ],
   "source": [
    "for i in range(channelTypeQnt):\n",
    "    knn = MultiOutputRegressor(KNeighborsRegressor())\n",
    "    trainModel(knn, i)\n",
    "    \n",
    "strategyArray.append(\"5 - KNN\")\n",
    "plotGainDistribution(knn)\n",
    "plotLossDistribution(knn)"
   ]
  },
  {
   "cell_type": "code",
   "execution_count": 14,
   "metadata": {},
   "outputs": [
    {
     "name": "stdout",
     "output_type": "stream",
     "text": [
      "[3.68523287 0.95431625 1.26905461 2.46191204 2.07347769] => 2.09 (+/- 1.93)\n",
      "[2.32106063 1.93415915 1.87966181 1.72837581 1.8218785 ] => 1.94 (+/- 0.41)\n",
      "[1.87675342 2.60297889 1.6529941  1.21026739 1.10712344] => 1.69 (+/- 1.07)\n",
      "[2.15040716 2.09778314 1.72513709 2.17335304 1.18681811] => 1.87 (+/- 0.75)\n",
      "[2.81114338 1.6182419  1.08243573 2.10414512 1.65989345] => 1.86 (+/- 1.15)\n",
      "[2.15257188 1.93808239 1.79295215 2.15274154 1.74891904] => 1.96 (+/- 0.34)\n"
     ]
    }
   ],
   "source": [
    "from sklearn.ensemble import BaggingRegressor\n",
    "from sklearn.tree import ExtraTreeRegressor\n",
    "\n",
    "for i in range(channelTypeQnt):\n",
    "    extra_tree = ExtraTreeRegressor(criterion = \"mse\", random_state=0)\n",
    "    bret = MultiOutputRegressor(BaggingRegressor(base_estimator = extra_tree, n_estimators = 100, random_state = 0))\n",
    "    trainModel(bret, i)\n",
    "    \n",
    "strategyArray.append(\"6 - Extra Tree\")\n",
    "plotGainDistribution(bret)\n",
    "plotLossDistribution(bret)"
   ]
  },
  {
   "cell_type": "code",
   "execution_count": 15,
   "metadata": {},
   "outputs": [
    {
     "name": "stdout",
     "output_type": "stream",
     "text": [
      "[3.68515904 0.95461468 1.26951088 2.45756406 2.07402041] => 2.09 (+/- 1.93)\n",
      "[2.32146753 1.93492735 1.88375718 1.73098547 1.82259445] => 1.94 (+/- 0.41)\n",
      "[1.81335158 2.60604377 1.67041601 1.21094092 1.10328476] => 1.68 (+/- 1.07)\n",
      "[2.24023863 2.25486052 1.73776173 2.17147524 1.14878432] => 1.91 (+/- 0.85)\n",
      "[2.83070163 1.4976782  1.20911617 2.08796352 1.45009547] => 1.82 (+/- 1.17)\n",
      "[2.16694023 1.98105271 1.77284377 2.04653747 1.62578393] => 1.92 (+/- 0.39)\n"
     ]
    }
   ],
   "source": [
    "from sklearn.ensemble import RandomForestRegressor\n",
    "\n",
    "for i in range(channelTypeQnt):\n",
    "    randomForest = RandomForestRegressor(max_depth = 8, random_state = 0, n_estimators = 100)\n",
    "    trainModel(randomForest, i)\n",
    "\n",
    "strategyArray.append(\"7 - Random Forest\")\n",
    "plotGainDistribution(randomForest)\n",
    "plotLossDistribution(randomForest)"
   ]
  },
  {
   "cell_type": "markdown",
   "metadata": {},
   "source": [
    "# Plotting error boxplots"
   ]
  },
  {
   "cell_type": "code",
   "execution_count": 16,
   "metadata": {},
   "outputs": [
    {
     "data": {
      "image/png": "[encoded data removed]",
      "text/plain": [
       "<Figure size 720x360 with 6 Axes>"
      ]
     },
     "metadata": {
      "needs_background": "light"
     },
     "output_type": "display_data"
    }
   ],
   "source": [
    "plotErrorBoxPlots()"
   ]
  }
 ],
 "metadata": {
  "kernelspec": {
   "display_name": "Python 3",
   "language": "python",
   "name": "python3"
  },
  "language_info": {
   "codemirror_mode": {
    "name": "ipython",
    "version": 3
   },
   "file_extension": ".py",
   "mimetype": "text/x-python",
   "name": "python",
   "nbconvert_exporter": "python",
   "pygments_lexer": "ipython3",
   "version": "3.7.3"
  }
 },
 "nbformat": 4,
 "nbformat_minor": 2
}
